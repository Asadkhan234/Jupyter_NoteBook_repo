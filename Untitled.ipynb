{
 "cells": [
  {
   "cell_type": "code",
   "execution_count": 17,
   "id": "e9f2e2d4-8887-4829-8bff-97c442f480f0",
   "metadata": {},
   "outputs": [
    {
     "data": {
      "text/plain": [
       "15"
      ]
     },
     "execution_count": 17,
     "metadata": {},
     "output_type": "execute_result"
    }
   ],
   "source": [
    "age = 15\n",
    "age"
   ]
  },
  {
   "cell_type": "code",
   "execution_count": 31,
   "id": "706b3d52-dc72-416a-a3e5-d464d8dc2880",
   "metadata": {},
   "outputs": [
    {
     "data": {
      "text/plain": [
       "'Hellow,world!'"
      ]
     },
     "execution_count": 31,
     "metadata": {},
     "output_type": "execute_result"
    }
   ],
   "source": [
    "message = 'Hellow,world!'\n",
    "message"
   ]
  },
  {
   "cell_type": "code",
   "execution_count": 33,
   "id": "93d6555c-c679-4cba-b728-ed32543b9e65",
   "metadata": {},
   "outputs": [
    {
     "data": {
      "text/plain": [
       "'HELLOW,WORLD!'"
      ]
     },
     "execution_count": 33,
     "metadata": {},
     "output_type": "execute_result"
    }
   ],
   "source": [
    "message.upper()"
   ]
  },
  {
   "cell_type": "code",
   "execution_count": 35,
   "id": "f8f713ea-5956-44b2-84c3-158458b8de57",
   "metadata": {},
   "outputs": [
    {
     "data": {
      "text/plain": [
       "str"
      ]
     },
     "execution_count": 35,
     "metadata": {},
     "output_type": "execute_result"
    }
   ],
   "source": [
    "type(message)"
   ]
  },
  {
   "cell_type": "code",
   "execution_count": 37,
   "id": "2d5f8aa0-0216-43b5-a9c8-4d4f2d7d1166",
   "metadata": {},
   "outputs": [
    {
     "data": {
      "text/plain": [
       "int"
      ]
     },
     "execution_count": 37,
     "metadata": {},
     "output_type": "execute_result"
    }
   ],
   "source": [
    "type(age)"
   ]
  },
  {
   "cell_type": "code",
   "execution_count": 39,
   "id": "0bad28fd-5aab-495b-91e7-0209dd4c3f76",
   "metadata": {},
   "outputs": [
    {
     "data": {
      "text/plain": [
       "False"
      ]
     },
     "execution_count": 39,
     "metadata": {},
     "output_type": "execute_result"
    }
   ],
   "source": [
    "age > 18"
   ]
  },
  {
   "cell_type": "code",
   "execution_count": 41,
   "id": "d93ed162-2801-4c67-8ad9-a71d71f561dc",
   "metadata": {},
   "outputs": [
    {
     "data": {
      "text/plain": [
       "True"
      ]
     },
     "execution_count": 41,
     "metadata": {},
     "output_type": "execute_result"
    }
   ],
   "source": [
    "age<=21"
   ]
  },
  {
   "cell_type": "code",
   "execution_count": 43,
   "id": "49563712-bf8e-43ea-9b5f-5cba5e0c1113",
   "metadata": {},
   "outputs": [
    {
     "data": {
      "text/plain": [
       "True"
      ]
     },
     "execution_count": 43,
     "metadata": {},
     "output_type": "execute_result"
    }
   ],
   "source": [
    "message == 'Hellow,world!'"
   ]
  },
  {
   "cell_type": "code",
   "execution_count": 45,
   "id": "a52c8cdc-12ac-4227-a000-ac4a6c56dc71",
   "metadata": {},
   "outputs": [
    {
     "data": {
      "text/plain": [
       "True"
      ]
     },
     "execution_count": 45,
     "metadata": {},
     "output_type": "execute_result"
    }
   ],
   "source": [
    "message != 'Goodby!'"
   ]
  },
  {
   "cell_type": "code",
   "execution_count": 47,
   "id": "40c29d2e-98d7-4eb8-a245-a2329b5448ff",
   "metadata": {},
   "outputs": [],
   "source": [
    "x = True\n",
    "y = False\n"
   ]
  },
  {
   "cell_type": "code",
   "execution_count": 49,
   "id": "c7ec1b60-d61d-4e1b-81b3-6bec86021ce7",
   "metadata": {},
   "outputs": [
    {
     "data": {
      "text/plain": [
       "False"
      ]
     },
     "execution_count": 49,
     "metadata": {},
     "output_type": "execute_result"
    }
   ],
   "source": [
    "x and y"
   ]
  },
  {
   "cell_type": "code",
   "execution_count": 51,
   "id": "f65999e8-8e1f-49a7-850c-3445cf6ac7c5",
   "metadata": {},
   "outputs": [
    {
     "data": {
      "text/plain": [
       "True"
      ]
     },
     "execution_count": 51,
     "metadata": {},
     "output_type": "execute_result"
    }
   ],
   "source": [
    "x or y"
   ]
  },
  {
   "cell_type": "code",
   "execution_count": 53,
   "id": "d0dd3a3b-f8d9-4db0-b061-e06bf2b9d5a5",
   "metadata": {},
   "outputs": [
    {
     "data": {
      "text/plain": [
       "False"
      ]
     },
     "execution_count": 53,
     "metadata": {},
     "output_type": "execute_result"
    }
   ],
   "source": [
    "not x"
   ]
  },
  {
   "cell_type": "code",
   "execution_count": 55,
   "id": "5f61e422-5a1a-4e1d-abd9-51ce0a833e69",
   "metadata": {},
   "outputs": [
    {
     "data": {
      "text/plain": [
       "True"
      ]
     },
     "execution_count": 55,
     "metadata": {},
     "output_type": "execute_result"
    }
   ],
   "source": [
    "not y"
   ]
  },
  {
   "cell_type": "code",
   "execution_count": 63,
   "id": "f7ecf375-f896-4d01-8d83-1716aceced3b",
   "metadata": {},
   "outputs": [],
   "source": [
    "result = 5 + 2 * 3 - 10 // 2"
   ]
  },
  {
   "cell_type": "code",
   "execution_count": 65,
   "id": "fcf14c4c-4476-4648-8c87-eb8a7306b300",
   "metadata": {},
   "outputs": [
    {
     "data": {
      "text/plain": [
       "6"
      ]
     },
     "execution_count": 65,
     "metadata": {},
     "output_type": "execute_result"
    }
   ],
   "source": [
    "result"
   ]
  },
  {
   "cell_type": "code",
   "execution_count": 79,
   "id": "dd7e7781-fa51-4610-b57c-a7c36a9d14df",
   "metadata": {},
   "outputs": [
    {
     "name": "stdout",
     "output_type": "stream",
     "text": [
      "Phython Is Fun\n"
     ]
    }
   ],
   "source": [
    "a = 'Phython'\n",
    "b = 'Is Fun'\n",
    "print(a+' '+b)"
   ]
  },
  {
   "cell_type": "code",
   "execution_count": 81,
   "id": "d3de6aa3-0d2a-48bc-ba48-8b1f1184bc47",
   "metadata": {},
   "outputs": [
    {
     "name": "stdout",
     "output_type": "stream",
     "text": [
      "My Age Is 25\n"
     ]
    }
   ],
   "source": [
    "age = 25\n",
    "print(f'My Age Is {age}')"
   ]
  },
  {
   "cell_type": "code",
   "execution_count": 87,
   "id": "d4409797-f2b2-474a-9f95-7bd5c55c7c90",
   "metadata": {},
   "outputs": [
    {
     "data": {
      "text/plain": [
       "int"
      ]
     },
     "execution_count": 87,
     "metadata": {},
     "output_type": "execute_result"
    }
   ],
   "source": [
    "var = int('123')\n",
    "type(var)"
   ]
  },
  {
   "cell_type": "code",
   "execution_count": 91,
   "id": "97d2d4a1-e370-43db-b6cd-0abcb438746c",
   "metadata": {},
   "outputs": [
    {
     "data": {
      "text/plain": [
       "123"
      ]
     },
     "execution_count": 91,
     "metadata": {},
     "output_type": "execute_result"
    }
   ],
   "source": [
    "var"
   ]
  },
  {
   "cell_type": "code",
   "execution_count": 93,
   "id": "b16ecc26-ae89-4241-8a2b-1706463ca6f5",
   "metadata": {},
   "outputs": [
    {
     "data": {
      "text/plain": [
       "str"
      ]
     },
     "execution_count": 93,
     "metadata": {},
     "output_type": "execute_result"
    }
   ],
   "source": [
    "var = str(456)\n",
    "type(var)"
   ]
  },
  {
   "cell_type": "code",
   "execution_count": 13,
   "id": "61a9eefa-d9ee-497c-834c-ab038c755c64",
   "metadata": {},
   "outputs": [
    {
     "name": "stdin",
     "output_type": "stream",
     "text": [
      "What is your name ? Asad\n",
      "What is your age ? 23\n",
      "What is your city name ? karachi\n",
      "Whta Is You Cell No ? 031322478703\n"
     ]
    },
    {
     "name": "stdout",
     "output_type": "stream",
     "text": [
      "Asad23karachi\n",
      "My Name Is Asad . My Age Is 23 . My City is karachi . My Cell No is 031322478703.\n"
     ]
    }
   ],
   "source": [
    "name = input('What is your name ?')\n",
    "age = input('What is your age ?')\n",
    "city = input('What is your city name ?')\n",
    "cell_no = input('Whta Is You Cell No ?')\n",
    "print(name+age+city)\n",
    "print(f'My Name Is {name} . My Age Is {age} . My City is {city} . My Cell No is {cell_no}.' )"
   ]
  },
  {
   "cell_type": "code",
   "execution_count": 15,
   "id": "d799c5df-52da-4251-bdfd-df92bd7e6680",
   "metadata": {},
   "outputs": [
    {
     "name": "stdout",
     "output_type": "stream",
     "text": [
      "100\n"
     ]
    }
   ],
   "source": [
    "length = 20\n",
    "width = 5\n",
    "area = length * width\n",
    "print (area)"
   ]
  },
  {
   "cell_type": "code",
   "execution_count": 41,
   "id": "653a8b39-2637-4a85-ac5e-af17589f72a5",
   "metadata": {},
   "outputs": [
    {
     "name": "stdout",
     "output_type": "stream",
     "text": [
      "20\n"
     ]
    }
   ],
   "source": [
    "one = 10\n",
    "two = 20\n",
    "three = 30\n",
    "average = (one + two + three) // 3\n",
    "print(average)"
   ]
  },
  {
   "cell_type": "code",
   "execution_count": 29,
   "id": "4a125db8-ae54-4f56-b440-b1b2b38bb6a5",
   "metadata": {},
   "outputs": [
    {
     "data": {
      "text/plain": [
       "int"
      ]
     },
     "execution_count": 29,
     "metadata": {},
     "output_type": "execute_result"
    }
   ],
   "source": [
    "type(one)"
   ]
  },
  {
   "cell_type": "code",
   "execution_count": 49,
   "id": "596eabae-aa9e-4f65-8ef2-4fce17a962e8",
   "metadata": {},
   "outputs": [
    {
     "name": "stdout",
     "output_type": "stream",
     "text": [
      "Even\n"
     ]
    }
   ],
   "source": [
    "num = 20\n",
    "if num % 2 == 0:\n",
    "     print('Even')\n",
    "else:\n",
    "     print('Odd')"
   ]
  },
  {
   "cell_type": "code",
   "execution_count": 51,
   "id": "043ac563-6b82-44c2-a00d-4e9c940c8ff8",
   "metadata": {},
   "outputs": [
    {
     "name": "stdout",
     "output_type": "stream",
     "text": [
      "104.0\n"
     ]
    }
   ],
   "source": [
    "cellcius = 40\n",
    "fahrenheit = (cellcius*9/5)+32\n",
    "print (fahrenheit)"
   ]
  },
  {
   "cell_type": "code",
   "execution_count": 57,
   "id": "11c311ba-630f-4efb-b4ac-8291efb16982",
   "metadata": {},
   "outputs": [
    {
     "name": "stdout",
     "output_type": "stream",
     "text": [
      "64\n"
     ]
    }
   ],
   "source": [
    "base = 2\n",
    "exponent = 6\n",
    "res = base ** exponent\n",
    "print(res)"
   ]
  },
  {
   "cell_type": "code",
   "execution_count": null,
   "id": "4739dc0a-686d-45e0-a43e-8eb42bdeadc6",
   "metadata": {},
   "outputs": [],
   "source": []
  }
 ],
 "metadata": {
  "kernelspec": {
   "display_name": "Python [conda env:base] *",
   "language": "python",
   "name": "conda-base-py"
  },
  "language_info": {
   "codemirror_mode": {
    "name": "ipython",
    "version": 3
   },
   "file_extension": ".py",
   "mimetype": "text/x-python",
   "name": "python",
   "nbconvert_exporter": "python",
   "pygments_lexer": "ipython3",
   "version": "3.12.7"
  }
 },
 "nbformat": 4,
 "nbformat_minor": 5
}
