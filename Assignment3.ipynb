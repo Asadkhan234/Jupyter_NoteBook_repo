{
 "cells": [
  {
   "cell_type": "raw",
   "id": "00e49864-2ebc-4c71-a91d-33a0874cbf82",
   "metadata": {},
   "source": [
    "Q1 A company decided to give increment of:\n",
    "5% to employee if his/her year of service is more than 5 years.\n",
    "10% to employee if his/her year of service is more than 10 years\n",
    "15% to employee if his/her year of service is more than 15 years\n",
    "20%\n",
    "Ask user for their salary and year of service and print the net salary amount."
   ]
  },
  {
   "cell_type": "code",
   "execution_count": 2,
   "id": "12237743-9902-496f-93bc-fad3f300a90c",
   "metadata": {},
   "outputs": [
    {
     "name": "stdin",
     "output_type": "stream",
     "text": [
      "Enter Your No Of Service Years:  22\n",
      "Enter Your Salary :  500000\n"
     ]
    },
    {
     "name": "stdout",
     "output_type": "stream",
     "text": [
      "Your Salary is : 500000\n",
      "The Increment You Got Because Of High Service Years : 22 And The Increment Is : 100000.0\n",
      "The Net Salary with Incremenmt is : 600000.0\n"
     ]
    }
   ],
   "source": [
    "Service_Years = int(input('Enter Your No Of Service Years: '))\n",
    "Salary = int(input('Enter Your Salary : '))\n",
    "if Service_Years < 5:\n",
    "    Increment = Salary*0\n",
    "    print(f'Your Salary is : {Salary}')\n",
    "    print(f'No Increment Because Of Less Service Years : {Service_Years}')\n",
    "\n",
    "elif Service_Years < 10:\n",
    "    Increment = Salary*0.05\n",
    "    print(f'Your Salary is : {Salary}')\n",
    "    print(f'The Increment You Got Because Of High Service Years : {Service_Years} And The Increment Is : { Increment}')\n",
    "    print(f'The Net Salary with Incremenmt is : {Salary+Increment}')\n",
    "\n",
    "elif Service_Years < 15:\n",
    "    Increment = Salary*0.10\n",
    "    print(f'Your Salary is : {Salary}')\n",
    "    print(f'The Increment You Got Because Of High Service Years : {Service_Years} And The Increment Is : { Increment}')\n",
    "    print(f'The Net Salary with Incremenmt is : {Salary+Increment}')\n",
    "\n",
    "elif Service_Years < 20:\n",
    "    Increment = Salary*0.15\n",
    "    print(f'Your Salary is : {Salary}')\n",
    "    print(f'The Increment You Got Because Of High Service Years : {Service_Years} And The Increment Is : { Increment}')\n",
    "    print(f'The Net Salary with Incremenmt is : {Salary+Increment}')\n",
    "\n",
    "else:\n",
    "    Increment = Salary*0.20\n",
    "    print(f'Your Salary is : {Salary}')\n",
    "    print(f'The Increment You Got Because Of High Service Years : {Service_Years} And The Increment Is : { Increment}')\n",
    "    print(f'The Net Salary with Incremenmt is : {Salary+Increment}')\n",
    "    \n",
    "    "
   ]
  },
  {
   "cell_type": "raw",
   "id": "f6b326dd-4b57-4942-a8e2-9f11cb232e54",
   "metadata": {},
   "source": [
    "2) Write a program to check whether a person is eligible for voting or not.  \n",
    "ask age of the person , if age is more than or equal to 18 then eligible if less than 18 no eligible"
   ]
  },
  {
   "cell_type": "code",
   "execution_count": 6,
   "id": "8b49a4a3-af6d-4c1b-b805-1e701ea4b245",
   "metadata": {},
   "outputs": [
    {
     "name": "stdin",
     "output_type": "stream",
     "text": [
      "Enter Your Age :  30\n",
      "Enter Your Name :  Asad khan\n"
     ]
    },
    {
     "name": "stdout",
     "output_type": "stream",
     "text": [
      "Your Name Is : Asad khan And Your Age Is 30 . You  Are Eligeble For Vote.\n"
     ]
    }
   ],
   "source": [
    "Age = int(input('Enter Your Age : '))\n",
    "Name = input('Enter Your Name : ')\n",
    "if Age >= 18:\n",
    "    print (f'Your Name Is : {Name} And Your Age Is {Age} . You  Are Eligeble For Vote.')\n",
    "\n",
    "else:\n",
    "     print (f'Your Name Is : {Name} And Your Age Is {Age} . You  Are Not Eligeble For Vote.')"
   ]
  },
  {
   "cell_type": "raw",
   "id": "d4bc43bf-9b3c-474e-8c7a-2a2f8e14781b",
   "metadata": {},
   "source": [
    "3) Take values of length and breadth of a rectangle from user and check if it is square or not."
   ]
  },
  {
   "cell_type": "code",
   "execution_count": 56,
   "id": "67cff9d2-8ec2-46d9-b246-3cfa42adb8a9",
   "metadata": {},
   "outputs": [
    {
     "name": "stdin",
     "output_type": "stream",
     "text": [
      "Enter The Length :  3\n",
      "Enter The Breadth :  4\n"
     ]
    },
    {
     "name": "stdout",
     "output_type": "stream",
     "text": [
      "It Is A Ractangle : 12\n"
     ]
    }
   ],
   "source": [
    "Length = int(input('Enter The Length : '))\n",
    "Breadth = int(input('Enter The Breadth : '))\n",
    "if Length == Breadth:\n",
    "    print(f'It Is A Square : {Length*Breadth} of {Length}')\n",
    "\n",
    "else:\n",
    "     print(f'It Is A Ractangle : {Length*Breadth}')"
   ]
  },
  {
   "cell_type": "raw",
   "id": "a5b12937-86e2-493a-ac89-dbee5cd332c6",
   "metadata": {},
   "source": [
    "4) Write a program to check whether a number entered by user is even or odd.\n",
    "Hint: Use modulo operator (%) to check remainder when divideing with 2 , if remainder is 0 even, else odd "
   ]
  },
  {
   "cell_type": "code",
   "execution_count": 14,
   "id": "12f7661f-516b-42a9-9101-3c18e0daa802",
   "metadata": {},
   "outputs": [
    {
     "name": "stdin",
     "output_type": "stream",
     "text": [
      "Enter The Number:  29\n"
     ]
    },
    {
     "name": "stdout",
     "output_type": "stream",
     "text": [
      "The Number Is Odd : 29\n"
     ]
    }
   ],
   "source": [
    "Number = int(input('Enter The Number: '))\n",
    "if Number%2==0:\n",
    "    print(f'The Number Is Even : {Number}')\n",
    "\n",
    "else:\n",
    "    print(f'The Number Is Odd : {Number}')"
   ]
  },
  {
   "cell_type": "code",
   "execution_count": 64,
   "id": "2cadc7bf-15c1-464c-98db-de193c3fa4ca",
   "metadata": {},
   "outputs": [
    {
     "name": "stdin",
     "output_type": "stream",
     "text": [
      "Enter The Number:  6\n"
     ]
    },
    {
     "name": "stdout",
     "output_type": "stream",
     "text": [
      "The Number Is Even : 6.0\n"
     ]
    }
   ],
   "source": [
    "Number = float(input('Enter The Number: '))\n",
    "if Number%2==0:\n",
    "    print(f'The Number Is Even : {Number}')\n",
    "\n",
    "else:\n",
    "    print(f'The Number Is Odd : {Number}')"
   ]
  },
  {
   "cell_type": "raw",
   "id": "0cef3eff-e34d-4961-93bf-6dd9f05702a3",
   "metadata": {},
   "source": [
    "6) Write a program to display \n",
    "\"Hello\" if a number entered by user is a m\n",
    "ultiple of five , otherwise print \"Bye\".\n",
    "Hint : modulo operator"
   ]
  },
  {
   "cell_type": "code",
   "execution_count": 18,
   "id": "816ab142-0457-4795-b91c-4aa21887b78f",
   "metadata": {},
   "outputs": [
    {
     "name": "stdin",
     "output_type": "stream",
     "text": [
      "Enter The Number:  20\n"
     ]
    },
    {
     "name": "stdout",
     "output_type": "stream",
     "text": [
      "The Number Is Multiple of : 20\n"
     ]
    }
   ],
   "source": [
    "Number = int(input('Enter The Number: '))\n",
    "if Number%5==0:\n",
    "    print(f'The Number Is Multiple of : {Number}')\n",
    "\n",
    "else:\n",
    "    print(f'Bye')"
   ]
  },
  {
   "cell_type": "raw",
   "id": "a83d20de-a122-4024-9feb-b2e206ab747d",
   "metadata": {},
   "source": [
    "7) Write a program to calculate the electricity bill (accept number of unit from user) \n",
    "according to the following criteria :\n",
    "     Unit                                                     Price  \n",
    "upto 100 units                                              no charge\n",
    "Next 200 units                                              Rs 5 per unit\n",
    "After 300 units                                             Rs 10 per unit\n",
    "(For example if input unit is 350 than total bill amount is Rs.1500\n",
    "(For example if input unit is 97 than total bill amount is Rs.0\n",
    "(For example if input unit is 150 than total bill amount is Rs.250"
   ]
  },
  {
   "cell_type": "code",
   "execution_count": 19,
   "id": "b51573af-8c8b-4e36-bd7b-a14c65adf36f",
   "metadata": {},
   "outputs": [
    {
     "name": "stdin",
     "output_type": "stream",
     "text": [
      "Enter Number Of Units You Use :  300\n"
     ]
    },
    {
     "name": "stdout",
     "output_type": "stream",
     "text": [
      "Per Unit Charged By 5 Ruppess.\n",
      "The Total Bill Amount Is : 1000\n"
     ]
    }
   ],
   "source": [
    "No_Of_Units = int(input('Enter Number Of Units You Use : '))\n",
    "if No_Of_Units<=100:\n",
    "    Charge = No_Of_Units*0\n",
    "    print(f'The Total Bill Amount Is : {Charge}')\n",
    "\n",
    "\n",
    "elif No_Of_Units<=300:\n",
    "    Charge = (No_Of_Units-100)*5\n",
    "    print('Per Unit Charged By 5 Ruppess.')\n",
    "    print(f'The Total Bill Amount Is : {Charge}')\n",
    "\n",
    "else:\n",
    "    No_Of_Units>300\n",
    "    Charge = (No_Of_Units-100)*10\n",
    "    print('Per Unit Charged By 10 Ruppess.')\n",
    "    print(f'The Total Bill Amount Is : {Charge}')"
   ]
  },
  {
   "cell_type": "raw",
   "id": "1c620871-cca4-4728-8c6e-b84a21fe3935",
   "metadata": {},
   "source": [
    "7) Write a program to display the last digit of a number. "
   ]
  },
  {
   "cell_type": "code",
   "execution_count": 28,
   "id": "4accda6f-a413-4f0d-87e0-dd5e21dbe2d1",
   "metadata": {},
   "outputs": [
    {
     "name": "stdin",
     "output_type": "stream",
     "text": [
      "Enter a number:  1234\n"
     ]
    },
    {
     "name": "stdout",
     "output_type": "stream",
     "text": [
      "The last digit is: 4\n"
     ]
    }
   ],
   "source": [
    "num = int(input(\"Enter a number: \"))\n",
    "last_digit = abs(num) % 10\n",
    "\n",
    "print(\"The last digit is:\", last_digit)"
   ]
  },
  {
   "cell_type": "raw",
   "id": "8c4934e4-4fca-46ab-a98d-061334d7e5ab",
   "metadata": {},
   "source": [
    " Write a program to check whether the last digit of a number( entered by user ) is \n",
    "divisible by 3 or not."
   ]
  },
  {
   "cell_type": "code",
   "execution_count": 30,
   "id": "3610325a-167e-449b-892a-4bc393dd6e2d",
   "metadata": {},
   "outputs": [
    {
     "name": "stdin",
     "output_type": "stream",
     "text": [
      "Enter a number:  2346\n"
     ]
    },
    {
     "name": "stdout",
     "output_type": "stream",
     "text": [
      "Last Digit Is Divisible By Three : 6\n"
     ]
    }
   ],
   "source": [
    "num = int(input(\"Enter a number: \"))\n",
    "last_digit = abs(num) % 10\n",
    "if last_digit % 3 == 0:\n",
    "    print(f'Last Digit Is Divisible By Three : {last_digit}')\n",
    "\n",
    "else:\n",
    "    print(f'Last Digit Is Not Divisible By Three : {last_digit}')"
   ]
  },
  {
   "cell_type": "raw",
   "id": "c08e49e1-e182-421e-a570-3733353ede58",
   "metadata": {},
   "source": [
    "9) Take two int values from user and print greatest among them."
   ]
  },
  {
   "cell_type": "code",
   "execution_count": 32,
   "id": "53bcbcd7-5300-4842-8522-800912325a17",
   "metadata": {},
   "outputs": [
    {
     "name": "stdin",
     "output_type": "stream",
     "text": [
      "Enter a number One:  22\n",
      "Enter a number Two:  23\n"
     ]
    },
    {
     "name": "stdout",
     "output_type": "stream",
     "text": [
      "Num Two Is Greater Than Num One : 23\n"
     ]
    }
   ],
   "source": [
    "num1 = int(input(\"Enter a number One: \"))\n",
    "num2 = int(input(\"Enter a number Two: \"))\n",
    "if num1>num2:\n",
    "    print(f'Num One Is Greater Than Num Tow : {num1}')\n",
    "\n",
    "else:\n",
    "     print(f'Num Two Is Greater Than Num One : {num2}')"
   ]
  },
  {
   "cell_type": "raw",
   "id": "f2b55e5e-6a81-4f8a-a2de-8449b7ba0f0f",
   "metadata": {},
   "source": [
    "10) A shop will give discount of 10% if the cost of purchased quantity is more than 1000.\n",
    "Ask user for quantity\n",
    "Suppose, one unit will cost 100.\n",
    "Judge and print total cost for user."
   ]
  },
  {
   "cell_type": "code",
   "execution_count": 36,
   "id": "5c0750df-f4b6-4aa4-82b6-7b362eae6066",
   "metadata": {},
   "outputs": [
    {
     "name": "stdin",
     "output_type": "stream",
     "text": [
      "Enter The Amount Today:  1000\n"
     ]
    },
    {
     "name": "stdout",
     "output_type": "stream",
     "text": [
      "You Got 10% Disscount 100.0 . On 1000 Ruppess And Above Than 1000 ruppess Shoping .\n"
     ]
    }
   ],
   "source": [
    "Purchased_Item_price = int(input(\"Enter The Amount Today: \"))\n",
    "if Purchased_Item_price >= 1000:\n",
    "    Discount = Purchased_Item_price*.10\n",
    "    print(f'You Got 10% Disscount {Discount} . On 1000 Ruppess And Above Than 1000 ruppess Shoping .')\n",
    "else:\n",
    "    print('No Discount!')"
   ]
  },
  {
   "cell_type": "raw",
   "id": "f284ae78-b39d-4409-8f27-00661f0f8b12",
   "metadata": {},
   "source": [
    "11) A school has following rules for grading system:\n",
    "\n",
    "a. Below 25 - F\n",
    "\n",
    "b. 25 to 45 - E\n",
    "\n",
    "c. 45 to 50 - D\n",
    "\n",
    "d. 50 to 60 - C\n",
    "\n",
    "e. 60 to 80 - B\n",
    "\n",
    "f. Above 80 - A\n",
    "\n",
    "Ask user to enter marks and print the corresponding grade."
   ]
  },
  {
   "cell_type": "code",
   "execution_count": 26,
   "id": "5927c678-7bea-44eb-8cef-1824d61c32c3",
   "metadata": {},
   "outputs": [
    {
     "name": "stdin",
     "output_type": "stream",
     "text": [
      "Enter Your Marks:  50\n"
     ]
    },
    {
     "name": "stdout",
     "output_type": "stream",
     "text": [
      "You Got D Grade\n"
     ]
    }
   ],
   "source": [
    " Marks = int(input('Enter Your Marks : '))\n",
    "if Marks<25:\n",
    "    print('You Got F Grade')\n",
    "\n",
    "elif Marks <=45 :\n",
    "    print('You Got E Grade')\n",
    "\n",
    "elif Marks <=50 :\n",
    "    print('You Got D Grade')\n",
    "    \n",
    "elif Marks <=60 :\n",
    "    print('You Got C Grade')\n",
    "\n",
    "elif Marks <=80 :\n",
    "    print('You Got B Grade')\n",
    "\n",
    "elif Marks <=100 :\n",
    "    print('You Got A Grade')\n",
    "\n",
    "else:\n",
    "    print('Enter Proper Marks!')"
   ]
  },
  {
   "cell_type": "raw",
   "id": "e921a00f-a40f-43d7-aae1-32f080fabc25",
   "metadata": {},
   "source": [
    "12) Take input of age of 3 people by user and determine oldest and youngest among them."
   ]
  },
  {
   "cell_type": "code",
   "execution_count": 1,
   "id": "cce70ffa-8595-4c92-ad9d-935e3b40196f",
   "metadata": {},
   "outputs": [
    {
     "name": "stdin",
     "output_type": "stream",
     "text": [
      "Enter age of person 1:  23\n",
      "Enter age of person 2:  22\n",
      "Enter age of person 3:  33\n"
     ]
    },
    {
     "name": "stdout",
     "output_type": "stream",
     "text": [
      "The oldest age is: 33\n",
      "The youngest age is: 22\n"
     ]
    }
   ],
   "source": [
    "# Take input for ages\n",
    "age1 = int(input(\"Enter age of person 1: \"))\n",
    "age2 = int(input(\"Enter age of person 2: \"))\n",
    "age3 = int(input(\"Enter age of person 3: \"))\n",
    "\n",
    "# Find oldest\n",
    "if age1 >= age2 and age1 >= age3:\n",
    "    oldest = age1\n",
    "elif age2 >= age1 and age2 >= age3:\n",
    "    oldest = age2\n",
    "else:\n",
    "    oldest = age3\n",
    "\n",
    "# Find youngest\n",
    "if age1 <= age2 and age1 <= age3:\n",
    "    youngest = age1\n",
    "elif age2 <= age1 and age2 <= age3:\n",
    "     youngest = age2\n",
    "else:\n",
    "    youngest = age3\n",
    "\n",
    "# Output results\n",
    "print(\"The oldest age is:\", oldest)\n",
    "print(\"The youngest age is:\", youngest)\n"
   ]
  },
  {
   "cell_type": "raw",
   "id": "d5e742f8-12fa-4cae-86d7-0af3dd4879f5",
   "metadata": {},
   "source": [
    "13)A student will not be allowed to sit in exam if his/her attendence is less than 75%.\n",
    "\n",
    "Take following input from user\n",
    "\n",
    "Number of classes held\n",
    "\n",
    "Number of classes attended.\n",
    "\n",
    "And print\n",
    "\n",
    "percentage of class attended\n",
    "\n",
    "Is student is allowed to sit in exam or not."
   ]
  },
  {
   "cell_type": "code",
   "execution_count": 40,
   "id": "bd6d6112-a685-44d4-b5ff-b6b3b3b1ee12",
   "metadata": {},
   "outputs": [
    {
     "name": "stdin",
     "output_type": "stream",
     "text": [
      "Enter Number Of Total Classes:  50\n",
      "Taken Classes :  40\n"
     ]
    },
    {
     "name": "stdout",
     "output_type": "stream",
     "text": [
      "Your attendance_percentage Is : 80.0% \n",
      "You Are Allowed To Sit In Exame!\n"
     ]
    }
   ],
   "source": [
    "No_Of_Total_Classes = int(input('Enter Number Of Total Classes: '))\n",
    "Taken_Classes = int(input('Taken Classes : '))\n",
    "attendance_percentage = (Taken_Classes / No_Of_Total_Classes) * 100\n",
    "if attendance_percentage >=75:\n",
    "    print(f'Your attendance_percentage Is : {attendance_percentage}% ')\n",
    "    print('You Are Allowed To Sit In Exame!')\n",
    "\n",
    "else:\n",
    "    print('You Are Not Allowed!')"
   ]
  },
  {
   "cell_type": "raw",
   "id": "c2c8d912-6bdb-4ad9-a984-d5f41c76912f",
   "metadata": {},
   "source": [
    "14) Modify the above question to allow student to sit if he/she has medical cause.\n",
    "Ask user if he/she has medical cause or not ( 'Y' or 'N' ) and print accordingly."
   ]
  },
  {
   "cell_type": "code",
   "execution_count": 42,
   "id": "32bc5213-3989-4e18-8ef2-5c716c9d71a9",
   "metadata": {},
   "outputs": [
    {
     "name": "stdin",
     "output_type": "stream",
     "text": [
      "Do You have Any Medical Cause? yes\n"
     ]
    },
    {
     "name": "stdout",
     "output_type": "stream",
     "text": [
      "Not Sit In The Paper\n"
     ]
    }
   ],
   "source": [
    "Patent = input('Do You have Any Medical Cause?')\n",
    "if Patent == 'yes':\n",
    "    print('Not Sit In The Paper')\n",
    "\n",
    "else:\n",
    "    print('Sit In The Paper')"
   ]
  },
  {
   "cell_type": "code",
   "execution_count": 44,
   "id": "ff8a3e37-e703-429a-bb6e-7594c4c22d90",
   "metadata": {},
   "outputs": [
    {
     "name": "stdin",
     "output_type": "stream",
     "text": [
      "Enter The Year:  2000\n"
     ]
    },
    {
     "name": "stdout",
     "output_type": "stream",
     "text": [
      "It Is A Leap Year\n"
     ]
    }
   ],
   "source": [
    "Year = int(input('Enter The Year: '))\n",
    "\n",
    "if (Year % 4 == 0 and (Year % 100 != 0 or Year % 400 == 0)):\n",
    "    print('It Is A Leap Year')\n",
    "else:\n",
    "    print('It Is Not A Leap Year')\n"
   ]
  },
  {
   "cell_type": "raw",
   "id": "ff9dec89-916a-499c-b2c0-0b1a8787d995",
   "metadata": {},
   "source": [
    "16) Ask user to enter age, gender ( M or F ), marital status ( Y or N ) and then using following rules print their place of service.\n",
    "\n",
    "if employee is female, then she will work only in urban areas.\n",
    "\n",
    "if employee is a male and age is in between 20 to 40 then he may work in anywhere\n",
    "\n",
    "if employee is male and age is in between 40 t0 60 then he will work in urban areas only.\n",
    "\n",
    "And any other input of age should print \"ERROR\""
   ]
  },
  {
   "cell_type": "code",
   "execution_count": 52,
   "id": "6ecf52b6-2606-49dd-8b22-1bbdd7b1a297",
   "metadata": {},
   "outputs": [
    {
     "name": "stdin",
     "output_type": "stream",
     "text": [
      "Enter Your Age:  43\n",
      "Enter Your Gender:  male\n",
      "Enter Your Maritial Status :  no\n"
     ]
    },
    {
     "name": "stdout",
     "output_type": "stream",
     "text": [
      "He Will Work In Urban Areas! \n"
     ]
    }
   ],
   "source": [
    "Age = int(input('Enter Your Age: '))\n",
    "Gender = input('Enter Your Gender: ')\n",
    "Martial_status = input('Enter Your Maritial Status : ')\n",
    "if Gender == 'female':\n",
    "    print('She Will Work Just In Urban Areas! ')\n",
    "\n",
    "elif Gender == 'male' and 20 <= Age <= 40:\n",
    "     print('He Will Work AnyWhere! ')\n",
    "\n",
    "elif Gender == 'male' and 40 <= Age <= 60:\n",
    "     print('He Will Work In Urban Areas! ')\n",
    "\n",
    "else:\n",
    "    print('Error!')"
   ]
  },
  {
   "cell_type": "code",
   "execution_count": 66,
   "id": "5ac0a736-3951-47b5-8677-7d7fc6fbe963",
   "metadata": {},
   "outputs": [
    {
     "data": {
      "text/plain": [
       "-1"
      ]
     },
     "execution_count": 66,
     "metadata": {},
     "output_type": "execute_result"
    }
   ],
   "source": [
    "2%(-3)"
   ]
  },
  {
   "cell_type": "code",
   "execution_count": 68,
   "id": "30bfc6fd-82f5-476d-a540-a95be45b330e",
   "metadata": {},
   "outputs": [
    {
     "data": {
      "text/plain": [
       "1"
      ]
     },
     "execution_count": 68,
     "metadata": {},
     "output_type": "execute_result"
    }
   ],
   "source": [
    "-2%(3)"
   ]
  },
  {
   "cell_type": "code",
   "execution_count": null,
   "id": "c152d5c3-2757-45bb-9996-b9b5b89daa5c",
   "metadata": {},
   "outputs": [],
   "source": []
  }
 ],
 "metadata": {
  "kernelspec": {
   "display_name": "Python [conda env:base] *",
   "language": "python",
   "name": "conda-base-py"
  },
  "language_info": {
   "codemirror_mode": {
    "name": "ipython",
    "version": 3
   },
   "file_extension": ".py",
   "mimetype": "text/x-python",
   "name": "python",
   "nbconvert_exporter": "python",
   "pygments_lexer": "ipython3",
   "version": "3.12.7"
  }
 },
 "nbformat": 4,
 "nbformat_minor": 5
}
