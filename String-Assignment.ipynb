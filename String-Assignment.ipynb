{
 "cells": [
  {
   "cell_type": "code",
   "execution_count": 8,
   "id": "a9ebeddc-b672-4cd6-86c1-531a1d516346",
   "metadata": {},
   "outputs": [
    {
     "name": "stdin",
     "output_type": "stream",
     "text": [
      "Enter The Vowels :  aeiou\n"
     ]
    },
    {
     "name": "stdout",
     "output_type": "stream",
     "text": [
      "5\n",
      "aeiou\n"
     ]
    }
   ],
   "source": [
    "vowels = input('Enter The Vowels : ')\n",
    "print(len(vowels))\n",
    "print(vowels)\n"
   ]
  },
  {
   "cell_type": "code",
   "execution_count": 16,
   "id": "ef5b48aa-2bb9-4fb8-a5f4-5a22b60c3ee0",
   "metadata": {},
   "outputs": [
    {
     "name": "stdin",
     "output_type": "stream",
     "text": [
      "Enter The String :  1234 My Name is Ak Khan\n"
     ]
    },
    {
     "name": "stdout",
     "output_type": "stream",
     "text": [
      "uppercase : 4\n",
      "lowercase : 10\n",
      "digits : 4\n",
      "whitespace : 5\n"
     ]
    }
   ],
   "source": [
    "#Write a program that reads a string from keyboard and display:\n",
    "# The number of uppercase letters in the string\n",
    "# The number of lowercase letters in the string\n",
    "# The number of digits in the string\n",
    "# The number of whitespace characters in the string\n",
    "\n",
    "Stirng = input('Enter The String : ')\n",
    "\n",
    "uppercase = 0\n",
    "lowercase = 0\n",
    "digits = 0\n",
    "whitespace = 0\n",
    "\n",
    "for char in Stirng:\n",
    "    if char.isupper():\n",
    "        uppercase +=1\n",
    "    elif char.islower():\n",
    "          lowercase +=1\n",
    "    elif char.isdigit():\n",
    "          digits +=1    \n",
    "    elif char.isspace():\n",
    "          whitespace +=1\n",
    "    else:\n",
    "        print('Sorrry!')\n",
    "\n",
    "\n",
    "print(f'uppercase : {uppercase}')\n",
    "print(f'lowercase : {lowercase}')\n",
    "print(f'digits : {digits}')\n",
    "print(f'whitespace : {whitespace}')"
   ]
  },
  {
   "cell_type": "code",
   "execution_count": 32,
   "id": "6b428ec9-0f27-476c-b661-10c6a0d0713e",
   "metadata": {},
   "outputs": [
    {
     "name": "stdin",
     "output_type": "stream",
     "text": [
      "Enter The String :  HELLO\n"
     ]
    },
    {
     "name": "stdout",
     "output_type": "stream",
     "text": [
      "HELLO\n",
      "OELLH\n"
     ]
    }
   ],
   "source": [
    "#write a Python program that accepts a string from user. Your program should create and display a\n",
    "#new string where the first and last characters have been exchanged.\n",
    "#For example if the user enters the string 'HELLO' then new string would be 'OELLH\n",
    "Stirng = input('Enter The String : ')\n",
    "print(Stirng)\n",
    "new_text = Stirng[-1] + Stirng[1:-1] + Stirng[0]\n",
    "print(new_text)\n"
   ]
  },
  {
   "cell_type": "code",
   "execution_count": 36,
   "id": "782f53ce-061c-4283-b30e-bd936462e400",
   "metadata": {},
   "outputs": [
    {
     "name": "stdin",
     "output_type": "stream",
     "text": [
      "Enter The String :  Asad\n"
     ]
    },
    {
     "name": "stdout",
     "output_type": "stream",
     "text": [
      "Asad\n",
      "dasA\n"
     ]
    }
   ],
   "source": [
    " #Write a Python program that accepts a string from user. Your program should create a new string in\n",
    "#reverse of first string and display it.\n",
    "String = input('Enter The String : ')\n",
    "print(String)\n",
    "New_Str = String[::-1]\n",
    "print(New_Str)"
   ]
  },
  {
   "cell_type": "code",
   "execution_count": 48,
   "id": "8f5129e9-4af0-4763-99f8-e9674ba3e2b2",
   "metadata": {},
   "outputs": [
    {
     "name": "stdin",
     "output_type": "stream",
     "text": [
      "Enter The String :  Examination 2021\n"
     ]
    },
    {
     "name": "stdout",
     "output_type": "stream",
     "text": [
      "Examination 2021\n",
      "xamination 2021E\n"
     ]
    }
   ],
   "source": [
    "# Write a Python program that accepts a string from user. Your program should create a new string by\n",
    "# shifting one position to left.\n",
    "# For example if the user enters the string 'examination 2021' then new string would be 'xamination\n",
    "# 2021e'\n",
    "String = input('Enter The String : ')\n",
    "print(String)\n",
    "last = String[0]\n",
    "new = String[1:16]+last\n",
    "print(new)\n"
   ]
  },
  {
   "cell_type": "code",
   "execution_count": 54,
   "id": "ef853f95-5c87-4714-b0cd-385951fc19e9",
   "metadata": {},
   "outputs": [
    {
     "name": "stdin",
     "output_type": "stream",
     "text": [
      "Enter The String :  Asad\n",
      "Enter The String :  khan\n",
      "Enter The String :  123\n"
     ]
    },
    {
     "name": "stdout",
     "output_type": "stream",
     "text": [
      "Your Name is : Asad. khan. 123.\n"
     ]
    }
   ],
   "source": [
    "# Write a program that asks the user to input his name and print its initials. Assuming that the user\n",
    "# always types first name, middle name and last name and does not include any unnecessary spaces.\n",
    "# For example, if the user enters Ajay Kumar Garg the program should display A. K. G.\n",
    "# Note:Don't use split() method\n",
    "fname = input('Enter The String : ')\n",
    "Mname = input('Enter The String : ')\n",
    "lname = input('Enter The String : ')\n",
    "print(f'Your Name is : {fname}. {Mname}. {lname}.')"
   ]
  },
  {
   "cell_type": "code",
   "execution_count": null,
   "id": "0cf071f4-76a7-4f09-939a-e51db2c52771",
   "metadata": {},
   "outputs": [],
   "source": []
  }
 ],
 "metadata": {
  "kernelspec": {
   "display_name": "Python [conda env:base] *",
   "language": "python",
   "name": "conda-base-py"
  },
  "language_info": {
   "codemirror_mode": {
    "name": "ipython",
    "version": 3
   },
   "file_extension": ".py",
   "mimetype": "text/x-python",
   "name": "python",
   "nbconvert_exporter": "python",
   "pygments_lexer": "ipython3",
   "version": "3.12.7"
  }
 },
 "nbformat": 4,
 "nbformat_minor": 5
}
