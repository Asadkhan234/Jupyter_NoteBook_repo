{
 "cells": [
  {
   "cell_type": "markdown",
   "id": "5f1660aa-97ef-4b07-869e-083d093aecb6",
   "metadata": {},
   "source": [
    "#  Class 06"
   ]
  },
  {
   "cell_type": "markdown",
   "id": "1140b00e-2626-4442-adc3-9722dc911f9f",
   "metadata": {},
   "source": [
    "# Phython Data Structures : Collection\n",
    "- String\n",
    "- List\n",
    "- Dictionary\n",
    "- Tuple\n",
    "- Set\n"
   ]
  },
  {
   "cell_type": "markdown",
   "id": "36f0327c-6acd-4e44-80df-1eb81da53600",
   "metadata": {},
   "source": [
    "# Collection : \n",
    "     - When We Store More Than One Value In A single Variable"
   ]
  },
  {
   "cell_type": "code",
   "execution_count": 5,
   "id": "9fdd0404-5db7-4731-97e2-082686a31e3d",
   "metadata": {},
   "outputs": [],
   "source": [
    "Student1 = 'Asad'\n",
    "Student2 = 'Rehan'\n",
    "Student3 = 'Nasir'"
   ]
  },
  {
   "cell_type": "markdown",
   "id": "b656074a-946d-443d-9dde-25f3538e59d1",
   "metadata": {},
   "source": [
    "# We Can Create A list Of Students"
   ]
  },
  {
   "cell_type": "markdown",
   "id": "4e007880-0af1-4770-8bfd-a85dd1106228",
   "metadata": {},
   "source": [
    "# List :\n",
    "    - []\n",
    "    - Mutable : Elemet Can Be Changed\n",
    "    - Can Hold A Valid value\n",
    "    - Itreable : Loop Ker Sakte Hy\n",
    "    "
   ]
  },
  {
   "cell_type": "code",
   "execution_count": 24,
   "id": "77d288b1-697c-4b92-ba06-ab3efb8f88b3",
   "metadata": {},
   "outputs": [],
   "source": [
    "# Creating An Empty List:\n",
    "Students = ['Asad','Farooq','Khan','Saad','Sami','Qasim'];"
   ]
  },
  {
   "cell_type": "code",
   "execution_count": 26,
   "id": "52303bef-b96d-434a-913a-60ec2731f554",
   "metadata": {},
   "outputs": [
    {
     "name": "stdout",
     "output_type": "stream",
     "text": [
      "<class 'list'>\n"
     ]
    }
   ],
   "source": [
    "print(type(Students))"
   ]
  },
  {
   "cell_type": "code",
   "execution_count": 28,
   "id": "25767347-fe9c-4d58-8c96-a42603b8f15a",
   "metadata": {},
   "outputs": [
    {
     "data": {
      "text/plain": [
       "6"
      ]
     },
     "execution_count": 28,
     "metadata": {},
     "output_type": "execute_result"
    }
   ],
   "source": [
    "len(Students)"
   ]
  },
  {
   "cell_type": "code",
   "execution_count": 30,
   "id": "327dc4dd-7d8d-4345-ba69-a8ad92e287f8",
   "metadata": {},
   "outputs": [
    {
     "data": {
      "text/plain": [
       "'Khan'"
      ]
     },
     "execution_count": 30,
     "metadata": {},
     "output_type": "execute_result"
    }
   ],
   "source": [
    "Students[2]"
   ]
  },
  {
   "cell_type": "code",
   "execution_count": 32,
   "id": "3e0a0635-78a2-4d18-9ac3-dbdb12bd771f",
   "metadata": {},
   "outputs": [
    {
     "data": {
      "text/plain": [
       "'Saad'"
      ]
     },
     "execution_count": 32,
     "metadata": {},
     "output_type": "execute_result"
    }
   ],
   "source": [
    "Students[3]"
   ]
  },
  {
   "cell_type": "code",
   "execution_count": 36,
   "id": "2a0a65ba-4b8a-4014-abda-4b7dc8774196",
   "metadata": {},
   "outputs": [
    {
     "data": {
      "text/plain": [
       "'Qasim'"
      ]
     },
     "execution_count": 36,
     "metadata": {},
     "output_type": "execute_result"
    }
   ],
   "source": [
    "Students[5]"
   ]
  },
  {
   "cell_type": "code",
   "execution_count": 38,
   "id": "759063a7-40ac-46ca-9478-316c1cef3ff0",
   "metadata": {},
   "outputs": [
    {
     "data": {
      "text/plain": [
       "'Qasim'"
      ]
     },
     "execution_count": 38,
     "metadata": {},
     "output_type": "execute_result"
    }
   ],
   "source": [
    "Students[-1]"
   ]
  },
  {
   "cell_type": "code",
   "execution_count": 40,
   "id": "ff53d141-fbf3-4ea8-9dcd-f143c24210e3",
   "metadata": {},
   "outputs": [
    {
     "data": {
      "text/plain": [
       "'Saad'"
      ]
     },
     "execution_count": 40,
     "metadata": {},
     "output_type": "execute_result"
    }
   ],
   "source": [
    "Students[-3]"
   ]
  },
  {
   "cell_type": "code",
   "execution_count": 42,
   "id": "8585a1b9-ea31-48e5-8901-20640e6d1026",
   "metadata": {},
   "outputs": [],
   "source": [
    "# Slicing : Getting a Subset Of A List (Original List Ke Copy)  : Gives List ([] - 1) In Slicing"
   ]
  },
  {
   "cell_type": "code",
   "execution_count": 44,
   "id": "800bff8a-8053-4984-8bad-ce79bbec2935",
   "metadata": {},
   "outputs": [],
   "source": [
    "# Taking Multiple Names From LIst : "
   ]
  },
  {
   "cell_type": "code",
   "execution_count": 54,
   "id": "58731418-322a-47c6-9019-1618ba51ee4c",
   "metadata": {},
   "outputs": [
    {
     "data": {
      "text/plain": [
       "['Farooq', 'Khan', 'Saad']"
      ]
     },
     "execution_count": 54,
     "metadata": {},
     "output_type": "execute_result"
    }
   ],
   "source": [
    "Students[1:4]   #Index 4 Will Not Include"
   ]
  },
  {
   "cell_type": "code",
   "execution_count": 56,
   "id": "8c2e08a9-33a2-4234-b3db-5e1e3a46367e",
   "metadata": {},
   "outputs": [
    {
     "data": {
      "text/plain": [
       "['Sami', 'Qasim']"
      ]
     },
     "execution_count": 56,
     "metadata": {},
     "output_type": "execute_result"
    }
   ],
   "source": [
    "Students[4:7]"
   ]
  },
  {
   "cell_type": "code",
   "execution_count": 58,
   "id": "aa610c90-8f0f-4871-b119-51372433137e",
   "metadata": {},
   "outputs": [
    {
     "data": {
      "text/plain": [
       "['Asad', 'Farooq', 'Khan', 'Saad', 'Sami', 'Qasim']"
      ]
     },
     "execution_count": 58,
     "metadata": {},
     "output_type": "execute_result"
    }
   ],
   "source": [
    "Students[0:]"
   ]
  },
  {
   "cell_type": "code",
   "execution_count": 78,
   "id": "0ff49525-19d6-4ad4-a4b2-301599e39ee1",
   "metadata": {},
   "outputs": [
    {
     "data": {
      "text/plain": [
       "['Asad', 'Farooq', 'Khan', 'Saad', 'Sami']"
      ]
     },
     "execution_count": 78,
     "metadata": {},
     "output_type": "execute_result"
    }
   ],
   "source": [
    "Students[-6:-1]"
   ]
  },
  {
   "cell_type": "code",
   "execution_count": 136,
   "id": "cd9d16c2-9019-461a-b6e6-a79d603b40a0",
   "metadata": {},
   "outputs": [
    {
     "data": {
      "text/plain": [
       "['Saad', 'Sami', 'Qasim']"
      ]
     },
     "execution_count": 136,
     "metadata": {},
     "output_type": "execute_result"
    }
   ],
   "source": [
    "Students[-3:6]"
   ]
  },
  {
   "cell_type": "code",
   "execution_count": 140,
   "id": "19f4c48a-fe8d-46f5-a054-2bf51ccfda75",
   "metadata": {},
   "outputs": [
    {
     "data": {
      "text/plain": [
       "['Asad', 'Farooq', 'Khan', 'Saad', 'Sami', 'Qasim']"
      ]
     },
     "execution_count": 140,
     "metadata": {},
     "output_type": "execute_result"
    }
   ],
   "source": [
    "Students[0:6:1]  # Start , End , Step"
   ]
  },
  {
   "cell_type": "code",
   "execution_count": 142,
   "id": "960ce766-9cfd-4d76-9287-5cd0298c1931",
   "metadata": {},
   "outputs": [
    {
     "data": {
      "text/plain": [
       "['Asad', 'Khan', 'Sami']"
      ]
     },
     "execution_count": 142,
     "metadata": {},
     "output_type": "execute_result"
    }
   ],
   "source": [
    "Students[0:6:2]"
   ]
  },
  {
   "cell_type": "code",
   "execution_count": 144,
   "id": "0909f1cd-3650-4513-8370-dd2049ff1ecb",
   "metadata": {},
   "outputs": [
    {
     "data": {
      "text/plain": [
       "['Asad', 'Khan', 'Sami']"
      ]
     },
     "execution_count": 144,
     "metadata": {},
     "output_type": "execute_result"
    }
   ],
   "source": [
    "Students[::2]  # Start From Start Till End But Take Step As 2"
   ]
  },
  {
   "cell_type": "code",
   "execution_count": 146,
   "id": "c5351a53-ca6d-4f35-888c-61a179fac425",
   "metadata": {},
   "outputs": [
    {
     "data": {
      "text/plain": [
       "['Qasim', 'Sami', 'Saad', 'Khan', 'Farooq', 'Asad']"
      ]
     },
     "execution_count": 146,
     "metadata": {},
     "output_type": "execute_result"
    }
   ],
   "source": [
    "Students[::-1]  # Start From End Till Start But Take Step As -1"
   ]
  },
  {
   "cell_type": "code",
   "execution_count": 154,
   "id": "aa840b39-9361-4dd6-b518-2660148444ea",
   "metadata": {},
   "outputs": [
    {
     "data": {
      "text/plain": [
       "['Qasim', 'Sami', 'Saad']"
      ]
     },
     "execution_count": 154,
     "metadata": {},
     "output_type": "execute_result"
    }
   ],
   "source": [
    "Students[5:2:-1]  #Start From Reverse Till 2"
   ]
  },
  {
   "cell_type": "code",
   "execution_count": 156,
   "id": "ba147677-2aca-4528-9d97-e134d6acf416",
   "metadata": {},
   "outputs": [
    {
     "data": {
      "text/plain": [
       "['Qasim', 'Sami', 'Saad', 'Khan', 'Farooq', 'Asad']"
      ]
     },
     "execution_count": 156,
     "metadata": {},
     "output_type": "execute_result"
    }
   ],
   "source": [
    "Students[::-1]  "
   ]
  },
  {
   "cell_type": "code",
   "execution_count": 158,
   "id": "bcda2233-d08c-4c56-ab1c-4e79f0ce3fde",
   "metadata": {},
   "outputs": [
    {
     "data": {
      "text/plain": [
       "['Qasim', 'Saad', 'Farooq']"
      ]
     },
     "execution_count": 158,
     "metadata": {},
     "output_type": "execute_result"
    }
   ],
   "source": [
    "Students[::-2]  "
   ]
  },
  {
   "cell_type": "code",
   "execution_count": 160,
   "id": "fb6d33c4-f9b4-4909-b7bb-23ce4bb92f1a",
   "metadata": {},
   "outputs": [
    {
     "data": {
      "text/plain": [
       "['Qasim', 'Khan']"
      ]
     },
     "execution_count": 160,
     "metadata": {},
     "output_type": "execute_result"
    }
   ],
   "source": [
    "Students[::-3]  "
   ]
  },
  {
   "cell_type": "code",
   "execution_count": 178,
   "id": "9aaf10a4-4467-4df1-b2f1-2d231ea23a13",
   "metadata": {},
   "outputs": [
    {
     "data": {
      "text/plain": [
       "['Qasim', 'Sami', 'Saad', 'Khan', 'Farooq', 'Asad']"
      ]
     },
     "execution_count": 178,
     "metadata": {},
     "output_type": "execute_result"
    }
   ],
   "source": [
    "Students[::-1]  "
   ]
  },
  {
   "cell_type": "code",
   "execution_count": 182,
   "id": "f0a3af94-6575-4378-8bbc-61bdf48c842a",
   "metadata": {},
   "outputs": [
    {
     "data": {
      "text/plain": [
       "['Qasim', 'Sami', 'Saad', 'Khan', 'Farooq']"
      ]
     },
     "execution_count": 182,
     "metadata": {},
     "output_type": "execute_result"
    }
   ],
   "source": [
    "Students[6:0:-1]  "
   ]
  },
  {
   "cell_type": "code",
   "execution_count": 184,
   "id": "2702f261-c70e-48d9-8f34-2a69dfe536e2",
   "metadata": {},
   "outputs": [
    {
     "name": "stdout",
     "output_type": "stream",
     "text": [
      "[4, 20, 24, 28]\n"
     ]
    }
   ],
   "source": [
    "List = [4,8,12,16]\n",
    "List [1:4] = [20,24,28]\n",
    "print(List)"
   ]
  },
  {
   "cell_type": "code",
   "execution_count": 196,
   "id": "1bfc7fde-56ac-4b7d-bd85-5d334153d8ae",
   "metadata": {},
   "outputs": [
    {
     "name": "stdout",
     "output_type": "stream",
     "text": [
      "pynative\n"
     ]
    }
   ],
   "source": [
    "List = ['xyz','zara','pynative']\n",
    "print(min(List))"
   ]
  },
  {
   "cell_type": "code",
   "execution_count": 198,
   "id": "53ca7c30-9b2b-4d3c-9c28-abf2d98a19c4",
   "metadata": {},
   "outputs": [],
   "source": [
    "l = [2,3]*4"
   ]
  },
  {
   "cell_type": "code",
   "execution_count": 200,
   "id": "8519654c-7b2a-43d1-b627-a9e17e0a4d42",
   "metadata": {},
   "outputs": [
    {
     "data": {
      "text/plain": [
       "[2, 3, 2, 3, 2, 3, 2, 3]"
      ]
     },
     "execution_count": 200,
     "metadata": {},
     "output_type": "execute_result"
    }
   ],
   "source": [
    "l"
   ]
  },
  {
   "cell_type": "code",
   "execution_count": 202,
   "id": "2be4ba43-94a7-434e-9212-305c5799fbab",
   "metadata": {},
   "outputs": [],
   "source": [
    "l = [None]"
   ]
  },
  {
   "cell_type": "code",
   "execution_count": 204,
   "id": "7d6fdc1a-f33c-45f7-8540-75eb3e05e305",
   "metadata": {},
   "outputs": [
    {
     "data": {
      "text/plain": [
       "[None]"
      ]
     },
     "execution_count": 204,
     "metadata": {},
     "output_type": "execute_result"
    }
   ],
   "source": [
    "l"
   ]
  },
  {
   "cell_type": "markdown",
   "id": "e3f57151-b897-42cb-bfae-f39b63667152",
   "metadata": {},
   "source": [
    "# List Functions"
   ]
  },
  {
   "cell_type": "code",
   "execution_count": 207,
   "id": "43e4d133-2539-49bb-aa34-761c90668101",
   "metadata": {},
   "outputs": [
    {
     "data": {
      "text/plain": [
       "['Asad', 'Farooq', 'Khan', 'Saad', 'Sami', 'Qasim']"
      ]
     },
     "execution_count": 207,
     "metadata": {},
     "output_type": "execute_result"
    }
   ],
   "source": [
    "Students[0:]"
   ]
  },
  {
   "cell_type": "markdown",
   "id": "02a838dd-91de-4d36-84a1-2a386bb0ea6f",
   "metadata": {},
   "source": [
    "# Adding Men=mbers in List:\n",
    "- appends (): Add A Member in Last\n",
    "- insert() : Add A Member On Given Index\n",
    "- extend() : Add Another Cllection One By one\n",
    "- '+' : Join Two Lists And Form A new List"
   ]
  },
  {
   "cell_type": "code",
   "execution_count": 212,
   "id": "3bc6f52e-7d3d-4f71-a4a1-7da53ec6fc0a",
   "metadata": {},
   "outputs": [],
   "source": [
    "Students.append('Imran Khan')"
   ]
  },
  {
   "cell_type": "code",
   "execution_count": 214,
   "id": "d78844af-89ec-47dd-8b5b-1c76836c0a1f",
   "metadata": {},
   "outputs": [
    {
     "data": {
      "text/plain": [
       "['Asad', 'Farooq', 'Khan', 'Saad', 'Sami', 'Qasim', 'Imran Khan']"
      ]
     },
     "execution_count": 214,
     "metadata": {},
     "output_type": "execute_result"
    }
   ],
   "source": [
    "Students"
   ]
  },
  {
   "cell_type": "code",
   "execution_count": 216,
   "id": "d99b9f38-fc46-4249-8e03-5caca9547419",
   "metadata": {},
   "outputs": [],
   "source": [
    "Students.insert(2,'Zaid')"
   ]
  },
  {
   "cell_type": "code",
   "execution_count": 218,
   "id": "f08160ad-1d42-4f23-8505-dea117649d13",
   "metadata": {},
   "outputs": [
    {
     "data": {
      "text/plain": [
       "['Asad', 'Farooq', 'Zaid', 'Khan', 'Saad', 'Sami', 'Qasim', 'Imran Khan']"
      ]
     },
     "execution_count": 218,
     "metadata": {},
     "output_type": "execute_result"
    }
   ],
   "source": [
    "Students"
   ]
  },
  {
   "cell_type": "code",
   "execution_count": 220,
   "id": "09fba41d-9f85-4402-a00c-733719d1328e",
   "metadata": {},
   "outputs": [],
   "source": [
    "New = ['Saif','Zain','KAmran']\n",
    "Students.extend(New)"
   ]
  },
  {
   "cell_type": "code",
   "execution_count": 222,
   "id": "201f50f1-6701-438e-b4f8-2cedd027e145",
   "metadata": {},
   "outputs": [
    {
     "data": {
      "text/plain": [
       "['Asad',\n",
       " 'Farooq',\n",
       " 'Zaid',\n",
       " 'Khan',\n",
       " 'Saad',\n",
       " 'Sami',\n",
       " 'Qasim',\n",
       " 'Imran Khan',\n",
       " 'Saif',\n",
       " 'Zain',\n",
       " 'KAmran']"
      ]
     },
     "execution_count": 222,
     "metadata": {},
     "output_type": "execute_result"
    }
   ],
   "source": [
    "Students"
   ]
  },
  {
   "cell_type": "code",
   "execution_count": 224,
   "id": "1a079ed6-5e04-4489-a276-cf67520dd94a",
   "metadata": {},
   "outputs": [
    {
     "data": {
      "text/plain": [
       "['Asad',\n",
       " 'Farooq',\n",
       " 'Zaid',\n",
       " 'Khan',\n",
       " 'Saad',\n",
       " 'Sami',\n",
       " 'Qasim',\n",
       " 'Imran Khan',\n",
       " 'Saif',\n",
       " 'Zain',\n",
       " 'KAmran',\n",
       " 'Saif',\n",
       " 'Zain',\n",
       " 'KAmran']"
      ]
     },
     "execution_count": 224,
     "metadata": {},
     "output_type": "execute_result"
    }
   ],
   "source": [
    "Students+New"
   ]
  },
  {
   "cell_type": "markdown",
   "id": "dcbfd529-1ec2-47cc-98e6-cc02a5dff07e",
   "metadata": {},
   "source": [
    "# Delete A Members From List:\n",
    "- del : Del By Index\n",
    "- Pop() : Del By Index\n",
    "- remove () : Remove By Value\n",
    "- clear () : Delete All\n"
   ]
  },
  {
   "cell_type": "code",
   "execution_count": 227,
   "id": "e05b96a1-3615-496f-b881-752d727f6b0b",
   "metadata": {},
   "outputs": [
    {
     "data": {
      "text/plain": [
       "['Asad',\n",
       " 'Farooq',\n",
       " 'Zaid',\n",
       " 'Khan',\n",
       " 'Saad',\n",
       " 'Sami',\n",
       " 'Qasim',\n",
       " 'Imran Khan',\n",
       " 'Saif',\n",
       " 'Zain',\n",
       " 'KAmran']"
      ]
     },
     "execution_count": 227,
     "metadata": {},
     "output_type": "execute_result"
    }
   ],
   "source": [
    "Students"
   ]
  },
  {
   "cell_type": "code",
   "execution_count": 231,
   "id": "e48e7c16-aa6c-4617-bf54-b48ffa353010",
   "metadata": {},
   "outputs": [],
   "source": [
    "Students.remove('Sami')"
   ]
  },
  {
   "cell_type": "code",
   "execution_count": 233,
   "id": "e0fdffba-b86b-425c-aa3c-cd3d0961c3cf",
   "metadata": {},
   "outputs": [
    {
     "data": {
      "text/plain": [
       "['Asad',\n",
       " 'Farooq',\n",
       " 'Zaid',\n",
       " 'Khan',\n",
       " 'Saad',\n",
       " 'Qasim',\n",
       " 'Imran Khan',\n",
       " 'Saif',\n",
       " 'Zain',\n",
       " 'KAmran']"
      ]
     },
     "execution_count": 233,
     "metadata": {},
     "output_type": "execute_result"
    }
   ],
   "source": [
    "Students"
   ]
  },
  {
   "cell_type": "code",
   "execution_count": 238,
   "id": "686f3028-6edf-4dea-9ec2-c24a67752752",
   "metadata": {},
   "outputs": [
    {
     "data": {
      "text/plain": [
       "'Zain'"
      ]
     },
     "execution_count": 238,
     "metadata": {},
     "output_type": "execute_result"
    }
   ],
   "source": [
    "Students.pop() # return Deleted Item"
   ]
  },
  {
   "cell_type": "code",
   "execution_count": null,
   "id": "410b5fe1-ba9b-44c0-bb96-1a545c1aff75",
   "metadata": {},
   "outputs": [],
   "source": []
  }
 ],
 "metadata": {
  "kernelspec": {
   "display_name": "Python [conda env:base] *",
   "language": "python",
   "name": "conda-base-py"
  },
  "language_info": {
   "codemirror_mode": {
    "name": "ipython",
    "version": 3
   },
   "file_extension": ".py",
   "mimetype": "text/x-python",
   "name": "python",
   "nbconvert_exporter": "python",
   "pygments_lexer": "ipython3",
   "version": "3.12.7"
  }
 },
 "nbformat": 4,
 "nbformat_minor": 5
}
