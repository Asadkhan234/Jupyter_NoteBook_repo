{
 "cells": [
  {
   "cell_type": "code",
   "execution_count": 2,
   "id": "517e7965-a66f-4a6f-8a54-94a7df693c42",
   "metadata": {},
   "outputs": [
    {
     "name": "stdout",
     "output_type": "stream",
     "text": [
      "A ?\n",
      "s ?\n",
      "a ?\n",
      "d ?\n"
     ]
    }
   ],
   "source": [
    "#q1 \n",
    "for i in 'Asad':\n",
    "    print(i,'?')"
   ]
  },
  {
   "cell_type": "code",
   "execution_count": 6,
   "id": "9df05a00-fa87-4d1f-b3c5-6a5074aa863e",
   "metadata": {},
   "outputs": [
    {
     "name": "stdout",
     "output_type": "stream",
     "text": [
      "0\n",
      "1\n",
      "2\n",
      "3\n",
      "4\n",
      "5\n"
     ]
    }
   ],
   "source": [
    "for i in range(6):\n",
    "    print(i)"
   ]
  },
  {
   "cell_type": "code",
   "execution_count": 10,
   "id": "1cf0f59a-7002-4481-9580-91b9be6b8904",
   "metadata": {},
   "outputs": [
    {
     "name": "stdout",
     "output_type": "stream",
     "text": [
      "10\n",
      "11\n",
      "12\n",
      "13\n",
      "14\n"
     ]
    }
   ],
   "source": [
    "for i in range(10,15):\n",
    "    print(i)"
   ]
  },
  {
   "cell_type": "code",
   "execution_count": 14,
   "id": "24fd5190-a7f5-4955-9985-903a918ac23c",
   "metadata": {},
   "outputs": [
    {
     "name": "stdout",
     "output_type": "stream",
     "text": [
      "Naturals Numbers :  1\n",
      "Naturals Numbers :  2\n",
      "Naturals Numbers :  3\n",
      "Naturals Numbers :  4\n",
      "Naturals Numbers :  5\n",
      "Naturals Numbers :  6\n",
      "Naturals Numbers :  7\n",
      "Naturals Numbers :  8\n",
      "Naturals Numbers :  9\n",
      "Naturals Numbers :  10\n"
     ]
    }
   ],
   "source": [
    "for i in range(1,11):\n",
    "    print('Naturals Numbers : ',i)"
   ]
  },
  {
   "cell_type": "code",
   "execution_count": 22,
   "id": "cc4848f8-2ace-44df-a09e-998c7e1f6e79",
   "metadata": {},
   "outputs": [
    {
     "name": "stdout",
     "output_type": "stream",
     "text": [
      "2\n",
      "4\n",
      "6\n",
      "8\n",
      "10\n",
      "12\n",
      "14\n",
      "16\n",
      "18\n",
      "20\n"
     ]
    }
   ],
   "source": [
    "for i in range(2,22,2):  #The Third 2 Is Used for divide and Checking The Even Numbers\n",
    "    print(i)"
   ]
  },
  {
   "cell_type": "code",
   "execution_count": 36,
   "id": "42559b7c-d830-4848-8ed6-48164ed488e8",
   "metadata": {},
   "outputs": [
    {
     "name": "stdout",
     "output_type": "stream",
     "text": [
      "1\n",
      "3\n",
      "5\n",
      "7\n",
      "9\n",
      "11\n",
      "13\n",
      "15\n",
      "17\n",
      "19\n"
     ]
    }
   ],
   "source": [
    "for i in range(1,21,2):\n",
    "    print(i)"
   ]
  },
  {
   "cell_type": "code",
   "execution_count": 54,
   "id": "d33cbf87-d7d2-427f-a88e-616c62f811ec",
   "metadata": {},
   "outputs": [
    {
     "name": "stdout",
     "output_type": "stream",
     "text": [
      "20\n",
      "18\n",
      "16\n",
      "14\n",
      "12\n",
      "10\n",
      "8\n",
      "6\n",
      "4\n",
      "2\n"
     ]
    }
   ],
   "source": [
    "for i in range(20,0,-2):\n",
    "    print(i)"
   ]
  },
  {
   "cell_type": "code",
   "execution_count": 56,
   "id": "f2cd2cf2-bc6b-47f1-adfb-24a2a903ea6c",
   "metadata": {},
   "outputs": [
    {
     "name": "stdout",
     "output_type": "stream",
     "text": [
      "21\n",
      "19\n",
      "17\n",
      "15\n",
      "13\n",
      "11\n",
      "9\n",
      "7\n",
      "5\n",
      "3\n"
     ]
    }
   ],
   "source": [
    "for i in range(21,1,-2):\n",
    "    print(i)"
   ]
  },
  {
   "cell_type": "code",
   "execution_count": 80,
   "id": "5e558393-ce2d-4fd2-9bb4-3f970b135af5",
   "metadata": {},
   "outputs": [
    {
     "name": "stdin",
     "output_type": "stream",
     "text": [
      "Enter The Number :  10\n"
     ]
    },
    {
     "name": "stdout",
     "output_type": "stream",
     "text": [
      "10 * 1 = 10\n",
      "10 * 2 = 20\n",
      "10 * 3 = 30\n",
      "10 * 4 = 40\n",
      "10 * 5 = 50\n",
      "10 * 6 = 60\n",
      "10 * 7 = 70\n",
      "10 * 8 = 80\n",
      "10 * 9 = 90\n",
      "10 * 10 = 100\n"
     ]
    }
   ],
   "source": [
    "num = int(input('Enter The Number : '))\n",
    "for i in range(1,11):\n",
    "    print(f'{num} * {i} = {num*i}')"
   ]
  },
  {
   "cell_type": "code",
   "execution_count": 88,
   "id": "e8516b03-9dcc-4214-926b-456fb4fec099",
   "metadata": {},
   "outputs": [
    {
     "name": "stdin",
     "output_type": "stream",
     "text": [
      "Enter The Number :  5\n"
     ]
    },
    {
     "name": "stdout",
     "output_type": "stream",
     "text": [
      "1\n",
      "2\n",
      "6\n",
      "24\n",
      "120\n"
     ]
    }
   ],
   "source": [
    "num = int(input('Enter The Number : '))\n",
    "f = 1\n",
    "for i in range(1,num+1):\n",
    "    f = f*i    print(f)"
   ]
  },
  {
   "cell_type": "code",
   "execution_count": 94,
   "id": "ad9f51f0-e44f-49d3-9c7c-832a217ffd2b",
   "metadata": {},
   "outputs": [
    {
     "name": "stdout",
     "output_type": "stream",
     "text": [
      "5\n",
      "6\n"
     ]
    }
   ],
   "source": [
    "for i in range (5,7):\n",
    "    print(i)"
   ]
  },
  {
   "cell_type": "code",
   "execution_count": 107,
   "id": "649b1b3b-0e0a-4840-8e9c-083f29346a0b",
   "metadata": {
    "scrolled": true
   },
   "outputs": [
    {
     "name": "stdout",
     "output_type": "stream",
     "text": [
      "a\n",
      "s\n",
      "a\n",
      "d\n",
      " \n",
      "k\n",
      "h\n",
      "a\n",
      "n\n"
     ]
    }
   ],
   "source": [
    "a = 'asad khan'\n",
    "for i in a:\n",
    "    print(i)\n",
    "    "
   ]
  },
  {
   "cell_type": "code",
   "execution_count": null,
   "id": "541c30f9-51af-4eb7-87c3-3c90aea28fb8",
   "metadata": {},
   "outputs": [],
   "source": [
    "for i in range(10):\n",
    "    s=0\n",
    "    num = int(input('Enter Numnbers : '))\n",
    "    s = s+num\n",
    "    print(f'The Avg is : {s/10}')"
   ]
  },
  {
   "cell_type": "code",
   "execution_count": 1,
   "id": "43812a82-d2a8-4156-96e4-fae2f34ae1c9",
   "metadata": {},
   "outputs": [
    {
     "name": "stdout",
     "output_type": "stream",
     "text": [
      "['ab', 'cd']\n"
     ]
    }
   ],
   "source": [
    "x = ['ab', 'cd']\n",
    "for i in x:\n",
    "    i.upper()  # its not case the original value\n",
    "print(x)"
   ]
  },
  {
   "cell_type": "code",
   "execution_count": 9,
   "id": "fb9b8ee3-3ba1-4d30-a29b-0c13d012b081",
   "metadata": {},
   "outputs": [
    {
     "name": "stdout",
     "output_type": "stream",
     "text": [
      "1\n",
      "2\n",
      "3\n"
     ]
    }
   ],
   "source": [
    "i = 1\n",
    "while True:\n",
    "    if i%4 == 0:\n",
    "        break\n",
    "    print(i)\n",
    " \n",
    "    i += 1"
   ]
  },
  {
   "cell_type": "code",
   "execution_count": 23,
   "id": "be85ce19-12f9-433b-8ba3-3af4644b75cb",
   "metadata": {},
   "outputs": [
    {
     "name": "stdout",
     "output_type": "stream",
     "text": [
      "1\n",
      "2\n",
      "3\n",
      "4\n",
      "5\n",
      "6\n"
     ]
    }
   ],
   "source": [
    "i = 1\n",
    "while True:\n",
    "    if i%0o7 == 0:  # here it read the 0o but \n",
    "        break\n",
    "    print(i)\n",
    "    i += 1"
   ]
  },
  {
   "cell_type": "code",
   "execution_count": null,
   "id": "c3a657a4-c6d1-405c-a0e2-0cbf5df3bbfd",
   "metadata": {},
   "outputs": [],
   "source": []
  }
 ],
 "metadata": {
  "kernelspec": {
   "display_name": "Python [conda env:base] *",
   "language": "python",
   "name": "conda-base-py"
  },
  "language_info": {
   "codemirror_mode": {
    "name": "ipython",
    "version": 3
   },
   "file_extension": ".py",
   "mimetype": "text/x-python",
   "name": "python",
   "nbconvert_exporter": "python",
   "pygments_lexer": "ipython3",
   "version": "3.12.7"
  }
 },
 "nbformat": 4,
 "nbformat_minor": 5
}
