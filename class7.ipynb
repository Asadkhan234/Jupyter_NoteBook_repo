{
 "cells": [
  {
   "cell_type": "code",
   "execution_count": 2,
   "id": "4b39f84c-2c44-40af-bbae-453e55a287a9",
   "metadata": {},
   "outputs": [
    {
     "data": {
      "text/plain": [
       "[90, 78, 87, 6, 5, 4, 2, 3, 1]"
      ]
     },
     "execution_count": 2,
     "metadata": {},
     "output_type": "execute_result"
    }
   ],
   "source": [
    "num = [1,3,2,4,5,6,87,78,90]\n",
    "num.reverse()\n",
    "num"
   ]
  },
  {
   "cell_type": "code",
   "execution_count": 4,
   "id": "d8c2dd24-8728-460c-a653-70881119b7b0",
   "metadata": {},
   "outputs": [
    {
     "data": {
      "text/plain": [
       "0"
      ]
     },
     "execution_count": 4,
     "metadata": {},
     "output_type": "execute_result"
    }
   ],
   "source": [
    "num.index(90)"
   ]
  },
  {
   "cell_type": "code",
   "execution_count": 6,
   "id": "10932477-d7c6-4763-b976-64b4aa3b38c6",
   "metadata": {},
   "outputs": [
    {
     "data": {
      "text/plain": [
       "8"
      ]
     },
     "execution_count": 6,
     "metadata": {},
     "output_type": "execute_result"
    }
   ],
   "source": [
    "num.index(1)"
   ]
  },
  {
   "cell_type": "code",
   "execution_count": 12,
   "id": "5f217ee9-ddef-44b7-ac08-4f5ac2f3ada5",
   "metadata": {},
   "outputs": [
    {
     "data": {
      "text/plain": [
       "6"
      ]
     },
     "execution_count": 12,
     "metadata": {},
     "output_type": "execute_result"
    }
   ],
   "source": [
    "stu = ['Asad','Khan','Saad','Zaid','Nasir','Sami','Khan']\n",
    "stu.index('Khan',3)"
   ]
  },
  {
   "cell_type": "code",
   "execution_count": 14,
   "id": "ffb74780-d9be-4929-82cf-f5edb8a598e3",
   "metadata": {},
   "outputs": [
    {
     "data": {
      "text/plain": [
       "1"
      ]
     },
     "execution_count": 14,
     "metadata": {},
     "output_type": "execute_result"
    }
   ],
   "source": [
    "stu.count('Asad')"
   ]
  },
  {
   "cell_type": "code",
   "execution_count": 16,
   "id": "4380bdd8-4aa9-495a-b4f2-ba87cccc635b",
   "metadata": {},
   "outputs": [
    {
     "data": {
      "text/plain": [
       "2"
      ]
     },
     "execution_count": 16,
     "metadata": {},
     "output_type": "execute_result"
    }
   ],
   "source": [
    "stu.count('Khan')"
   ]
  },
  {
   "cell_type": "markdown",
   "id": "ba7f4f0c-270d-4f2a-b2f7-f14342afce05",
   "metadata": {},
   "source": [
    "# Dictionary :\n",
    "- Easy To Read\n",
    "- {}\n",
    "- {Key:value}\n",
    "- Mutable : Change values\n",
    "- index nahi hota\n",
    "- "
   ]
  },
  {
   "cell_type": "code",
   "execution_count": 19,
   "id": "5f23828b-d5b6-4855-9409-eaca9cf5594d",
   "metadata": {},
   "outputs": [],
   "source": [
    "record1 = {'name':'Asad','Age':23,'City':'Karachi','Gender':'Male'} # First Key : Second Value"
   ]
  },
  {
   "cell_type": "code",
   "execution_count": 23,
   "id": "e4b3a1f0-d2e9-461a-af6c-167b834fc59e",
   "metadata": {},
   "outputs": [
    {
     "name": "stdout",
     "output_type": "stream",
     "text": [
      "{'name': 'Asad', 'Age': 23, 'City': 'Karachi', 'Gender': 'Male'}\n"
     ]
    }
   ],
   "source": [
    "print(record1)"
   ]
  },
  {
   "cell_type": "code",
   "execution_count": 25,
   "id": "279c9cf8-aa72-46aa-8829-63630e942a78",
   "metadata": {},
   "outputs": [
    {
     "name": "stdout",
     "output_type": "stream",
     "text": [
      "<class 'dict'>\n"
     ]
    }
   ],
   "source": [
    "print(type(record1))"
   ]
  },
  {
   "cell_type": "code",
   "execution_count": 27,
   "id": "49595168-0a40-4e3f-8680-4f0c71f5f185",
   "metadata": {},
   "outputs": [
    {
     "data": {
      "text/plain": [
       "4"
      ]
     },
     "execution_count": 27,
     "metadata": {},
     "output_type": "execute_result"
    }
   ],
   "source": [
    "len(record1)"
   ]
  },
  {
   "cell_type": "code",
   "execution_count": 41,
   "id": "f349ecaf-32af-4612-bb7a-b3a4b0fbb153",
   "metadata": {},
   "outputs": [],
   "source": [
    "#Adding a new Key : Value Pair In Dic\n",
    "record1['Contact'] = '13132478703'"
   ]
  },
  {
   "cell_type": "code",
   "execution_count": 43,
   "id": "a1762168-bae1-4029-a13d-51e348becdd0",
   "metadata": {},
   "outputs": [
    {
     "data": {
      "text/plain": [
       "{'name': 'Asad',\n",
       " 'Age': 23,\n",
       " 'City': 'Karachi',\n",
       " 'Gender': 'Male',\n",
       " 'Contact': '13132478703'}"
      ]
     },
     "execution_count": 43,
     "metadata": {},
     "output_type": "execute_result"
    }
   ],
   "source": [
    "record1"
   ]
  },
  {
   "cell_type": "code",
   "execution_count": 65,
   "id": "37f266c9-2630-4d02-ab4c-6d7acd9a0426",
   "metadata": {},
   "outputs": [
    {
     "data": {
      "text/plain": [
       "{'name': 'Asad',\n",
       " 'Age': 23,\n",
       " 'City': 'Karachi',\n",
       " 'Gender': 'Male',\n",
       " 'Contact': '03132478703',\n",
       " 'Abba': 'Ayub'}"
      ]
     },
     "execution_count": 65,
     "metadata": {},
     "output_type": "execute_result"
    }
   ],
   "source": [
    "record1['Abba'] = 'Ayub'  # Add The New Key And Value In Dic\n",
    "record1"
   ]
  },
  {
   "cell_type": "code",
   "execution_count": 51,
   "id": "1b8cfd01-c55b-49ad-b41e-3eaea1cc0e91",
   "metadata": {},
   "outputs": [],
   "source": [
    "record1['Abba'] = 'M Ayub' # Just Uppdate The Previous One"
   ]
  },
  {
   "cell_type": "code",
   "execution_count": 53,
   "id": "7533ae4e-cb86-426c-90bf-f094bbdf7110",
   "metadata": {},
   "outputs": [
    {
     "data": {
      "text/plain": [
       "{'name': 'Asad',\n",
       " 'Age': 23,\n",
       " 'City': 'Karachi',\n",
       " 'Gender': 'Male',\n",
       " 'Contact': '13132478703',\n",
       " 'Abba': 'M Ayub'}"
      ]
     },
     "execution_count": 53,
     "metadata": {},
     "output_type": "execute_result"
    }
   ],
   "source": [
    "record1"
   ]
  },
  {
   "cell_type": "code",
   "execution_count": 57,
   "id": "b7973334-c462-4210-89bf-6210fb655cb8",
   "metadata": {},
   "outputs": [
    {
     "data": {
      "text/plain": [
       "'Asad'"
      ]
     },
     "execution_count": 57,
     "metadata": {},
     "output_type": "execute_result"
    }
   ],
   "source": [
    "record1['name'] # To REtrive The Value From Dictionary"
   ]
  },
  {
   "cell_type": "code",
   "execution_count": 59,
   "id": "f70ec826-edb2-4721-bb3d-b3862c6e78e2",
   "metadata": {},
   "outputs": [
    {
     "data": {
      "text/plain": [
       "'13132478703'"
      ]
     },
     "execution_count": 59,
     "metadata": {},
     "output_type": "execute_result"
    }
   ],
   "source": [
    "record1['Contact']"
   ]
  },
  {
   "cell_type": "code",
   "execution_count": 61,
   "id": "1f3556f5-e980-4152-b10e-2edaf63a4859",
   "metadata": {},
   "outputs": [],
   "source": [
    "record1['Contact'] = '03132478703'"
   ]
  },
  {
   "cell_type": "code",
   "execution_count": 63,
   "id": "2e16c816-73ef-415d-bc88-6fc7fe2f851d",
   "metadata": {},
   "outputs": [
    {
     "data": {
      "text/plain": [
       "{'name': 'Asad',\n",
       " 'Age': 23,\n",
       " 'City': 'Karachi',\n",
       " 'Gender': 'Male',\n",
       " 'Contact': '03132478703',\n",
       " 'Abba': 'M Ayub'}"
      ]
     },
     "execution_count": 63,
     "metadata": {},
     "output_type": "execute_result"
    }
   ],
   "source": [
    "record1"
   ]
  },
  {
   "cell_type": "code",
   "execution_count": 73,
   "id": "13c4bf5a-94ac-4e80-a49d-37d2ed734bdc",
   "metadata": {},
   "outputs": [],
   "source": [
    "del record1['name'] # Delete The Value  from dict"
   ]
  },
  {
   "cell_type": "code",
   "execution_count": 75,
   "id": "0766a6de-e313-4f2d-8784-e484691a9256",
   "metadata": {},
   "outputs": [
    {
     "data": {
      "text/plain": [
       "{'Age': 23,\n",
       " 'City': 'Karachi',\n",
       " 'Gender': 'Male',\n",
       " 'Contact': '03132478703',\n",
       " 'Abba': 'Ayub'}"
      ]
     },
     "execution_count": 75,
     "metadata": {},
     "output_type": "execute_result"
    }
   ],
   "source": [
    "record1"
   ]
  },
  {
   "cell_type": "code",
   "execution_count": 77,
   "id": "6a9b72bd-41ec-4a58-8d90-1fd55dc3dff9",
   "metadata": {},
   "outputs": [],
   "source": [
    "# Builten Functions"
   ]
  },
  {
   "cell_type": "code",
   "execution_count": 79,
   "id": "ef4e9b19-cb88-4d9e-8ca9-6fa585803102",
   "metadata": {},
   "outputs": [
    {
     "data": {
      "text/plain": [
       "23"
      ]
     },
     "execution_count": 79,
     "metadata": {},
     "output_type": "execute_result"
    }
   ],
   "source": [
    "record1.pop('Age')"
   ]
  },
  {
   "cell_type": "code",
   "execution_count": 81,
   "id": "91089b37-4212-4bcc-9a80-3012b5526407",
   "metadata": {},
   "outputs": [
    {
     "data": {
      "text/plain": [
       "{'City': 'Karachi', 'Gender': 'Male', 'Contact': '03132478703', 'Abba': 'Ayub'}"
      ]
     },
     "execution_count": 81,
     "metadata": {},
     "output_type": "execute_result"
    }
   ],
   "source": [
    "record1.copy()"
   ]
  },
  {
   "cell_type": "code",
   "execution_count": 83,
   "id": "31f28f05-a791-40fa-86ac-e9539ce41296",
   "metadata": {},
   "outputs": [
    {
     "data": {
      "text/plain": [
       "('Abba', 'Ayub')"
      ]
     },
     "execution_count": 83,
     "metadata": {},
     "output_type": "execute_result"
    }
   ],
   "source": [
    "record1.popitem() # remove the last Key : value By Default"
   ]
  },
  {
   "cell_type": "code",
   "execution_count": 85,
   "id": "6a81cec9-e2a8-4664-b4d9-7ab369ecb21c",
   "metadata": {},
   "outputs": [],
   "source": [
    "record1['Abba'] = 'M Ayub'"
   ]
  },
  {
   "cell_type": "code",
   "execution_count": 87,
   "id": "e4d33604-dcb3-4a04-a229-22b4be3408df",
   "metadata": {},
   "outputs": [
    {
     "data": {
      "text/plain": [
       "dict_keys(['City', 'Gender', 'Contact', 'Abba'])"
      ]
     },
     "execution_count": 87,
     "metadata": {},
     "output_type": "execute_result"
    }
   ],
   "source": [
    "record1.keys() # Return All Keys Just"
   ]
  },
  {
   "cell_type": "code",
   "execution_count": 89,
   "id": "3ec72578-0bc0-4a53-80b3-3b3f6eaff406",
   "metadata": {},
   "outputs": [
    {
     "data": {
      "text/plain": [
       "dict_items([('City', 'Karachi'), ('Gender', 'Male'), ('Contact', '03132478703'), ('Abba', 'M Ayub')])"
      ]
     },
     "execution_count": 89,
     "metadata": {},
     "output_type": "execute_result"
    }
   ],
   "source": [
    "record1.items() #Return All Keys And All Values"
   ]
  },
  {
   "cell_type": "code",
   "execution_count": 91,
   "id": "ae2cea62-e1a6-4540-aee2-b7ec856906e3",
   "metadata": {},
   "outputs": [],
   "source": [
    "# ======{} For Knowing The Dic we Use \n",
    "# ======[] Data Add And Retrive We Use And For List We Use \n",
    "# ======() We Use it For All Functions"
   ]
  },
  {
   "cell_type": "code",
   "execution_count": 93,
   "id": "374abee2-5db8-4ff4-9e2f-e69df9e83918",
   "metadata": {},
   "outputs": [
    {
     "data": {
      "text/plain": [
       "('M Ayub', 'M Ayub')"
      ]
     },
     "execution_count": 93,
     "metadata": {},
     "output_type": "execute_result"
    }
   ],
   "source": [
    "record1.get('Abba') , record1['Abba']"
   ]
  },
  {
   "cell_type": "code",
   "execution_count": 97,
   "id": "7f45b72b-63f1-434f-b272-7cb1f15c6ef6",
   "metadata": {},
   "outputs": [
    {
     "ename": "KeyError",
     "evalue": "'name'",
     "output_type": "error",
     "traceback": [
      "\u001b[1;31m---------------------------------------------------------------------------\u001b[0m",
      "\u001b[1;31mKeyError\u001b[0m                                  Traceback (most recent call last)",
      "Cell \u001b[1;32mIn[97], line 1\u001b[0m\n\u001b[1;32m----> 1\u001b[0m record1[\u001b[38;5;124m'\u001b[39m\u001b[38;5;124mname\u001b[39m\u001b[38;5;124m'\u001b[39m]\n",
      "\u001b[1;31mKeyError\u001b[0m: 'name'"
     ]
    }
   ],
   "source": [
    "record1['name'] # Give You Key error Because no Key There "
   ]
  },
  {
   "cell_type": "code",
   "execution_count": 101,
   "id": "7d9c4167-d1d1-44d7-b814-bf5cdff3c97c",
   "metadata": {},
   "outputs": [
    {
     "name": "stdout",
     "output_type": "stream",
     "text": [
      "None\n"
     ]
    }
   ],
   "source": [
    "print(record1.get('name'))"
   ]
  },
  {
   "cell_type": "code",
   "execution_count": 107,
   "id": "1931026c-a43f-4e78-a60f-4f340b3b4db6",
   "metadata": {},
   "outputs": [
    {
     "data": {
      "text/plain": [
       "'M Ayub'"
      ]
     },
     "execution_count": 107,
     "metadata": {},
     "output_type": "execute_result"
    }
   ],
   "source": [
    "record1.get('Abba','Not Avalible In The Dic') # If Not Avalible IN The Dic So Return The Msg Or Avalible So return The Value"
   ]
  },
  {
   "cell_type": "code",
   "execution_count": 109,
   "id": "0647705f-0dc3-4252-a45d-4879927109f7",
   "metadata": {},
   "outputs": [],
   "source": [
    "mete_Data = {'Chiledren':12,'Height':6,'Bloood':'O+'}"
   ]
  },
  {
   "cell_type": "code",
   "execution_count": 115,
   "id": "94330f77-8227-4736-b386-6d58fe78256a",
   "metadata": {},
   "outputs": [],
   "source": [
    "record1.update(mete_Data) # Use As A Extend To ConCatinate The Two Dictionaries"
   ]
  },
  {
   "cell_type": "code",
   "execution_count": 117,
   "id": "a104b13c-165c-4783-8ead-ac5befca5c48",
   "metadata": {},
   "outputs": [
    {
     "data": {
      "text/plain": [
       "{'City': 'Karachi',\n",
       " 'Gender': 'Male',\n",
       " 'Contact': '03132478703',\n",
       " 'Abba': 'M Ayub',\n",
       " 'Chiledren': 12,\n",
       " 'Height': 6,\n",
       " 'Bloood': 'O+'}"
      ]
     },
     "execution_count": 117,
     "metadata": {},
     "output_type": "execute_result"
    }
   ],
   "source": [
    "record1"
   ]
  },
  {
   "cell_type": "markdown",
   "id": "c921d781-54de-437c-9d25-8aedd19c7722",
   "metadata": {},
   "source": [
    "# List in A Dictionary"
   ]
  },
  {
   "cell_type": "code",
   "execution_count": 120,
   "id": "167e884b-da34-4258-a53f-5b94d61896d6",
   "metadata": {},
   "outputs": [
    {
     "data": {
      "text/plain": [
       "{'Rool_no': [1, 2, 3, 4, 5, 6, 7, 8, 9, 10],\n",
       " 'Name': ['Asad',\n",
       "  'Khan',\n",
       "  'Saad',\n",
       "  'Zaid',\n",
       "  'Nasir',\n",
       "  'Sami',\n",
       "  'Khan',\n",
       "  'Suneel',\n",
       "  'TAha',\n",
       "  'Saqib'],\n",
       " 'Course': ['Phython',\n",
       "  'C',\n",
       "  'Js',\n",
       "  'Rubu',\n",
       "  'Cyber',\n",
       "  'Html',\n",
       "  'Css',\n",
       "  'Data Science',\n",
       "  'Ai',\n",
       "  'Java'],\n",
       " 'Marks': [10, 20, 30, 40, 50, 60, 70, 80, 90, 100]}"
      ]
     },
     "execution_count": 120,
     "metadata": {},
     "output_type": "execute_result"
    }
   ],
   "source": [
    "Students = {'Rool_no':[1,2,3,4,5,6,7,8,9,10],\n",
    "            'Name':['Asad','Khan','Saad','Zaid','Nasir','Sami','Khan','Suneel','TAha','Saqib'],\n",
    "           'Course':['Phython','C','Js','Rubu','Cyber','Html','Css','Data Science','Ai','Java'],\n",
    "           'Marks':[10,20,30,40,50,60,70,80,90,100]}\n",
    "Students"
   ]
  },
  {
   "cell_type": "code",
   "execution_count": 122,
   "id": "cab774d3-533c-4000-afcb-b72ff5389db8",
   "metadata": {},
   "outputs": [
    {
     "data": {
      "text/plain": [
       "['Phython',\n",
       " 'C',\n",
       " 'Js',\n",
       " 'Rubu',\n",
       " 'Cyber',\n",
       " 'Html',\n",
       " 'Css',\n",
       " 'Data Science',\n",
       " 'Ai',\n",
       " 'Java']"
      ]
     },
     "execution_count": 122,
     "metadata": {},
     "output_type": "execute_result"
    }
   ],
   "source": [
    "Students['Course']"
   ]
  },
  {
   "cell_type": "markdown",
   "id": "bc5446d8-10ae-46e8-8567-7cdd9e63af0b",
   "metadata": {},
   "source": [
    "# Tupple \n",
    "- ()\n",
    "- Immutable : Not Changeable"
   ]
  },
  {
   "cell_type": "code",
   "execution_count": 125,
   "id": "810648c6-3d89-4cfc-acc0-18f8d42066ce",
   "metadata": {},
   "outputs": [],
   "source": [
    "Atupple = (1,2,3,4,5)"
   ]
  },
  {
   "cell_type": "code",
   "execution_count": 127,
   "id": "7aeed8c7-57bf-4b13-88e6-ea271a1b25cc",
   "metadata": {},
   "outputs": [
    {
     "data": {
      "text/plain": [
       "tuple"
      ]
     },
     "execution_count": 127,
     "metadata": {},
     "output_type": "execute_result"
    }
   ],
   "source": [
    "type(Atupple)"
   ]
  },
  {
   "cell_type": "code",
   "execution_count": 129,
   "id": "f8a6e9e8-8197-4689-aa7d-8483b6eb4fbc",
   "metadata": {},
   "outputs": [
    {
     "data": {
      "text/plain": [
       "5"
      ]
     },
     "execution_count": 129,
     "metadata": {},
     "output_type": "execute_result"
    }
   ],
   "source": [
    "len(Atupple)"
   ]
  },
  {
   "cell_type": "code",
   "execution_count": 139,
   "id": "f9722c74-f3bf-463b-8f47-adcbfb94562f",
   "metadata": {},
   "outputs": [
    {
     "ename": "TypeError",
     "evalue": "'tuple' object does not support item assignment",
     "output_type": "error",
     "traceback": [
      "\u001b[1;31m---------------------------------------------------------------------------\u001b[0m",
      "\u001b[1;31mTypeError\u001b[0m                                 Traceback (most recent call last)",
      "Cell \u001b[1;32mIn[139], line 1\u001b[0m\n\u001b[1;32m----> 1\u001b[0m Atupple[\u001b[38;5;241m2\u001b[39m] \u001b[38;5;241m=\u001b[39m \u001b[38;5;241m100\u001b[39m\n",
      "\u001b[1;31mTypeError\u001b[0m: 'tuple' object does not support item assignment"
     ]
    }
   ],
   "source": [
    "Atupple[2] = 100 # Not ChangeAble"
   ]
  },
  {
   "cell_type": "code",
   "execution_count": 141,
   "id": "d6598d3d-f48e-427d-818d-95e5eeee0115",
   "metadata": {},
   "outputs": [],
   "source": [
    "b = 'Apple','Mango','Orange' # By Default Its A Tupple"
   ]
  },
  {
   "cell_type": "code",
   "execution_count": 144,
   "id": "3dd794ab-8ca5-4d9a-8ced-88c04dba6fc2",
   "metadata": {},
   "outputs": [
    {
     "data": {
      "text/plain": [
       "tuple"
      ]
     },
     "execution_count": 144,
     "metadata": {},
     "output_type": "execute_result"
    }
   ],
   "source": [
    "type(b)"
   ]
  },
  {
   "cell_type": "code",
   "execution_count": 152,
   "id": "86e7b666-b199-4ffa-9430-00b699e6e0ca",
   "metadata": {},
   "outputs": [
    {
     "data": {
      "text/plain": [
       "int"
      ]
     },
     "execution_count": 152,
     "metadata": {},
     "output_type": "execute_result"
    }
   ],
   "source": [
    "a = (10) # ITs Look Like A Tupple But Its A Integer Because Tupple Be Made From Minimum Two values\n",
    "type(a)"
   ]
  },
  {
   "cell_type": "code",
   "execution_count": 154,
   "id": "d649bd31-5bfd-4d89-836a-8de96cc20e05",
   "metadata": {},
   "outputs": [
    {
     "data": {
      "text/plain": [
       "tuple"
      ]
     },
     "execution_count": 154,
     "metadata": {},
     "output_type": "execute_result"
    }
   ],
   "source": [
    "a = (10,) # This Is A Tupple You Can Make It Like Theat\n",
    "type(a)"
   ]
  },
  {
   "cell_type": "code",
   "execution_count": null,
   "id": "d2dcb78d-4637-45f4-a484-949aab0d3428",
   "metadata": {},
   "outputs": [],
   "source": [
    "# Set \n",
    "- Collection Of Well Defined And Distinct (Unique) Object Is Call Set.\n",
    "- {1,2,3,4,5}\n"
   ]
  },
  {
   "cell_type": "code",
   "execution_count": 8,
   "id": "c127b6fa-6028-49a7-aadd-ce5cc2308b78",
   "metadata": {},
   "outputs": [],
   "source": [
    "Num = {1,2,3,4,5,5,6,7,8,9,10} # remove The Dup Value By Default"
   ]
  },
  {
   "cell_type": "code",
   "execution_count": 10,
   "id": "6e421c2b-1547-43b6-af28-6f1a812a1790",
   "metadata": {},
   "outputs": [
    {
     "data": {
      "text/plain": [
       "10"
      ]
     },
     "execution_count": 10,
     "metadata": {},
     "output_type": "execute_result"
    }
   ],
   "source": [
    "len(Num)"
   ]
  },
  {
   "cell_type": "code",
   "execution_count": 12,
   "id": "cd625c7d-1a29-4cdc-8f33-c1a9a11da5d6",
   "metadata": {},
   "outputs": [
    {
     "data": {
      "text/plain": [
       "{1, 2, 3, 4, 5, 6, 7, 8, 9, 10}"
      ]
     },
     "execution_count": 12,
     "metadata": {},
     "output_type": "execute_result"
    }
   ],
   "source": [
    "Num"
   ]
  },
  {
   "cell_type": "code",
   "execution_count": 14,
   "id": "530ffbe1-8604-4390-9883-98cdce39e23f",
   "metadata": {},
   "outputs": [],
   "source": [
    "Num.add(100)"
   ]
  },
  {
   "cell_type": "code",
   "execution_count": 16,
   "id": "862a6e85-b3ad-4b56-b0e8-7621eb1dc263",
   "metadata": {},
   "outputs": [
    {
     "data": {
      "text/plain": [
       "{1, 2, 3, 4, 5, 6, 7, 8, 9, 10, 100}"
      ]
     },
     "execution_count": 16,
     "metadata": {},
     "output_type": "execute_result"
    }
   ],
   "source": [
    "Num"
   ]
  },
  {
   "cell_type": "code",
   "execution_count": 24,
   "id": "8770c2f9-d7bf-494a-a67d-807a7a46335c",
   "metadata": {},
   "outputs": [
    {
     "data": {
      "text/plain": [
       "{11, 12, 13, 14, 15}"
      ]
     },
     "execution_count": 24,
     "metadata": {},
     "output_type": "execute_result"
    }
   ],
   "source": [
    "Num1 = {1,2,3,4,5,5,6,7,8,9,10}\n",
    "Num2 = {1,2,3,4,5,5,6,7,8,9,10,11,12,13,14,15}\n",
    "Num1.difference(Num2) #Give You The Difference Vlue in Num1\n",
    "Num2.difference(Num1) #Give You The Difference Vlue in Num22"
   ]
  },
  {
   "cell_type": "code",
   "execution_count": 26,
   "id": "87eece1c-5efe-4953-a64a-f62ce66fce9b",
   "metadata": {},
   "outputs": [],
   "source": [
    "Num1.difference_update(Num2)"
   ]
  },
  {
   "cell_type": "code",
   "execution_count": 28,
   "id": "bd5c2d0a-a8c3-4b14-9294-6c4a017d3da6",
   "metadata": {},
   "outputs": [
    {
     "data": {
      "text/plain": [
       "set()"
      ]
     },
     "execution_count": 28,
     "metadata": {},
     "output_type": "execute_result"
    }
   ],
   "source": [
    "Num1"
   ]
  },
  {
   "cell_type": "code",
   "execution_count": 30,
   "id": "e085ca72-856f-46d0-8302-c8cd22a95e09",
   "metadata": {},
   "outputs": [],
   "source": [
    "Num2.difference_update(Num1)"
   ]
  },
  {
   "cell_type": "code",
   "execution_count": 32,
   "id": "9d8d998d-5131-4d26-8fe1-ed3953ad82f3",
   "metadata": {},
   "outputs": [
    {
     "data": {
      "text/plain": [
       "{1, 2, 3, 4, 5, 6, 7, 8, 9, 10, 11, 12, 13, 14, 15}"
      ]
     },
     "execution_count": 32,
     "metadata": {},
     "output_type": "execute_result"
    }
   ],
   "source": [
    "Num2"
   ]
  },
  {
   "cell_type": "code",
   "execution_count": 34,
   "id": "2a619db8-e31d-4c8a-9909-03200ef2a0e9",
   "metadata": {},
   "outputs": [
    {
     "data": {
      "text/plain": [
       "{1, 2, 3, 4, 5, 6, 7, 8, 9, 10}"
      ]
     },
     "execution_count": 34,
     "metadata": {},
     "output_type": "execute_result"
    }
   ],
   "source": [
    "Num1 = {1,2,3,4,5,5,6,7,8,9,10}\n",
    "Num2 = {1,2,3,4,5,5,6,7,8,9,10,11,12,13,14,15}\n",
    "Num1.intersection(Num2)"
   ]
  },
  {
   "cell_type": "code",
   "execution_count": 38,
   "id": "98506716-e11c-46cb-ae66-a48cda152389",
   "metadata": {},
   "outputs": [
    {
     "data": {
      "text/plain": [
       "True"
      ]
     },
     "execution_count": 38,
     "metadata": {},
     "output_type": "execute_result"
    }
   ],
   "source": [
    "a = {1,2,3,4,5}\n",
    "b = {6,7,8,9}\n",
    "a.isdisjoint(b) # Both have Uniqe ValuesSo True Or False"
   ]
  },
  {
   "cell_type": "code",
   "execution_count": 40,
   "id": "6094f8ba-6334-4530-9eb9-760e12d1c0a2",
   "metadata": {},
   "outputs": [
    {
     "data": {
      "text/plain": [
       "{1, 2, 3, 4, 5, 6, 7, 8, 9, 10, 11, 12, 13, 14, 15}"
      ]
     },
     "execution_count": 40,
     "metadata": {},
     "output_type": "execute_result"
    }
   ],
   "source": [
    "Num2 = {1,2,3,4,5,5,6,7,8,9,10,11,12,13,14,15}\n",
    "Num1 = {1,2,3,4,5,5,6,7,8,9,10}\n",
    "Num2.union(Num1)"
   ]
  },
  {
   "cell_type": "code",
   "execution_count": 42,
   "id": "62317f91-83aa-4fe7-8c2b-cc8e98211459",
   "metadata": {},
   "outputs": [
    {
     "data": {
      "text/plain": [
       "1"
      ]
     },
     "execution_count": 42,
     "metadata": {},
     "output_type": "execute_result"
    }
   ],
   "source": [
    "Num2 = {1,2,3,4,5,5,6,7,8,9,10,11,12,13,14,15}\n",
    "Num1 = {1,2,3,4,5,5,6,7,8,9,10}\n",
    "Num2.pop() # Remove The Value From The first N"
   ]
  },
  {
   "cell_type": "code",
   "execution_count": null,
   "id": "4220a02d-34c1-4316-a019-ff7c9b77852d",
   "metadata": {},
   "outputs": [],
   "source": []
  }
 ],
 "metadata": {
  "kernelspec": {
   "display_name": "Python [conda env:base] *",
   "language": "python",
   "name": "conda-base-py"
  },
  "language_info": {
   "codemirror_mode": {
    "name": "ipython",
    "version": 3
   },
   "file_extension": ".py",
   "mimetype": "text/x-python",
   "name": "python",
   "nbconvert_exporter": "python",
   "pygments_lexer": "ipython3",
   "version": "3.12.7"
  }
 },
 "nbformat": 4,
 "nbformat_minor": 5
}
