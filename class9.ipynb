{
 "cells": [
  {
   "cell_type": "code",
   "execution_count": 2,
   "id": "bcaa1816-0c92-43f2-8390-4b8119b9e8aa",
   "metadata": {},
   "outputs": [],
   "source": [
    "students = ['Asad','zaid','khan','sami','nasir','sufiyan','saad','taha','suneel']"
   ]
  },
  {
   "cell_type": "code",
   "execution_count": 4,
   "id": "795911ab-e320-4f71-ae56-9fcb32408902",
   "metadata": {},
   "outputs": [
    {
     "name": "stdout",
     "output_type": "stream",
     "text": [
      "Asad\n",
      "zaid\n",
      "khan\n",
      "sami\n",
      "nasir\n",
      "sufiyan\n",
      "saad\n",
      "taha\n",
      "suneel\n"
     ]
    }
   ],
   "source": [
    "for stu in students:\n",
    "    print(stu)"
   ]
  },
  {
   "cell_type": "code",
   "execution_count": 6,
   "id": "fa4158f4-fc2c-49a0-8b7e-c7bf7e3cccec",
   "metadata": {},
   "outputs": [],
   "source": [
    "students = ['Asad','zaid','khan','sami','nasir','sufiyan','saad','taha','suneel']"
   ]
  },
  {
   "cell_type": "code",
   "execution_count": 8,
   "id": "e72cb122-962f-4d78-8c79-7b4eaa974329",
   "metadata": {},
   "outputs": [
    {
     "name": "stdout",
     "output_type": "stream",
     "text": [
      "Asad\n",
      "zaid\n",
      "khan\n",
      "sami\n",
      "nasir\n",
      "sufiyan\n",
      "saad\n",
      "taha\n",
      "suneel\n"
     ]
    },
    {
     "ename": "IndexError",
     "evalue": "list index out of range",
     "output_type": "error",
     "traceback": [
      "\u001b[1;31m---------------------------------------------------------------------------\u001b[0m",
      "\u001b[1;31mIndexError\u001b[0m                                Traceback (most recent call last)",
      "Cell \u001b[1;32mIn[8], line 2\u001b[0m\n\u001b[0;32m      1\u001b[0m \u001b[38;5;28;01mfor\u001b[39;00m i \u001b[38;5;129;01min\u001b[39;00m \u001b[38;5;28mrange\u001b[39m(\u001b[38;5;241m10\u001b[39m):\n\u001b[1;32m----> 2\u001b[0m     \u001b[38;5;28mprint\u001b[39m(students[i])\n",
      "\u001b[1;31mIndexError\u001b[0m: list index out of range"
     ]
    }
   ],
   "source": [
    "for i in range(10):\n",
    "    print(students[i])"
   ]
  },
  {
   "cell_type": "code",
   "execution_count": 10,
   "id": "e6f5fda6-45b3-4a65-a5ef-c2549180ed18",
   "metadata": {},
   "outputs": [],
   "source": [
    "students = ['Asad','zaid','khan','sami','nasir','sufiyan','saad','taha','suneel']"
   ]
  },
  {
   "cell_type": "code",
   "execution_count": 12,
   "id": "c47bddd2-807c-43f8-b933-3679263de6c5",
   "metadata": {},
   "outputs": [
    {
     "name": "stdout",
     "output_type": "stream",
     "text": [
      "Asad\n",
      "zaid\n",
      "khan\n",
      "sami\n",
      "nasir\n",
      "sufiyan\n",
      "saad\n",
      "taha\n",
      "suneel\n"
     ]
    }
   ],
   "source": [
    "for i in range(len(students)):\n",
    "    print(students[i])"
   ]
  },
  {
   "cell_type": "code",
   "execution_count": 14,
   "id": "7206f266-654d-494a-9d47-392713d886f4",
   "metadata": {},
   "outputs": [],
   "source": [
    "students = ['Asad','zaid','khan','sami','nasir','sufiyan','saad','taha','suneel']"
   ]
  },
  {
   "cell_type": "code",
   "execution_count": 20,
   "id": "58f70684-75d6-430d-8950-556a64c7c2a4",
   "metadata": {},
   "outputs": [
    {
     "name": "stdout",
     "output_type": "stream",
     "text": [
      "0 Asad\n",
      "1 zaid\n",
      "2 khan\n",
      "3 sami\n",
      "4 nasir\n",
      "5 sufiyan\n",
      "6 saad\n",
      "7 taha\n",
      "8 suneel\n"
     ]
    }
   ],
   "source": [
    "for s,i in  enumerate((students)):\n",
    "    print(s,i)"
   ]
  },
  {
   "cell_type": "code",
   "execution_count": 22,
   "id": "c63ba8be-5ac2-435b-838c-3051db17a468",
   "metadata": {},
   "outputs": [],
   "source": [
    "students = ['Asad','zaid','khan','sami','nasir','sufiyan','saad','taha','suneel']"
   ]
  },
  {
   "cell_type": "code",
   "execution_count": 28,
   "id": "e8d412f0-30ca-4502-b9d6-5e5c69f0fa26",
   "metadata": {},
   "outputs": [
    {
     "name": "stdout",
     "output_type": "stream",
     "text": [
      "0 suneel\n",
      "1 taha\n",
      "2 saad\n",
      "3 sufiyan\n",
      "4 nasir\n",
      "5 sami\n",
      "6 khan\n",
      "7 zaid\n",
      "8 Asad\n"
     ]
    }
   ],
   "source": [
    "for n,i in enumerate(range(len(students))):\n",
    "    print(n,students[::-1][i])"
   ]
  },
  {
   "cell_type": "code",
   "execution_count": 30,
   "id": "01cd97a1-ec4f-4250-9fa9-a50d2f568cd9",
   "metadata": {},
   "outputs": [],
   "source": [
    "students = ['Asad','zaid','khan','sami','nasir','sufiyan','saad','taha','suneel']"
   ]
  },
  {
   "cell_type": "code",
   "execution_count": 32,
   "id": "1ff50652-1e29-40be-b1f6-9c333b04b4f1",
   "metadata": {},
   "outputs": [
    {
     "name": "stdout",
     "output_type": "stream",
     "text": [
      "Asad\n",
      "zaid\n",
      "khan\n"
     ]
    }
   ],
   "source": [
    "for i in students:\n",
    "    if i == 'sami':\n",
    "        break\n",
    "    else:\n",
    "        print(i)"
   ]
  },
  {
   "cell_type": "code",
   "execution_count": 101,
   "id": "19525dda-cabc-49b1-9b70-7a3d30f82329",
   "metadata": {},
   "outputs": [
    {
     "name": "stdout",
     "output_type": "stream",
     "text": [
      "chuti : Asad\n",
      "chuti : zaid\n",
      "chuti : khan\n",
      "chuti : sami\n",
      "Not chuti : nasir\n",
      "Not chuti : sufiyan\n",
      "chuti : saad\n",
      "chuti : taha\n",
      "Not chuti : suneel\n"
     ]
    }
   ],
   "source": [
    "students = ['Asad','zaid','khan','sami','nasir','sufiyan','saad','taha','suneel']\n",
    "\n",
    "for s in students:\n",
    "    if len(s)<5:\n",
    "        print(f'chuti : {s}')\n",
    "    else:\n",
    "        print(f'Not chuti : {s}')\n",
    "\n",
    "\n"
   ]
  },
  {
   "cell_type": "code",
   "execution_count": 103,
   "id": "b9a2c62b-0092-46c5-8756-174dfc0311c2",
   "metadata": {},
   "outputs": [
    {
     "name": "stdout",
     "output_type": "stream",
     "text": [
      "Not chuti : nasir\n",
      "Not chuti : sufiyan\n",
      "Not chuti : suneel\n"
     ]
    }
   ],
   "source": [
    "students = ['Asad','zaid','khan','sami','nasir','sufiyan','saad','taha','suneel']\n",
    "\n",
    "for s in students:\n",
    "    if len(s)<5:\n",
    "        continue\n",
    "    else:\n",
    "        print(f'Not chuti : {s}')"
   ]
  },
  {
   "cell_type": "code",
   "execution_count": 105,
   "id": "8387a03e-7626-4fca-a4ea-5b589a13ef93",
   "metadata": {},
   "outputs": [
    {
     "name": "stdin",
     "output_type": "stream",
     "text": [
      "Enter Your names :  Asad\n",
      "Enter Your names :  saad\n",
      "Enter Your names :  khan\n",
      "Enter Your names :  zaid\n",
      "Enter Your names :  nasir\n"
     ]
    },
    {
     "data": {
      "text/plain": [
       "['Asad', 'saad', 'khan', 'zaid', 'nasir']"
      ]
     },
     "execution_count": 105,
     "metadata": {},
     "output_type": "execute_result"
    }
   ],
   "source": [
    "lst = []\n",
    "for n in range(5):\n",
    "    name = input('Enter Your names : ')\n",
    "    lst.append(name)\n",
    "\n",
    "lst"
   ]
  },
  {
   "cell_type": "code",
   "execution_count": 107,
   "id": "d8640f6e-2e16-48f9-9183-51992f0928e5",
   "metadata": {},
   "outputs": [
    {
     "name": "stdin",
     "output_type": "stream",
     "text": [
      "Enter Your names :  Asad\n",
      "Enter Your names :  saad\n",
      "Enter Your names :  nasir\n",
      "Enter Your names :  sumair\n",
      "Enter Your names :  suneel\n"
     ]
    },
    {
     "data": {
      "text/plain": [
       "['Asad', 'saad', 'nasir']"
      ]
     },
     "execution_count": 107,
     "metadata": {},
     "output_type": "execute_result"
    }
   ],
   "source": [
    "lst = []\n",
    "for n in range(5):\n",
    "    name = input('Enter Your names : ')\n",
    "    if len(name) > 5:\n",
    "        continue\n",
    "    else:\n",
    "        lst.append(name)\n",
    "\n",
    "lst"
   ]
  },
  {
   "cell_type": "code",
   "execution_count": 109,
   "id": "32963e38-c4e6-41b8-9d1c-7499c3287326",
   "metadata": {},
   "outputs": [
    {
     "name": "stdin",
     "output_type": "stream",
     "text": [
      "Enter Your names :  saad\n",
      "Enter Your names :  Asad\n",
      "Enter Your names :  khanone\n"
     ]
    },
    {
     "data": {
      "text/plain": [
       "['saad', 'Asad']"
      ]
     },
     "execution_count": 109,
     "metadata": {},
     "output_type": "execute_result"
    }
   ],
   "source": [
    "lst = []\n",
    "for n in range(5):\n",
    "    name = input('Enter Your names : ')\n",
    "    if len(name) > 5:\n",
    "        break\n",
    "    else:\n",
    "        lst.append(name)\n",
    "\n",
    "lst"
   ]
  },
  {
   "cell_type": "code",
   "execution_count": 111,
   "id": "66ba9491-9663-4956-bec6-c69a8bb95d7c",
   "metadata": {},
   "outputs": [
    {
     "name": "stdin",
     "output_type": "stream",
     "text": [
      "Enter Your names :  saad\n",
      "Enter Your names :  asad\n",
      "Enter Your names :  Asadkhan\n",
      "Enter Your names :  suneel\n",
      "Enter Your names :  nisaar\n"
     ]
    },
    {
     "data": {
      "text/plain": [
       "['Asadkhan', 'suneel', 'nisaar']"
      ]
     },
     "execution_count": 111,
     "metadata": {},
     "output_type": "execute_result"
    }
   ],
   "source": [
    "lst = []\n",
    "for n in range(5):\n",
    "    name = input('Enter Your names : ')\n",
    "    if len(name) > 5:\n",
    "        lst.append(name)\n",
    "    else:\n",
    "        continue\n",
    "\n",
    "lst"
   ]
  },
  {
   "cell_type": "code",
   "execution_count": 129,
   "id": "54a0c1ba-2698-4061-9848-526d06f4a265",
   "metadata": {},
   "outputs": [
    {
     "name": "stdin",
     "output_type": "stream",
     "text": [
      "Enter Your names :  asad\n",
      "Enter Your names :  saad\n",
      "Enter Your names :  khan\n",
      "Enter Your names :  azeem\n",
      "Enter Your names :  anees\n"
     ]
    },
    {
     "name": "stdout",
     "output_type": "stream",
     "text": [
      "['asad', 'saad', 'khan', 'azeem', 'anees']\n",
      "{0: 'asad', 1: 'saad', 2: 'khan', 3: 'azeem', 4: 'anees'}\n"
     ]
    }
   ],
   "source": [
    "lst = []\n",
    "dic = {}\n",
    "total  = 0\n",
    "for n in range(5):\n",
    "    name = input('Enter Your names : ')\n",
    "    lst.append(name)\n",
    "    dic[n]=name\n",
    "    \n",
    "\n",
    "print(lst)\n",
    "print(dic)\n"
   ]
  },
  {
   "cell_type": "code",
   "execution_count": 141,
   "id": "450249aa-4765-4219-84a1-c11042802c12",
   "metadata": {},
   "outputs": [
    {
     "name": "stdin",
     "output_type": "stream",
     "text": [
      "enter names : saad\n",
      "enter names : asad\n",
      "enter names : zaid\n",
      "enter names : khan\n",
      "enter names : nasir\n"
     ]
    },
    {
     "name": "stdout",
     "output_type": "stream",
     "text": [
      "{0: 'saad', 1: 'asad', 2: 'zaid', 4: 'nasir'}\n",
      "['saad', 'asad', 'zaid', 'khan', 'nasir']\n"
     ]
    }
   ],
   "source": [
    "lst = []\n",
    "dic = {}\n",
    "for i in range(5):\n",
    "    name = input('enter names :')\n",
    "    lst.append(name)\n",
    "    if name == 'khan':\n",
    "        continue\n",
    "    else:\n",
    "        dic[i]=name\n",
    "\n",
    "print(dic)\n",
    "print(lst)\n"
   ]
  },
  {
   "cell_type": "code",
   "execution_count": 143,
   "id": "a5239574-43b5-4a86-b934-7321fee67e83",
   "metadata": {},
   "outputs": [
    {
     "name": "stdin",
     "output_type": "stream",
     "text": [
      "enter names : saad\n",
      "enter names : asad\n",
      "enter names : zaid\n",
      "enter names : khan\n"
     ]
    },
    {
     "name": "stdout",
     "output_type": "stream",
     "text": [
      "{0: 'saad', 1: 'asad', 2: 'zaid'}\n",
      "['saad', 'asad', 'zaid', 'khan']\n"
     ]
    }
   ],
   "source": [
    "lst = []\n",
    "dic = {}\n",
    "for i in range(5):\n",
    "    name = input('enter names :')\n",
    "    lst.append(name)\n",
    "    if name == 'khan':\n",
    "        break\n",
    "    else:\n",
    "        dic[i]=name\n",
    "\n",
    "print(dic)\n",
    "print(lst)\n"
   ]
  },
  {
   "cell_type": "code",
   "execution_count": 145,
   "id": "ae49caa1-e2be-4401-829d-e9aebe881161",
   "metadata": {},
   "outputs": [
    {
     "name": "stdout",
     "output_type": "stream",
     "text": [
      "150\n"
     ]
    }
   ],
   "source": [
    "# Example list\n",
    "numbers = [10, 20, 30, 40, 50]\n",
    "total\n",
    "# Write a for loop to calculate the sum\n",
    "\n",
    "for i in numbers:\n",
    "    total+=i\n",
    "\n",
    "print(total)"
   ]
  },
  {
   "cell_type": "code",
   "execution_count": 151,
   "id": "51b53199-111e-4e04-a7ce-74354305c72d",
   "metadata": {},
   "outputs": [
    {
     "name": "stdout",
     "output_type": "stream",
     "text": [
      "Even Number : 4\n",
      "Even Number : 8\n",
      "Even Number : 12\n"
     ]
    }
   ],
   "source": [
    "# Example list\n",
    "numbers = [1, 4, 5, 8, 9, 12]\n",
    "\n",
    "# Use a for loop and if condition to print even numbers\n",
    "for i in numbers:\n",
    "    if i%2==0:\n",
    "        print(f'Even Number : {i}')\n",
    "    else:\n",
    "        continue\n",
    "\n"
   ]
  },
  {
   "cell_type": "code",
   "execution_count": 161,
   "id": "4946e16b-fadf-4fad-a5c1-d52b8ada43b9",
   "metadata": {},
   "outputs": [
    {
     "name": "stdout",
     "output_type": "stream",
     "text": [
      "name Alice\n",
      "age 20\n",
      "grade A\n"
     ]
    }
   ],
   "source": [
    "# Example dictionary\n",
    "student = {\"name\": \"Alice\", \"age\": 20, \"grade\": \"A\"}\n",
    "\n",
    "# Write a for loop to print keys and values\n",
    "for i,n in student.items():\n",
    "    print(i,n)"
   ]
  },
  {
   "cell_type": "code",
   "execution_count": 163,
   "id": "68c45b3c-ba63-4af9-910a-65500f4b6c06",
   "metadata": {},
   "outputs": [
    {
     "name": "stdout",
     "output_type": "stream",
     "text": [
      "Odd : 1\n",
      "Even : 2\n",
      "Odd : 3\n",
      "Even : 4\n",
      "Odd : 5\n",
      "Even : 6\n",
      "Odd : 7\n",
      "Even : 8\n",
      "Odd : 9\n",
      "Even : 10\n"
     ]
    }
   ],
   "source": [
    "for i in range(1,11):\n",
    "    if i%2==0:\n",
    "        print(f'Even : {i}')\n",
    "    else:\n",
    "        print(f'Odd : {i}')"
   ]
  },
  {
   "cell_type": "code",
   "execution_count": 175,
   "id": "6f878a4a-5343-49be-9030-365709ac8502",
   "metadata": {},
   "outputs": [
    {
     "data": {
      "text/plain": [
       "7"
      ]
     },
     "execution_count": 175,
     "metadata": {},
     "output_type": "execute_result"
    }
   ],
   "source": [
    "#Count how many times the letter 'a' appears in a list of strings.\n",
    "\n",
    "words = [\"apple\", \"banana\", \"grape\", \"avocado\"]\n",
    "total = 0\n",
    "# Write code to count total occurrences of 'a'\n",
    "for i in words:\n",
    "    total+=i.count('a')\n",
    "\n",
    "total\n",
    "    "
   ]
  },
  {
   "cell_type": "code",
   "execution_count": 187,
   "id": "144c4a87-30a4-4583-87cf-ea655493be0a",
   "metadata": {},
   "outputs": [
    {
     "data": {
      "text/plain": [
       "[55, 78, 60]"
      ]
     },
     "execution_count": 187,
     "metadata": {},
     "output_type": "execute_result"
    }
   ],
   "source": [
    "#From a list of numbers, create a new list of only the numbers greater than 50.\n",
    "\n",
    "numbers = [10, 55, 23, 78, 33, 60]\n",
    "new = []\n",
    "# Create a new list with numbers > 50 using a for loop and if condition\n",
    "for i in numbers:\n",
    "    if i > 50:\n",
    "        new.append(i)\n",
    "    else:\n",
    "        continue\n",
    "\n",
    "new"
   ]
  },
  {
   "cell_type": "code",
   "execution_count": 193,
   "id": "2f1446d1-a0b5-4f4c-97fb-ca9a2816aa61",
   "metadata": {},
   "outputs": [
    {
     "name": "stdout",
     "output_type": "stream",
     "text": [
      "Their names are : ('Emma', 82)\n",
      "Their names are : ('Sophia', 90)\n"
     ]
    }
   ],
   "source": [
    "#From a dictionary of students and their scores, print names of students who scored more than 75.\n",
    "\n",
    "scores = {\"John\": 65, \"Emma\": 82, \"Sophia\": 90, \"Mike\": 70}\n",
    "\n",
    "# Write a for loop with if condition\n",
    "for n,i in scores.items():\n",
    "    if i > 75:\n",
    "        print(f'Their names are : {n,i}')\n",
    "    else:\n",
    "        continue"
   ]
  },
  {
   "cell_type": "code",
   "execution_count": 195,
   "id": "43119746-966a-493c-ba0f-2109013c930a",
   "metadata": {},
   "outputs": [
    {
     "data": {
      "text/plain": [
       "{'name': 'Alice', 'age': 25, 'city': 'New York'}"
      ]
     },
     "execution_count": 195,
     "metadata": {},
     "output_type": "execute_result"
    }
   ],
   "source": [
    "#Create a dictionary from two lists using a for loop.\n",
    "result = {}\n",
    "keys = [\"name\", \"age\", \"city\"]\n",
    "values = [\"Alice\", 25, \"New York\"]\n",
    "\n",
    "# Use a for loop to create a dictionary\n",
    "for i in range(len(keys)):\n",
    "    result[keys[i]]=values[i]\n",
    "\n",
    "result"
   ]
  },
  {
   "cell_type": "code",
   "execution_count": 203,
   "id": "2eb039c9-d4fa-4f5e-a778-b9724bdbbff0",
   "metadata": {},
   "outputs": [
    {
     "name": "stdout",
     "output_type": "stream",
     "text": [
      "['a', 'b', 'c']\n",
      "[1, 2, 3]\n"
     ]
    }
   ],
   "source": [
    "#Loop through a dictionary and create two lists: one for keys and one for values.\n",
    "\n",
    "data = {\"a\": 1, \"b\": 2, \"c\": 3}\n",
    "keys = []\n",
    "values = []\n",
    "# Create key_list and value_list\n",
    "\n",
    "for e,k in data.items():\n",
    "    keys.append(e)\n",
    "    values.append(k)\n",
    "\n",
    "print(keys)\n",
    "print(values)\n",
    "    "
   ]
  },
  {
   "cell_type": "code",
   "execution_count": 207,
   "id": "85c8f634-8d14-431c-b265-5487f6f19c30",
   "metadata": {},
   "outputs": [
    {
     "name": "stdout",
     "output_type": "stream",
     "text": [
      "30\n"
     ]
    }
   ],
   "source": [
    "#Given a list of dictionaries, print the name of the person with the highest age.\n",
    "\n",
    "people = [\n",
    "    {\"name\": \"Alice\", \"age\": 25},\n",
    "    {\"name\": \"Bob\", \"age\": 30},\n",
    "    {\"name\": \"Charlie\", \"age\": 28}\n",
    "]\n",
    "\n",
    "maxe = people[0]['age']\n",
    "old =  people[0]['name']\n",
    "\n",
    "# Use for loop with if condition to find the person with max age\n",
    "for i in people:\n",
    "    if i['age']>maxe:\n",
    "        maxe = i['age']\n",
    "\n",
    "print(maxe)"
   ]
  },
  {
   "cell_type": "code",
   "execution_count": null,
   "id": "b3c68194-e89a-4d16-9680-2eab650a6849",
   "metadata": {},
   "outputs": [],
   "source": []
  }
 ],
 "metadata": {
  "kernelspec": {
   "display_name": "Python [conda env:base] *",
   "language": "python",
   "name": "conda-base-py"
  },
  "language_info": {
   "codemirror_mode": {
    "name": "ipython",
    "version": 3
   },
   "file_extension": ".py",
   "mimetype": "text/x-python",
   "name": "python",
   "nbconvert_exporter": "python",
   "pygments_lexer": "ipython3",
   "version": "3.12.7"
  }
 },
 "nbformat": 4,
 "nbformat_minor": 5
}
