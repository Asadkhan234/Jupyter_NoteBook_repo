{
 "cells": [
  {
   "cell_type": "code",
   "execution_count": 6,
   "id": "11073a8b-eb76-429e-b9e1-ff4d8089ea72",
   "metadata": {},
   "outputs": [],
   "source": [
    "# Dictionary : Practice"
   ]
  },
  {
   "cell_type": "code",
   "execution_count": 8,
   "id": "c993df57-bf02-4ed5-8cd5-afcb38f3a0ad",
   "metadata": {},
   "outputs": [],
   "source": [
    "self = {'name':'Asad','Age':22,'Gender':'male','height':5.9,'color':'light','qualification':'under-graduate'}"
   ]
  },
  {
   "cell_type": "code",
   "execution_count": 10,
   "id": "d0d755af-ea89-47fe-afcb-ca566cc7c197",
   "metadata": {},
   "outputs": [
    {
     "data": {
      "text/plain": [
       "'Asad'"
      ]
     },
     "execution_count": 10,
     "metadata": {},
     "output_type": "execute_result"
    }
   ],
   "source": [
    "self['name']"
   ]
  },
  {
   "cell_type": "code",
   "execution_count": 16,
   "id": "fcdb5cb1-e1aa-4ee8-b4fb-39498791d729",
   "metadata": {},
   "outputs": [
    {
     "ename": "KeyError",
     "evalue": "'Asad'",
     "output_type": "error",
     "traceback": [
      "\u001b[1;31m---------------------------------------------------------------------------\u001b[0m",
      "\u001b[1;31mKeyError\u001b[0m                                  Traceback (most recent call last)",
      "Cell \u001b[1;32mIn[16], line 1\u001b[0m\n\u001b[1;32m----> 1\u001b[0m \u001b[38;5;28mself\u001b[39m[\u001b[38;5;124m'\u001b[39m\u001b[38;5;124mAsad\u001b[39m\u001b[38;5;124m'\u001b[39m]\n",
      "\u001b[1;31mKeyError\u001b[0m: 'Asad'"
     ]
    }
   ],
   "source": [
    "self['Asad'] # You Can Get The Value Out Just By Key Not By Value"
   ]
  },
  {
   "cell_type": "code",
   "execution_count": 18,
   "id": "1431d318-962e-4b6e-8c25-ef7e76122f1d",
   "metadata": {},
   "outputs": [
    {
     "data": {
      "text/plain": [
       "22"
      ]
     },
     "execution_count": 18,
     "metadata": {},
     "output_type": "execute_result"
    }
   ],
   "source": [
    "self['Age']"
   ]
  },
  {
   "cell_type": "code",
   "execution_count": 20,
   "id": "df2de61c-8968-4e9b-8859-c6de7dbcfc60",
   "metadata": {},
   "outputs": [
    {
     "data": {
      "text/plain": [
       "'light'"
      ]
     },
     "execution_count": 20,
     "metadata": {},
     "output_type": "execute_result"
    }
   ],
   "source": [
    "self['color']"
   ]
  },
  {
   "cell_type": "code",
   "execution_count": 22,
   "id": "8354fb89-f615-4fbf-9bf9-9c9f49b425aa",
   "metadata": {},
   "outputs": [
    {
     "data": {
      "text/plain": [
       "'under-graduate'"
      ]
     },
     "execution_count": 22,
     "metadata": {},
     "output_type": "execute_result"
    }
   ],
   "source": [
    "self['qualification']"
   ]
  },
  {
   "cell_type": "code",
   "execution_count": 24,
   "id": "fc06c945-c5c8-42d9-acd6-72313215e155",
   "metadata": {},
   "outputs": [
    {
     "data": {
      "text/plain": [
       "{'name': 'Asad',\n",
       " 'Age': 22,\n",
       " 'Gender': 'male',\n",
       " 'height': 5.9,\n",
       " 'color': 'light',\n",
       " 'qualification': 'under-graduate'}"
      ]
     },
     "execution_count": 24,
     "metadata": {},
     "output_type": "execute_result"
    }
   ],
   "source": [
    "self # By Writing Just a Variable Name Gives You The Whole Dictionary"
   ]
  },
  {
   "cell_type": "code",
   "execution_count": 26,
   "id": "e755c5d0-bc2e-4e97-9c32-cac71dcec2f6",
   "metadata": {},
   "outputs": [
    {
     "data": {
      "text/plain": [
       "6"
      ]
     },
     "execution_count": 26,
     "metadata": {},
     "output_type": "execute_result"
    }
   ],
   "source": [
    "len(self)"
   ]
  },
  {
   "cell_type": "code",
   "execution_count": 28,
   "id": "9449c81e-4f2f-43ac-9a7d-94ac234f23b3",
   "metadata": {},
   "outputs": [
    {
     "data": {
      "text/plain": [
       "dict"
      ]
     },
     "execution_count": 28,
     "metadata": {},
     "output_type": "execute_result"
    }
   ],
   "source": [
    "type(self)"
   ]
  },
  {
   "cell_type": "code",
   "execution_count": 54,
   "id": "12f14e26-9ec5-4fe0-8f83-770dc696d368",
   "metadata": {},
   "outputs": [],
   "source": [
    "# How To Add New Key:Value In The Dictionary:"
   ]
  },
  {
   "cell_type": "code",
   "execution_count": 56,
   "id": "51b03b99-29a3-40da-aec6-812bd938d2ee",
   "metadata": {},
   "outputs": [
    {
     "data": {
      "text/plain": [
       "{'name': 'AsadUllah-Khan',\n",
       " 'Age': 23,\n",
       " 'Gender': 'male',\n",
       " 'height': 5.9,\n",
       " 'color': 'light',\n",
       " 'qualification': 'under-graduate',\n",
       " 'HObby': 'Cricket',\n",
       " 'Course': 'Ai And Data Science',\n",
       " 'Contact': '03132478703'}"
      ]
     },
     "execution_count": 56,
     "metadata": {},
     "output_type": "execute_result"
    }
   ],
   "source": [
    "self['HObby']='Cricket'\n",
    "self"
   ]
  },
  {
   "cell_type": "code",
   "execution_count": 58,
   "id": "75257790-a22b-4fa5-92e1-80ac5cd29598",
   "metadata": {},
   "outputs": [
    {
     "data": {
      "text/plain": [
       "{'name': 'AsadUllah-Khan',\n",
       " 'Age': 23,\n",
       " 'Gender': 'male',\n",
       " 'height': 5.9,\n",
       " 'color': 'light',\n",
       " 'qualification': 'under-graduate',\n",
       " 'HObby': 'Cricket',\n",
       " 'Course': 'Ai And Data Science',\n",
       " 'Contact': '03132478703'}"
      ]
     },
     "execution_count": 58,
     "metadata": {},
     "output_type": "execute_result"
    }
   ],
   "source": [
    "self['Course']='Ai And Data Science'\n",
    "self"
   ]
  },
  {
   "cell_type": "code",
   "execution_count": 60,
   "id": "2684095a-a09d-4d26-bd47-f4955cca1bb5",
   "metadata": {},
   "outputs": [
    {
     "data": {
      "text/plain": [
       "{'name': 'AsadUllah-Khan',\n",
       " 'Age': 23,\n",
       " 'Gender': 'male',\n",
       " 'height': 5.9,\n",
       " 'color': 'light',\n",
       " 'qualification': 'under-graduate',\n",
       " 'HObby': 'Cricket',\n",
       " 'Course': 'Ai And Data Science',\n",
       " 'Contact': '03132478703'}"
      ]
     },
     "execution_count": 60,
     "metadata": {},
     "output_type": "execute_result"
    }
   ],
   "source": [
    "self['Contact'] = '03132478703'\n",
    "self"
   ]
  },
  {
   "cell_type": "code",
   "execution_count": 62,
   "id": "179b5431-5384-4732-823a-f2d520fcae8e",
   "metadata": {},
   "outputs": [],
   "source": [
    "# How To Uppdate the Previous Dictionary/Key:Value  :"
   ]
  },
  {
   "cell_type": "code",
   "execution_count": 64,
   "id": "18c7d132-708e-4c9a-879f-96f41da62aec",
   "metadata": {},
   "outputs": [
    {
     "data": {
      "text/plain": [
       "{'name': 'AsadUllah-Khan',\n",
       " 'Age': 23,\n",
       " 'Gender': 'male',\n",
       " 'height': 5.9,\n",
       " 'color': 'light',\n",
       " 'qualification': 'under-graduate',\n",
       " 'HObby': 'Cricket',\n",
       " 'Course': 'Ai And Data Science',\n",
       " 'Contact': '03132478703'}"
      ]
     },
     "execution_count": 64,
     "metadata": {},
     "output_type": "execute_result"
    }
   ],
   "source": [
    "self['name']='AsadUllah-Khan'\n",
    "self['Age']=23\n",
    "self"
   ]
  },
  {
   "cell_type": "code",
   "execution_count": 66,
   "id": "305caa8b-b22f-499f-a071-cf88a5c392bf",
   "metadata": {},
   "outputs": [],
   "source": [
    "# How To Delete A Key:Value From The Dictionary"
   ]
  },
  {
   "cell_type": "code",
   "execution_count": 90,
   "id": "510f9def-2b7f-4a9a-a10e-773f8b15eda5",
   "metadata": {},
   "outputs": [],
   "source": [
    "del self['Contact']"
   ]
  },
  {
   "cell_type": "code",
   "execution_count": 92,
   "id": "8a642e18-d35d-4d29-b726-be1d30581e9a",
   "metadata": {},
   "outputs": [
    {
     "data": {
      "text/plain": [
       "{'Gender': 'male',\n",
       " 'height': 5.9,\n",
       " 'color': 'light',\n",
       " 'qualification': 'under-graduate',\n",
       " 'HObby': 'Cricket',\n",
       " 'Course': 'Ai And Data Science'}"
      ]
     },
     "execution_count": 92,
     "metadata": {},
     "output_type": "execute_result"
    }
   ],
   "source": [
    "self"
   ]
  },
  {
   "cell_type": "code",
   "execution_count": 94,
   "id": "6e05d87a-8998-4daa-955e-8b3ed8456da3",
   "metadata": {},
   "outputs": [
    {
     "data": {
      "text/plain": [
       "{'Gender': 'male',\n",
       " 'height': 5.9,\n",
       " 'qualification': 'under-graduate',\n",
       " 'HObby': 'Cricket',\n",
       " 'Course': 'Ai And Data Science'}"
      ]
     },
     "execution_count": 94,
     "metadata": {},
     "output_type": "execute_result"
    }
   ],
   "source": [
    "del self['color']\n",
    "self"
   ]
  },
  {
   "cell_type": "code",
   "execution_count": 150,
   "id": "9fc03dfa-4e54-4833-b14e-021a29064e87",
   "metadata": {},
   "outputs": [],
   "source": [
    "self = {'name':'Asad','Age':22,'Gender':'male','height':5.9,'color':'light','qualification':'under-graduate'}"
   ]
  },
  {
   "cell_type": "code",
   "execution_count": 152,
   "id": "6757ed26-91a2-45b6-a719-08a19314dced",
   "metadata": {},
   "outputs": [
    {
     "data": {
      "text/plain": [
       "{'name': 'Asad',\n",
       " 'Age': 22,\n",
       " 'Gender': 'male',\n",
       " 'height': 5.9,\n",
       " 'color': 'light',\n",
       " 'qualification': 'under-graduate'}"
      ]
     },
     "execution_count": 152,
     "metadata": {},
     "output_type": "execute_result"
    }
   ],
   "source": [
    "self"
   ]
  },
  {
   "cell_type": "code",
   "execution_count": 154,
   "id": "69651847-fbc5-499d-8cc2-ff3c99ee517c",
   "metadata": {},
   "outputs": [],
   "source": [
    "#Builten Functions On Dictionary :"
   ]
  },
  {
   "cell_type": "code",
   "execution_count": 156,
   "id": "00a2288b-cd82-4ccf-98c9-1831aaba4faa",
   "metadata": {},
   "outputs": [
    {
     "data": {
      "text/plain": [
       "{'name': 'Asad',\n",
       " 'Gender': 'male',\n",
       " 'height': 5.9,\n",
       " 'color': 'light',\n",
       " 'qualification': 'under-graduate'}"
      ]
     },
     "execution_count": 156,
     "metadata": {},
     "output_type": "execute_result"
    }
   ],
   "source": [
    "self.pop('Age') # Same A   : del Slef['Age']\n",
    "self"
   ]
  },
  {
   "cell_type": "code",
   "execution_count": 158,
   "id": "cc15cfbf-fa08-4a56-b62e-92c949a26e5e",
   "metadata": {},
   "outputs": [
    {
     "data": {
      "text/plain": [
       "('qualification', 'under-graduate')"
      ]
     },
     "execution_count": 158,
     "metadata": {},
     "output_type": "execute_result"
    }
   ],
   "source": [
    "self.popitem()  #remove the Last Item From The Dic By Default And Return The Key : value"
   ]
  },
  {
   "cell_type": "code",
   "execution_count": 160,
   "id": "f1b9cc7c-1d21-46f4-a3d5-4fa4d2060c42",
   "metadata": {},
   "outputs": [
    {
     "data": {
      "text/plain": [
       "dict_items([('name', 'Asad'), ('Gender', 'male'), ('height', 5.9), ('color', 'light')])"
      ]
     },
     "execution_count": 160,
     "metadata": {},
     "output_type": "execute_result"
    }
   ],
   "source": [
    "self.items() # retun the Key:value both"
   ]
  },
  {
   "cell_type": "code",
   "execution_count": 162,
   "id": "584c3eb5-65a7-444b-9f03-823fad583c6c",
   "metadata": {},
   "outputs": [
    {
     "data": {
      "text/plain": [
       "dict_keys(['name', 'Gender', 'height', 'color'])"
      ]
     },
     "execution_count": 162,
     "metadata": {},
     "output_type": "execute_result"
    }
   ],
   "source": [
    "self.keys() #return Just Keys"
   ]
  },
  {
   "cell_type": "code",
   "execution_count": 164,
   "id": "df314f8e-6619-44a5-bbb9-2e05bb25a827",
   "metadata": {},
   "outputs": [
    {
     "data": {
      "text/plain": [
       "'Asad'"
      ]
     },
     "execution_count": 164,
     "metadata": {},
     "output_type": "execute_result"
    }
   ],
   "source": [
    "self.get('name')  # Work Same As : Self['name']"
   ]
  },
  {
   "cell_type": "code",
   "execution_count": 140,
   "id": "34f583db-87c4-41ce-865d-37e111915d4c",
   "metadata": {},
   "outputs": [
    {
     "data": {
      "text/plain": [
       "'Wrong Key '"
      ]
     },
     "execution_count": 140,
     "metadata": {},
     "output_type": "execute_result"
    }
   ],
   "source": [
    "# But If You Give Wrong Key It Will return Just (None) or Pass The Msg \n",
    "self.get('nama','Wrong Key ')"
   ]
  },
  {
   "cell_type": "code",
   "execution_count": 166,
   "id": "7e6b5a84-e0fc-4593-8ab5-59b49c6c794b",
   "metadata": {},
   "outputs": [],
   "source": [
    "Bro = {'Name':'Saif','age':19,'gender':'Male'}"
   ]
  },
  {
   "cell_type": "code",
   "execution_count": 170,
   "id": "fadda3c4-f684-47a6-b81a-28a9ce9449f8",
   "metadata": {},
   "outputs": [
    {
     "data": {
      "text/plain": [
       "{'name': 'Asad',\n",
       " 'Gender': 'male',\n",
       " 'height': 5.9,\n",
       " 'color': 'light',\n",
       " 'Name': 'Saif',\n",
       " 'age': 19,\n",
       " 'gender': 'Male'}"
      ]
     },
     "execution_count": 170,
     "metadata": {},
     "output_type": "execute_result"
    }
   ],
   "source": [
    "self.update(Bro) # Used To Concatinate The Two Dictionaries\n",
    "self"
   ]
  },
  {
   "cell_type": "markdown",
   "id": "a8ea79d6-7456-48f8-8c90-529aa9cacac4",
   "metadata": {},
   "source": [
    "#  List In Dictionary"
   ]
  },
  {
   "cell_type": "code",
   "execution_count": 175,
   "id": "3556ec9b-d275-49e4-b219-e2274040ff8e",
   "metadata": {},
   "outputs": [
    {
     "data": {
      "text/plain": [
       "{'namse': ['Baber',\n",
       "  'Rizwan',\n",
       "  'Haris',\n",
       "  'Salman',\n",
       "  'Saim',\n",
       "  'Amir-Jamal',\n",
       "  'Suffiyan',\n",
       "  'Shaheen',\n",
       "  'Haris-Rauf',\n",
       "  'Naseem'],\n",
       " 'Ages': ['28', '30', '27', '22', '29', '30', '31', '28', '32', '25'],\n",
       " 'Roll': ['Bat',\n",
       "  'Bat',\n",
       "  'Bat/Bowl',\n",
       "  'Bat',\n",
       "  'Bat',\n",
       "  'Allrounder',\n",
       "  'Allrounder',\n",
       "  'Spin',\n",
       "  'Seem',\n",
       "  'Seem',\n",
       "  'Seem']}"
      ]
     },
     "execution_count": 175,
     "metadata": {},
     "output_type": "execute_result"
    }
   ],
   "source": [
    "Team = {'namse':['Baber','Rizwan','Haris','Salman','Saim','Amir-Jamal','Suffiyan','Shaheen','Haris-Rauf','Naseem'],\n",
    "        'Ages' : ['28','30','27','22','29','30','31','28','32','25'],\n",
    "         'Roll':['Bat','Bat','Bat/Bowl','Bat','Bat','Allrounder','Allrounder','Spin','Seem','Seem','Seem']}\n",
    "Team"
   ]
  },
  {
   "cell_type": "code",
   "execution_count": 191,
   "id": "02475935-d35f-4546-80ba-05f7b8bc6b48",
   "metadata": {},
   "outputs": [
    {
     "data": {
      "text/plain": [
       "['Baber',\n",
       " 'Rizwan',\n",
       " 'Haris',\n",
       " 'Salman',\n",
       " 'Saim',\n",
       " 'Amir-Jamal',\n",
       " 'Suffiyan',\n",
       " 'Shaheen',\n",
       " 'Haris-Rauf',\n",
       " 'Naseem']"
      ]
     },
     "execution_count": 191,
     "metadata": {},
     "output_type": "execute_result"
    }
   ],
   "source": [
    "Team['namse']"
   ]
  },
  {
   "cell_type": "markdown",
   "id": "ac2a144b-23c4-473b-8056-50c74be17cce",
   "metadata": {},
   "source": [
    "# Tupple :\n",
    "- Tupple Is Not Changeable \n",
    "- Tupple Not Support Item Deletion\n",
    "- Tupple Not Added New Data"
   ]
  },
  {
   "cell_type": "code",
   "execution_count": 223,
   "id": "0cbe2e7d-2abd-4cc4-b3ac-75c9c191d520",
   "metadata": {},
   "outputs": [
    {
     "data": {
      "text/plain": [
       "tuple"
      ]
     },
     "execution_count": 223,
     "metadata": {},
     "output_type": "execute_result"
    }
   ],
   "source": [
    "Tup = (1,2,3,4,5,6,7,8,9,1)\n",
    "type(Tup)"
   ]
  },
  {
   "cell_type": "code",
   "execution_count": 225,
   "id": "4fb3026e-abf1-46a8-9c61-798e378592c7",
   "metadata": {},
   "outputs": [
    {
     "data": {
      "text/plain": [
       "1"
      ]
     },
     "execution_count": 225,
     "metadata": {},
     "output_type": "execute_result"
    }
   ],
   "source": [
    "Tup[0] #Retrive"
   ]
  },
  {
   "cell_type": "code",
   "execution_count": 227,
   "id": "756959c7-edbc-417b-b53c-f1cc30d6221b",
   "metadata": {},
   "outputs": [
    {
     "ename": "TypeError",
     "evalue": "'tuple' object does not support item assignment",
     "output_type": "error",
     "traceback": [
      "\u001b[1;31m---------------------------------------------------------------------------\u001b[0m",
      "\u001b[1;31mTypeError\u001b[0m                                 Traceback (most recent call last)",
      "Cell \u001b[1;32mIn[227], line 1\u001b[0m\n\u001b[1;32m----> 1\u001b[0m Tup[\u001b[38;5;124m'\u001b[39m\u001b[38;5;124m0\u001b[39m\u001b[38;5;124m'\u001b[39m]\u001b[38;5;241m=\u001b[39m\u001b[38;5;124m'\u001b[39m\u001b[38;5;124m10\u001b[39m\u001b[38;5;124m'\u001b[39m\n",
      "\u001b[1;31mTypeError\u001b[0m: 'tuple' object does not support item assignment"
     ]
    }
   ],
   "source": [
    "Tup['0']='10'  # Immutable No Changes"
   ]
  },
  {
   "cell_type": "code",
   "execution_count": 229,
   "id": "dd13be50-99e0-458c-92be-0d9722119433",
   "metadata": {},
   "outputs": [
    {
     "data": {
      "text/plain": [
       "0"
      ]
     },
     "execution_count": 229,
     "metadata": {},
     "output_type": "execute_result"
    }
   ],
   "source": [
    "Tup.index(1)"
   ]
  },
  {
   "cell_type": "code",
   "execution_count": 231,
   "id": "ed73b5ca-d51c-4d92-8408-9ea355fed501",
   "metadata": {},
   "outputs": [
    {
     "data": {
      "text/plain": [
       "3"
      ]
     },
     "execution_count": 231,
     "metadata": {},
     "output_type": "execute_result"
    }
   ],
   "source": [
    "Tup.count(1)"
   ]
  },
  {
   "cell_type": "code",
   "execution_count": 237,
   "id": "3df0415b-0739-44f8-a04a-c92dc6cc0c02",
   "metadata": {},
   "outputs": [
    {
     "ename": "TypeError",
     "evalue": "'tuple' object does not support item deletion",
     "output_type": "error",
     "traceback": [
      "\u001b[1;31m---------------------------------------------------------------------------\u001b[0m",
      "\u001b[1;31mTypeError\u001b[0m                                 Traceback (most recent call last)",
      "Cell \u001b[1;32mIn[237], line 1\u001b[0m\n\u001b[1;32m----> 1\u001b[0m \u001b[38;5;28;01mdel\u001b[39;00m Tup[\u001b[38;5;124m'\u001b[39m\u001b[38;5;124m1\u001b[39m\u001b[38;5;124m'\u001b[39m]\n",
      "\u001b[1;31mTypeError\u001b[0m: 'tuple' object does not support item deletion"
     ]
    }
   ],
   "source": [
    "del Tup['1']"
   ]
  },
  {
   "cell_type": "code",
   "execution_count": 239,
   "id": "0627092c-5031-4166-8eb2-bf38ceac2da4",
   "metadata": {},
   "outputs": [
    {
     "data": {
      "text/plain": [
       "(1, 2, 3, 4, 5, 6, 7, 8, 9, 1, 1)"
      ]
     },
     "execution_count": 239,
     "metadata": {},
     "output_type": "execute_result"
    }
   ],
   "source": [
    "Tup"
   ]
  },
  {
   "cell_type": "markdown",
   "id": "bae52089-ede1-4cf9-8492-dfd0c4584372",
   "metadata": {},
   "source": [
    "# Set"
   ]
  },
  {
   "cell_type": "code",
   "execution_count": 277,
   "id": "a54514f5-1ee3-4d94-87b7-b14033b8da15",
   "metadata": {},
   "outputs": [],
   "source": [
    "Numbers = {1,2,3,4,5,6,7,8,9,10,11,12,13,14}"
   ]
  },
  {
   "cell_type": "code",
   "execution_count": 279,
   "id": "f8c44c42-0aa3-4fcc-833e-a85ac879d0e3",
   "metadata": {},
   "outputs": [
    {
     "data": {
      "text/plain": [
       "{1, 2, 3, 4, 5, 6, 7, 8, 9, 10, 11, 12, 13, 14}"
      ]
     },
     "execution_count": 279,
     "metadata": {},
     "output_type": "execute_result"
    }
   ],
   "source": [
    "Numbers"
   ]
  },
  {
   "cell_type": "code",
   "execution_count": 285,
   "id": "303b3049-8d25-4124-aabe-fc3219e1b090",
   "metadata": {},
   "outputs": [
    {
     "data": {
      "text/plain": [
       "1"
      ]
     },
     "execution_count": 285,
     "metadata": {},
     "output_type": "execute_result"
    }
   ],
   "source": [
    "Numbers.pop()"
   ]
  },
  {
   "cell_type": "code",
   "execution_count": 287,
   "id": "d773a41b-1ddb-44d3-a467-07bd92c80f2d",
   "metadata": {},
   "outputs": [
    {
     "data": {
      "text/plain": [
       "{2, 3, 4, 5, 6, 7, 8, 9, 10, 11, 12, 13, 14}"
      ]
     },
     "execution_count": 287,
     "metadata": {},
     "output_type": "execute_result"
    }
   ],
   "source": [
    "Numbers.copy()"
   ]
  },
  {
   "cell_type": "code",
   "execution_count": 289,
   "id": "2b71356e-ee7a-41dd-9eec-1a0900f22261",
   "metadata": {},
   "outputs": [],
   "source": [
    "Numbers.remove(2)"
   ]
  },
  {
   "cell_type": "code",
   "execution_count": 291,
   "id": "a8decabd-6cae-4d5a-b374-bae74f6c4ee1",
   "metadata": {},
   "outputs": [
    {
     "data": {
      "text/plain": [
       "{3, 4, 5, 6, 7, 8, 9, 10, 11, 12, 13, 14}"
      ]
     },
     "execution_count": 291,
     "metadata": {},
     "output_type": "execute_result"
    }
   ],
   "source": [
    "Numbers"
   ]
  },
  {
   "cell_type": "code",
   "execution_count": 295,
   "id": "f186d698-ddef-4021-ada6-93f18d224c7a",
   "metadata": {},
   "outputs": [
    {
     "data": {
      "text/plain": [
       "{9, 10, 11, 12, 13, 14}"
      ]
     },
     "execution_count": 295,
     "metadata": {},
     "output_type": "execute_result"
    }
   ],
   "source": [
    "num1= {1,2,3,4,5,6,7,8,9,10,11,12,13,14}\n",
    "num2= {1,2,3,4,5,6,7,8}\n",
    "\n",
    "num1.difference(num2)  # It Cheack What Is Different In Num1"
   ]
  },
  {
   "cell_type": "code",
   "execution_count": 297,
   "id": "661cffba-eb68-4841-aecb-4ed786ce3429",
   "metadata": {},
   "outputs": [],
   "source": [
    "num1.difference_update(num2)"
   ]
  },
  {
   "cell_type": "code",
   "execution_count": 299,
   "id": "8eb63688-edd6-4070-8608-15524f4f9e39",
   "metadata": {},
   "outputs": [
    {
     "data": {
      "text/plain": [
       "{9, 10, 11, 12, 13, 14}"
      ]
     },
     "execution_count": 299,
     "metadata": {},
     "output_type": "execute_result"
    }
   ],
   "source": [
    "num1"
   ]
  },
  {
   "cell_type": "code",
   "execution_count": 301,
   "id": "eee11785-d408-4fa8-9575-7a35e9cad6b7",
   "metadata": {},
   "outputs": [
    {
     "data": {
      "text/plain": [
       "{1, 2, 3, 4, 5, 6, 7, 8}"
      ]
     },
     "execution_count": 301,
     "metadata": {},
     "output_type": "execute_result"
    }
   ],
   "source": [
    "num2"
   ]
  },
  {
   "cell_type": "code",
   "execution_count": 303,
   "id": "f8ede602-2bd1-4ff8-b9b9-b754f141c775",
   "metadata": {},
   "outputs": [
    {
     "data": {
      "text/plain": [
       "{9, 10, 11, 12, 13, 14}"
      ]
     },
     "execution_count": 303,
     "metadata": {},
     "output_type": "execute_result"
    }
   ],
   "source": [
    "num1"
   ]
  },
  {
   "cell_type": "code",
   "execution_count": 307,
   "id": "180afaf2-f4ee-4f3e-a498-a7fe4c924fce",
   "metadata": {},
   "outputs": [],
   "source": [
    "num1= {1,2,3,4,5,6,7,8,9,10,11,12,13,14}\n",
    "num2= {1,2,3,4,5,6,7,8}"
   ]
  },
  {
   "cell_type": "code",
   "execution_count": 309,
   "id": "549d88ca-a36b-4a68-a719-c7c21b0be001",
   "metadata": {},
   "outputs": [
    {
     "data": {
      "text/plain": [
       "{1, 2, 3, 4, 5, 6, 7, 8}"
      ]
     },
     "execution_count": 309,
     "metadata": {},
     "output_type": "execute_result"
    }
   ],
   "source": [
    "num1.intersection(num2)"
   ]
  },
  {
   "cell_type": "code",
   "execution_count": 311,
   "id": "b956366f-35c0-4e29-8fee-cd660c753e8e",
   "metadata": {},
   "outputs": [
    {
     "data": {
      "text/plain": [
       "{1, 2, 3, 4, 5, 6, 7, 8, 9, 10, 11, 12, 13, 14}"
      ]
     },
     "execution_count": 311,
     "metadata": {},
     "output_type": "execute_result"
    }
   ],
   "source": [
    "num1.union(num2)"
   ]
  },
  {
   "cell_type": "code",
   "execution_count": 315,
   "id": "3e347169-e5af-4780-a60f-641e20d04473",
   "metadata": {},
   "outputs": [
    {
     "data": {
      "text/plain": [
       "True"
      ]
     },
     "execution_count": 315,
     "metadata": {},
     "output_type": "execute_result"
    }
   ],
   "source": [
    "num2.issubset(num1)"
   ]
  },
  {
   "cell_type": "code",
   "execution_count": 319,
   "id": "0a1dace6-5001-48d6-9ccd-d4f06ac72564",
   "metadata": {},
   "outputs": [
    {
     "data": {
      "text/plain": [
       "False"
      ]
     },
     "execution_count": 319,
     "metadata": {},
     "output_type": "execute_result"
    }
   ],
   "source": [
    "num1.isdisjoint(num2) # both Set Values Should be diffrernt"
   ]
  },
  {
   "cell_type": "code",
   "execution_count": 1,
   "id": "5783cc15-6a5e-437c-ae2f-b07272914119",
   "metadata": {},
   "outputs": [],
   "source": [
    "student = {\"name\": \"Alice\", \"age\": 20, \"major\": \"Computer Science\"}"
   ]
  },
  {
   "cell_type": "code",
   "execution_count": 3,
   "id": "4e0b0d30-006b-417e-9100-6cd9073bcd0f",
   "metadata": {},
   "outputs": [
    {
     "data": {
      "text/plain": [
       "'Alice'"
      ]
     },
     "execution_count": 3,
     "metadata": {},
     "output_type": "execute_result"
    }
   ],
   "source": [
    "student['name']"
   ]
  },
  {
   "cell_type": "code",
   "execution_count": 7,
   "id": "55cdfd1f-7112-4138-8112-c800f5c4826f",
   "metadata": {},
   "outputs": [
    {
     "data": {
      "text/plain": [
       "'New York'"
      ]
     },
     "execution_count": 7,
     "metadata": {},
     "output_type": "execute_result"
    }
   ],
   "source": [
    "student['city']='New York'\n",
    "student['city']"
   ]
  },
  {
   "cell_type": "code",
   "execution_count": 9,
   "id": "d72e40a4-563a-469e-8bb5-8558c7413db6",
   "metadata": {},
   "outputs": [],
   "source": [
    "student['age']=21"
   ]
  },
  {
   "cell_type": "code",
   "execution_count": 11,
   "id": "1dca0fa0-885c-4905-aa9f-a0244f86a730",
   "metadata": {},
   "outputs": [
    {
     "data": {
      "text/plain": [
       "21"
      ]
     },
     "execution_count": 11,
     "metadata": {},
     "output_type": "execute_result"
    }
   ],
   "source": [
    "student['age']"
   ]
  },
  {
   "cell_type": "code",
   "execution_count": 17,
   "id": "2e836826-0756-4344-b1dc-73ee5af499b1",
   "metadata": {},
   "outputs": [
    {
     "data": {
      "text/plain": [
       "{'name': 'Alice', 'age': 21, 'city': 'New York'}"
      ]
     },
     "execution_count": 17,
     "metadata": {},
     "output_type": "execute_result"
    }
   ],
   "source": [
    "del student['major']\n",
    "student"
   ]
  },
  {
   "cell_type": "code",
   "execution_count": 19,
   "id": "47a423be-99a1-4cf7-85a4-9ed4150e88e9",
   "metadata": {},
   "outputs": [
    {
     "data": {
      "text/plain": [
       "dict_keys(['name', 'age', 'city'])"
      ]
     },
     "execution_count": 19,
     "metadata": {},
     "output_type": "execute_result"
    }
   ],
   "source": [
    "student.keys()"
   ]
  },
  {
   "cell_type": "code",
   "execution_count": 21,
   "id": "8f957b71-1a3e-4815-83c2-c22893ef0d2f",
   "metadata": {},
   "outputs": [
    {
     "data": {
      "text/plain": [
       "dict_values(['Alice', 21, 'New York'])"
      ]
     },
     "execution_count": 21,
     "metadata": {},
     "output_type": "execute_result"
    }
   ],
   "source": [
    "student.values()"
   ]
  },
  {
   "cell_type": "code",
   "execution_count": 31,
   "id": "defd3543-c313-42aa-beef-2b3d4948df09",
   "metadata": {},
   "outputs": [
    {
     "data": {
      "text/plain": [
       "'Email Not Found'"
      ]
     },
     "execution_count": 31,
     "metadata": {},
     "output_type": "execute_result"
    }
   ],
   "source": [
    "student.get('email','Email Not Found')\n"
   ]
  },
  {
   "cell_type": "code",
   "execution_count": 33,
   "id": "95c51f39-aac6-48b9-92a2-5868653ae977",
   "metadata": {},
   "outputs": [
    {
     "data": {
      "text/plain": [
       "{'name': 'Alice', 'age': 21, 'city': 'New York'}"
      ]
     },
     "execution_count": 33,
     "metadata": {},
     "output_type": "execute_result"
    }
   ],
   "source": [
    "student.copy()"
   ]
  },
  {
   "cell_type": "code",
   "execution_count": 37,
   "id": "cc334334-6b8a-4724-9eb6-451ffa4f0eb0",
   "metadata": {},
   "outputs": [
    {
     "data": {
      "text/plain": [
       "{1: 1, 2: 4, 3: 9, 4: 16, 5: 25, 6: 36, 7: 49, 8: 64, 9: 81, 10: 100}"
      ]
     },
     "execution_count": 37,
     "metadata": {},
     "output_type": "execute_result"
    }
   ],
   "source": [
    "num = {1:1,2:4,3:9,4:16,5:25,6:36,7:49,8:64,9:81,10:100}\n",
    "num"
   ]
  },
  {
   "cell_type": "code",
   "execution_count": 39,
   "id": "24e0a24b-f7be-4ed4-a21b-0e064c1a0902",
   "metadata": {},
   "outputs": [
    {
     "data": {
      "text/plain": [
       "dict_keys([1, 2, 3, 4, 5, 6, 7, 8, 9, 10])"
      ]
     },
     "execution_count": 39,
     "metadata": {},
     "output_type": "execute_result"
    }
   ],
   "source": [
    "num.keys()"
   ]
  },
  {
   "cell_type": "code",
   "execution_count": 41,
   "id": "a1dedeac-9d08-413e-a48c-3e44b5313968",
   "metadata": {},
   "outputs": [
    {
     "data": {
      "text/plain": [
       "dict_values([1, 4, 9, 16, 25, 36, 49, 64, 81, 100])"
      ]
     },
     "execution_count": 41,
     "metadata": {},
     "output_type": "execute_result"
    }
   ],
   "source": [
    "num.values()"
   ]
  },
  {
   "cell_type": "code",
   "execution_count": 49,
   "id": "2f68c090-3ab5-4fba-a893-1737dfbc6728",
   "metadata": {},
   "outputs": [
    {
     "data": {
      "text/plain": [
       "4"
      ]
     },
     "execution_count": 49,
     "metadata": {},
     "output_type": "execute_result"
    }
   ],
   "source": [
    "names = [\"Bob\", \"Charlie\", \"David\",'Asad']\n",
    "length = len(names)\n",
    "length"
   ]
  },
  {
   "cell_type": "code",
   "execution_count": null,
   "id": "3b92d282-2da5-4868-9a92-68171dd58169",
   "metadata": {},
   "outputs": [],
   "source": []
  }
 ],
 "metadata": {
  "kernelspec": {
   "display_name": "Python [conda env:base] *",
   "language": "python",
   "name": "conda-base-py"
  },
  "language_info": {
   "codemirror_mode": {
    "name": "ipython",
    "version": 3
   },
   "file_extension": ".py",
   "mimetype": "text/x-python",
   "name": "python",
   "nbconvert_exporter": "python",
   "pygments_lexer": "ipython3",
   "version": "3.12.7"
  }
 },
 "nbformat": 4,
 "nbformat_minor": 5
}
