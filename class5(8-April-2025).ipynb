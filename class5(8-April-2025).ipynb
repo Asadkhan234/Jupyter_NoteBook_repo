{
 "cells": [
  {
   "cell_type": "markdown",
   "id": "d4ba216e-58b5-4414-a7d7-41c9a95c5645",
   "metadata": {},
   "source": [
    "# NESTED IF ELSE :"
   ]
  },
  {
   "cell_type": "code",
   "execution_count": 35,
   "id": "8d681b5d-1aaf-4db6-9fac-fd762da51e4c",
   "metadata": {},
   "outputs": [
    {
     "name": "stdin",
     "output_type": "stream",
     "text": [
      "Aj Election Hy? yes\n",
      "Asli Cnic Laye Ho ? yes\n",
      "Kiya Mera Name List Ma Hy ? yes\n"
     ]
    },
    {
     "name": "stdout",
     "output_type": "stream",
     "text": [
      "Wellcome!\n"
     ]
    }
   ],
   "source": [
    "Election_Day = input('Aj Election Hy?')\n",
    "if Election_Day == 'yes':\n",
    "    Cnic = input('Asli Cnic Laye Ho ?')\n",
    "    if Cnic =='yes':\n",
    "        voter_List = input('Kiya Mera Name List Ma Hy ?')\n",
    "        if voter_List =='yes':\n",
    "            print('Wellcome!')\n",
    "\n",
    "        else:\n",
    "             print('Voter List Ma Name Nahi haii')\n",
    "\n",
    "    else:\n",
    "         print('Cnic Le Aooo')\n",
    "\n",
    "else:\n",
    "     print('Sote Rahooooo')"
   ]
  },
  {
   "cell_type": "code",
   "execution_count": null,
   "id": "e225c44a-9e9f-4fbd-a5f2-70e393fabee6",
   "metadata": {},
   "outputs": [
    {
     "name": "stdin",
     "output_type": "stream",
     "text": [
      "Enter the Math marks:  40\n"
     ]
    }
   ],
   "source": [
    "Math = int(input('Enter the Math marks: '))\n",
    "Eng = int(input('Enter the English marks: '))\n",
    "Urdu = int(input('Enter the Urdu marks: '))\n",
    "Phy = int(input('Enter the Physics marks: '))\n",
    "Che = int(input('Enter the Chemistry marks: '))\n",
    "\n",
    "\n",
    "Obtain = Math+Eng+Urdu+Che+Phy\n",
    "percentage = Obtain/500*100\n",
    "result = None\n",
    "if Math>=50:\n",
    "    result = 'Pass'\n",
    "    if Eng >=50:\n",
    "        result = 'Pass'\n",
    "        if Urdu >=50:\n",
    "            result = 'Pass'\n",
    "            if Phy>=50:\n",
    "                result = 'Pass'\n",
    "                if Che >=50:\n",
    "                    result = 'Pass'\n",
    "                else:\n",
    "                    result = 'fail'\n",
    "            else:\n",
    "                result = 'fail'\n",
    "            \n",
    "        else:\n",
    "            result = 'fail'\n",
    "\n",
    "    else:\n",
    "        result = 'fail'\n",
    "\n",
    "else:\n",
    "    result = 'fail'\n",
    "\n",
    "\n",
    "\n",
    "\n",
    "\n",
    "\n",
    "\n",
    "if result == 'Pass':\n",
    "\n",
    "    if percentage >= 90:\n",
    "        print('A+')\n",
    "    \n",
    "    elif percentage >= 80:\n",
    "        print('A')\n",
    "    \n",
    "    elif percentage >= 70:\n",
    "        print('B')\n",
    "    \n",
    "    elif percentage >= 60:\n",
    "        print('C')\n",
    "    \n",
    "    elif percentage >= 50:\n",
    "        print('D')\n",
    "    \n",
    "    else:\n",
    "        print('F')\n",
    "print(percentage)"
   ]
  },
  {
   "cell_type": "code",
   "execution_count": 8,
   "id": "68cceb28-9748-42ab-ab79-a67aa39d7f88",
   "metadata": {},
   "outputs": [
    {
     "name": "stdin",
     "output_type": "stream",
     "text": [
      "Enter The X Value : 20\n",
      "Enter The Y Value : 5\n",
      "Enter The Z Value : 10\n"
     ]
    },
    {
     "name": "stdout",
     "output_type": "stream",
     "text": [
      "The Value Of X : 20\n",
      "The Value Of Z : 10\n"
     ]
    }
   ],
   "source": [
    "X = int(input('Enter The X Value :'))\n",
    "Y = int(input('Enter The Y Value :'))\n",
    "Z = int(input('Enter The Z Value :'))\n",
    "if X > Y:\n",
    "    print(f'The Value Of X : {X}')\n",
    "    if Y>Z:\n",
    "        print(f'The Value Of Y : {Y}')\n",
    "    else:\n",
    "        print(f'The Value Of Z : {Z}')\n",
    "else:\n",
    "    print(f'The Value Of Y : {Y}')"
   ]
  },
  {
   "cell_type": "code",
   "execution_count": 7,
   "id": "f0912d23-916d-4a39-94e9-359ced0fbfa7",
   "metadata": {},
   "outputs": [
    {
     "name": "stdin",
     "output_type": "stream",
     "text": [
      "Enter The Number :  3\n"
     ]
    },
    {
     "name": "stdout",
     "output_type": "stream",
     "text": [
      "The number is divisible by 3, but not divisible by 2\n"
     ]
    }
   ],
   "source": [
    "num = int(input('Enter The Number : '))\n",
    "if num % 2 == 0:\n",
    "    if num % 3 == 0:\n",
    "        print('The Number Is Divisible By 2 And 3')\n",
    "    else:\n",
    "        print('The Number Is  Divisible By 2. But Not  Divisible By 3')\n",
    "\n",
    "else:\n",
    "    if num % 3 == 0:\n",
    "        print('The number is divisible by 3, but not divisible by 2')\n",
    "    else:\n",
    "        print('The number is Not divisible by 3, And not divisible by 2')"
   ]
  },
  {
   "cell_type": "code",
   "execution_count": 21,
   "id": "5055922c-7a0c-4fa8-ace5-b7f81a733fe8",
   "metadata": {},
   "outputs": [
    {
     "name": "stdin",
     "output_type": "stream",
     "text": [
      "Enter The Number :  10\n"
     ]
    },
    {
     "name": "stdout",
     "output_type": "stream",
     "text": [
      "Number Is Possitive\n"
     ]
    }
   ],
   "source": [
    "num = int(input('Enter The Number : '))\n",
    "if num >=0:\n",
    "    if num == 0:\n",
    "        print('Number Is Zero')\n",
    "    else:\n",
    "        print('Number Is Possitive')\n",
    "\n",
    "else:\n",
    "    print('Number is Negative')"
   ]
  },
  {
   "cell_type": "code",
   "execution_count": 43,
   "id": "e0146948-8694-47db-ab6b-99ec92e2fdf5",
   "metadata": {},
   "outputs": [
    {
     "name": "stdin",
     "output_type": "stream",
     "text": [
      "Enter The Number :  12345\n"
     ]
    },
    {
     "name": "stdout",
     "output_type": "stream",
     "text": [
      "----------\n"
     ]
    }
   ],
   "source": [
    "num = int(input('Enter The Number : '))\n",
    "last = num % 10\n",
    "if last % 2==0:\n",
    "    print(f'Number Is Even : {num}')\n",
    "    if last % 2 == 1:\n",
    "        print(f'Number Is Odd : {num}')\n",
    "    else:\n",
    "        print('++++++')\n",
    "else:\n",
    "    print('----------')"
   ]
  },
  {
   "cell_type": "code",
   "execution_count": 26,
   "id": "7ad075c9-ba78-4f64-a0e1-744334ec12dd",
   "metadata": {},
   "outputs": [
    {
     "name": "stdin",
     "output_type": "stream",
     "text": [
      "Enter User Name :  admin\n",
      "Enter Passord :  password\n"
     ]
    },
    {
     "name": "stdout",
     "output_type": "stream",
     "text": [
      "You Wellcome !\n"
     ]
    },
    {
     "name": "stdin",
     "output_type": "stream",
     "text": [
      "Enter Passord :  1234\n"
     ]
    },
    {
     "name": "stdout",
     "output_type": "stream",
     "text": [
      "Your Password is corect\n"
     ]
    }
   ],
   "source": [
    "User_name = input('Enter User Name : ')\n",
    "Password  = input('Enter Passord : ')\n",
    "if User_name == 'admin' and Password == 'password':\n",
    "    print('You Wellcome !')\n",
    "    Password  = input('Enter Passord : ')\n",
    "    if Password =='1234':\n",
    "        print('Your Password is corect')\n",
    "    else:\n",
    "        print('Soory Your Password is Not corect')\n",
    "else:\n",
    "    print('Incorect User Name And Password!')\n"
   ]
  },
  {
   "cell_type": "code",
   "execution_count": 60,
   "id": "c0421d05-e5ce-43f8-b905-9b8216ba0593",
   "metadata": {},
   "outputs": [
    {
     "name": "stdin",
     "output_type": "stream",
     "text": [
      "Enter Name:  Asad\n",
      "Enter Password:  1234\n",
      "Enter Email:  asadgmail.com\n"
     ]
    },
    {
     "name": "stdout",
     "output_type": "stream",
     "text": [
      "Registration not Successfully!\n"
     ]
    }
   ],
   "source": [
    "name = input('Enter Name: ')\n",
    "\n",
    "if name == 'Asad':\n",
    "    Password = input('Enter Password: ')\n",
    "    if Password == '1234':\n",
    "        Email = input('Enter Email: ')\n",
    "        if Email == 'asad@gmail.com':\n",
    "            print('Registration Successfully!')\n",
    "        else:\n",
    "            print('Registration not Successfully!')\n",
    "    else:\n",
    "        print('Wrong password!')\n",
    "else:\n",
    "    print('Wrong Name!')\n"
   ]
  },
  {
   "cell_type": "code",
   "execution_count": null,
   "id": "2aa16cc9-3d5a-45f8-8053-98459b9df742",
   "metadata": {},
   "outputs": [],
   "source": []
  }
 ],
 "metadata": {
  "kernelspec": {
   "display_name": "Python [conda env:base] *",
   "language": "python",
   "name": "conda-base-py"
  },
  "language_info": {
   "codemirror_mode": {
    "name": "ipython",
    "version": 3
   },
   "file_extension": ".py",
   "mimetype": "text/x-python",
   "name": "python",
   "nbconvert_exporter": "python",
   "pygments_lexer": "ipython3",
   "version": "3.12.7"
  }
 },
 "nbformat": 4,
 "nbformat_minor": 5
}
