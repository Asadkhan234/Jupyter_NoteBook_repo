{
 "cells": [
  {
   "cell_type": "markdown",
   "id": "98fa1e78-2a64-42d6-91e5-2fd32578144e",
   "metadata": {},
   "source": [
    "# Today's Topics\n",
    " - print\n",
    " - operators\n",
    " - data type"
   ]
  },
  {
   "cell_type": "markdown",
   "id": "629d52ca-b744-459b-b04f-5d4e1d1c7090",
   "metadata": {},
   "source": [
    "### print\n",
    "     - print is a python built in function, that prints any valid value given to it. (value>>argument) \n",
    "     - print can print any number of values comma separated\n",
    "     - print can take no value\n",
    "### Value:\n",
    "     - Value can be of different types:\n",
    "          - number\n",
    "              - whole number (integers): int\n",
    "              - decimal numbers (float): float\n",
    "          - text\n",
    "               - string: anything thing written in quotes. {\"A\", 'A', \"\"\" A \"\"\", ''' A '''}\n",
    "               - str\n",
    "          "
   ]
  },
  {
   "cell_type": "code",
   "execution_count": 16,
   "id": "409d02b0-1af4-4cd6-aaf4-d73fe21143b4",
   "metadata": {},
   "outputs": [
    {
     "ename": "NameError",
     "evalue": "name 'Print' is not defined",
     "output_type": "error",
     "traceback": [
      "\u001b[1;31m---------------------------------------------------------------------------\u001b[0m",
      "\u001b[1;31mNameError\u001b[0m                                 Traceback (most recent call last)",
      "Cell \u001b[1;32mIn[16], line 1\u001b[0m\n\u001b[1;32m----> 1\u001b[0m Print(\u001b[38;5;124m\"\u001b[39m\u001b[38;5;124mHi\u001b[39m\u001b[38;5;124m\"\u001b[39m)\n",
      "\u001b[1;31mNameError\u001b[0m: name 'Print' is not defined"
     ]
    }
   ],
   "source": [
    "Print(\"Hi\")"
   ]
  },
  {
   "cell_type": "code",
   "execution_count": 18,
   "id": "83b70f3d-cf77-4c6d-8b42-fc826afa331b",
   "metadata": {},
   "outputs": [
    {
     "name": "stdout",
     "output_type": "stream",
     "text": [
      "I am the first argument to print function\n"
     ]
    }
   ],
   "source": [
    "print(\"I am the first argument to print function\")"
   ]
  },
  {
   "cell_type": "code",
   "execution_count": 19,
   "id": "8a3b9ad1-9be5-4c49-9cc9-a624b92a696d",
   "metadata": {},
   "outputs": [
    {
     "name": "stdout",
     "output_type": "stream",
     "text": [
      "I am double quouted single line string\n",
      "I am single quouted single line string\n",
      "I am double tripple qouted multiline string\n",
      "I am single tripple qouted multiline string\n"
     ]
    }
   ],
   "source": [
    "print(\"I am double quouted single line string\")\n",
    "print('I am single quouted single line string')\n",
    "\n",
    "print(\"\"\"I am double tripple qouted multiline string\"\"\")\n",
    "print('''I am single tripple qouted multiline string''')\n"
   ]
  },
  {
   "cell_type": "code",
   "execution_count": 20,
   "id": "97fc5105-400a-4cef-a1cb-bbc9fba40995",
   "metadata": {},
   "outputs": [
    {
     "ename": "SyntaxError",
     "evalue": "unterminated string literal (detected at line 1) (69434360.py, line 1)",
     "output_type": "error",
     "traceback": [
      "\u001b[1;36m  Cell \u001b[1;32mIn[20], line 1\u001b[1;36m\u001b[0m\n\u001b[1;33m    print(\"I will be ther at\u001b[0m\n\u001b[1;37m          ^\u001b[0m\n\u001b[1;31mSyntaxError\u001b[0m\u001b[1;31m:\u001b[0m unterminated string literal (detected at line 1)\n"
     ]
    }
   ],
   "source": [
    "print(\"I will be ther at \n",
    "      9:pm\")"
   ]
  },
  {
   "cell_type": "code",
   "execution_count": 21,
   "id": "e596935a-52d5-4b39-9e86-01fded25a037",
   "metadata": {},
   "outputs": [
    {
     "ename": "SyntaxError",
     "evalue": "unterminated string literal (detected at line 1) (776701252.py, line 1)",
     "output_type": "error",
     "traceback": [
      "\u001b[1;36m  Cell \u001b[1;32mIn[21], line 1\u001b[1;36m\u001b[0m\n\u001b[1;33m    print('I will be there at\u001b[0m\n\u001b[1;37m          ^\u001b[0m\n\u001b[1;31mSyntaxError\u001b[0m\u001b[1;31m:\u001b[0m unterminated string literal (detected at line 1)\n"
     ]
    }
   ],
   "source": [
    "print('I will be there at \n",
    "      9:pm')"
   ]
  },
  {
   "cell_type": "code",
   "execution_count": 22,
   "id": "e283d423-ece9-4f7c-85a8-825baf9c5914",
   "metadata": {},
   "outputs": [
    {
     "name": "stdout",
     "output_type": "stream",
     "text": [
      "I will be there at \n",
      "      9:pm\n"
     ]
    }
   ],
   "source": [
    "print('''I will be there at \n",
    "      9:pm''')"
   ]
  },
  {
   "cell_type": "code",
   "execution_count": 23,
   "id": "5e907b7c-35b6-46e5-94f7-b1c93a782a79",
   "metadata": {},
   "outputs": [
    {
     "name": "stdout",
     "output_type": "stream",
     "text": [
      "I will be there at \n",
      "      9:pm\n"
     ]
    }
   ],
   "source": [
    "print(\"\"\"I will be there at \n",
    "      9:pm\"\"\")"
   ]
  },
  {
   "cell_type": "code",
   "execution_count": 35,
   "id": "6c7e2f09-8573-4515-8815-6603315e5577",
   "metadata": {},
   "outputs": [
    {
     "name": "stdout",
     "output_type": "stream",
     "text": [
      "NasirHussain\n",
      "Data Sciecne and Ai\n"
     ]
    }
   ],
   "source": [
    "print('NasirHussain',end=\"\\n\")\n",
    "print('Data Sciecne and Ai')"
   ]
  },
  {
   "cell_type": "code",
   "execution_count": 39,
   "id": "52daffd7-9a8d-44de-a030-2ed82cb219a9",
   "metadata": {},
   "outputs": [
    {
     "name": "stdout",
     "output_type": "stream",
     "text": [
      "AhmedRazaNasirHussainMubashirAsif\n"
     ]
    }
   ],
   "source": [
    "print(\"AhmedRaza\",\"NasirHussain\",\"MubashirAsif\",sep=\"\")"
   ]
  },
  {
   "cell_type": "code",
   "execution_count": 41,
   "id": "c7806001-6084-49c4-985b-37b9f1776e66",
   "metadata": {},
   "outputs": [
    {
     "name": "stdout",
     "output_type": "stream",
     "text": [
      "My name is nasir hussain.\n",
      "I am teaching this course.\n"
     ]
    }
   ],
   "source": [
    "print('My name is nasir hussain.\\nI am teaching this course.')"
   ]
  },
  {
   "cell_type": "code",
   "execution_count": 40,
   "id": "6ed6c5d2-a409-48e1-8138-ebe23eb08e2c",
   "metadata": {},
   "outputs": [
    {
     "ename": "SyntaxError",
     "evalue": "invalid syntax (1771443781.py, line 1)",
     "output_type": "error",
     "traceback": [
      "\u001b[1;36m  Cell \u001b[1;32mIn[40], line 1\u001b[1;36m\u001b[0m\n\u001b[1;33m    My name is nasir hussain.\u001b[0m\n\u001b[1;37m       ^\u001b[0m\n\u001b[1;31mSyntaxError\u001b[0m\u001b[1;31m:\u001b[0m invalid syntax\n"
     ]
    }
   ],
   "source": [
    "My name is nasir hussain.\n",
    "I am teaching this course."
   ]
  },
  {
   "cell_type": "raw",
   "id": "d2ba52a5-0ce1-4966-8dc1-5acd1acc99ff",
   "metadata": {},
   "source": [
    "# Operators arithmetic \n",
    "     - add (+)\n",
    "     - subtract (-)\n",
    "     - multiply (*)\n",
    "     - divide   (/)\n",
    "     - divide   (//)\n",
    "     - modulus  (%)\n",
    "     - power    (**)\n",
    "# comparision operators\n",
    "     - greaterthan  (>)\n",
    "     - less than    (<)\n",
    "     - greaterthan and equal to (>=)\n",
    "     - lessthan and equal to (<=)\n",
    "     - equal to  (==)\n",
    "     - not equal to (!=)\n",
    "# identity operator\n",
    "     - is    \n",
    "# memebrship operatior\n",
    "     - in \n",
    "# logical operators\n",
    "     - and \n",
    "     - or\n",
    "     - not\n",
    "# bitwise operator\n",
    "     \n",
    "    \n"
   ]
  },
  {
   "cell_type": "code",
   "execution_count": 42,
   "id": "67129fb3-90d2-4339-89a8-03a8d92ad581",
   "metadata": {},
   "outputs": [
    {
     "name": "stdout",
     "output_type": "stream",
     "text": [
      "23 45 Hello\n"
     ]
    }
   ],
   "source": [
    "print(23, 45, 'Hello')"
   ]
  },
  {
   "cell_type": "code",
   "execution_count": 43,
   "id": "4ce1e85a-45e5-4104-999b-56633ad0f982",
   "metadata": {},
   "outputs": [
    {
     "name": "stdout",
     "output_type": "stream",
     "text": [
      "68\n"
     ]
    }
   ],
   "source": [
    "print(23+45)"
   ]
  },
  {
   "cell_type": "code",
   "execution_count": 44,
   "id": "c9e9f9b2-4ae4-46f6-aeab-ed1e9c772830",
   "metadata": {},
   "outputs": [
    {
     "name": "stdout",
     "output_type": "stream",
     "text": [
      "2\n"
     ]
    }
   ],
   "source": [
    "print(4-2)"
   ]
  },
  {
   "cell_type": "code",
   "execution_count": 45,
   "id": "8a1806c9-57a2-4d2b-b576-d192fd940aec",
   "metadata": {},
   "outputs": [
    {
     "name": "stdout",
     "output_type": "stream",
     "text": [
      "12\n"
     ]
    }
   ],
   "source": [
    "print(4*3)"
   ]
  },
  {
   "cell_type": "code",
   "execution_count": 46,
   "id": "28ace2e5-364e-4e55-a6b7-03595a14a976",
   "metadata": {},
   "outputs": [
    {
     "name": "stdout",
     "output_type": "stream",
     "text": [
      "16\n"
     ]
    }
   ],
   "source": [
    "print(4**2)"
   ]
  },
  {
   "cell_type": "code",
   "execution_count": 49,
   "id": "d3fd6dbb-6455-4f11-9072-59b3c4c0d749",
   "metadata": {},
   "outputs": [
    {
     "name": "stdout",
     "output_type": "stream",
     "text": [
      "2.5\n"
     ]
    }
   ],
   "source": [
    "# Float\n",
    "print(10/4)"
   ]
  },
  {
   "cell_type": "code",
   "execution_count": 50,
   "id": "6fce1cce-68ec-4c09-a1ca-a9068bcca87c",
   "metadata": {},
   "outputs": [
    {
     "name": "stdout",
     "output_type": "stream",
     "text": [
      "2\n"
     ]
    }
   ],
   "source": [
    "# floor division\n",
    "print(10//4)"
   ]
  },
  {
   "cell_type": "code",
   "execution_count": 51,
   "id": "505b7079-ecd8-4c12-8105-15b0201fa9c4",
   "metadata": {},
   "outputs": [
    {
     "name": "stdout",
     "output_type": "stream",
     "text": [
      "3\n"
     ]
    }
   ],
   "source": [
    "print(11%4)"
   ]
  },
  {
   "cell_type": "code",
   "execution_count": 54,
   "id": "33c409ab-219d-4a9a-876d-faaf51b8f34d",
   "metadata": {},
   "outputs": [
    {
     "name": "stdout",
     "output_type": "stream",
     "text": [
      "False\n"
     ]
    }
   ],
   "source": [
    "print(12 > 14)"
   ]
  },
  {
   "cell_type": "code",
   "execution_count": 56,
   "id": "48346df3-ebfb-46f3-9bdf-702a76941f91",
   "metadata": {},
   "outputs": [
    {
     "name": "stdout",
     "output_type": "stream",
     "text": [
      "True\n"
     ]
    }
   ],
   "source": [
    "print(14 > 12)"
   ]
  },
  {
   "cell_type": "code",
   "execution_count": 57,
   "id": "5c5f94da-6c6b-4119-9262-920ed858e94a",
   "metadata": {},
   "outputs": [
    {
     "name": "stdout",
     "output_type": "stream",
     "text": [
      "True\n"
     ]
    }
   ],
   "source": [
    "print(10==10)"
   ]
  },
  {
   "cell_type": "code",
   "execution_count": 58,
   "id": "47ccf150-8be5-448a-b6c2-1b380ba670b9",
   "metadata": {},
   "outputs": [
    {
     "name": "stdout",
     "output_type": "stream",
     "text": [
      "False\n"
     ]
    }
   ],
   "source": [
    "print(10!=10)"
   ]
  },
  {
   "cell_type": "code",
   "execution_count": 59,
   "id": "b0646471-e547-44b9-8c5d-42da316563fa",
   "metadata": {},
   "outputs": [
    {
     "name": "stdout",
     "output_type": "stream",
     "text": [
      "True\n"
     ]
    }
   ],
   "source": [
    "print(12>=12)"
   ]
  },
  {
   "cell_type": "code",
   "execution_count": 60,
   "id": "8694363a-c57f-46ac-9e2b-8534bc94ba67",
   "metadata": {},
   "outputs": [
    {
     "name": "stdout",
     "output_type": "stream",
     "text": [
      "False\n"
     ]
    }
   ],
   "source": [
    "print(12<=8)"
   ]
  },
  {
   "cell_type": "code",
   "execution_count": 63,
   "id": "c9368d9b-1d1f-4847-90d7-4990b732df87",
   "metadata": {},
   "outputs": [
    {
     "data": {
      "text/plain": [
       "False"
      ]
     },
     "execution_count": 63,
     "metadata": {},
     "output_type": "execute_result"
    }
   ],
   "source": [
    "(12 > 100)     or     (200 < 100)"
   ]
  },
  {
   "cell_type": "raw",
   "id": "d2f83c60-9c93-49ee-87a7-eaa65f92eddc",
   "metadata": {},
   "source": [
    "# OR ko sirf ek TRUE chahye hota hy True hone k liye\n",
    "Cond1    OR      Cond2     Res\n",
    "True             True      True\n",
    "True             False     True\n",
    "False            True      True\n",
    "False            False     False\n",
    "\n",
    "# AND ko sirf ek False chahye hota hy False hone k liye\n",
    "Cond1    AND     Cond2     Res\n",
    "True             True      True\n",
    "True             False     False\n",
    "False            True      False\n",
    "False            False     False"
   ]
  },
  {
   "cell_type": "code",
   "execution_count": 64,
   "id": "c8fcc923-c71b-475b-8283-9cc20c63938d",
   "metadata": {},
   "outputs": [
    {
     "data": {
      "text/plain": [
       "False"
      ]
     },
     "execution_count": 64,
     "metadata": {},
     "output_type": "execute_result"
    }
   ],
   "source": [
    "(12 > 10)     and   (200 < 100)"
   ]
  },
  {
   "cell_type": "code",
   "execution_count": 65,
   "id": "9e3bd112-8333-40c6-ac26-87fa9fc5f7f1",
   "metadata": {},
   "outputs": [
    {
     "data": {
      "text/plain": [
       "False"
      ]
     },
     "execution_count": 65,
     "metadata": {},
     "output_type": "execute_result"
    }
   ],
   "source": [
    "bool(0)"
   ]
  },
  {
   "cell_type": "code",
   "execution_count": 66,
   "id": "29f69c55-f524-4e06-b68b-8549fc2c72bf",
   "metadata": {},
   "outputs": [
    {
     "data": {
      "text/plain": [
       "True"
      ]
     },
     "execution_count": 66,
     "metadata": {},
     "output_type": "execute_result"
    }
   ],
   "source": [
    "bool(1)"
   ]
  },
  {
   "cell_type": "code",
   "execution_count": 67,
   "id": "ca93648b-bed4-4de9-be55-a423cdfb2a7a",
   "metadata": {},
   "outputs": [
    {
     "data": {
      "text/plain": [
       "True"
      ]
     },
     "execution_count": 67,
     "metadata": {},
     "output_type": "execute_result"
    }
   ],
   "source": [
    "bool(100)"
   ]
  },
  {
   "cell_type": "code",
   "execution_count": 68,
   "id": "8d42704b-54e3-4486-b884-e29b26f9605d",
   "metadata": {},
   "outputs": [
    {
     "data": {
      "text/plain": [
       "True"
      ]
     },
     "execution_count": 68,
     "metadata": {},
     "output_type": "execute_result"
    }
   ],
   "source": [
    "bool(\"hello\")"
   ]
  },
  {
   "cell_type": "code",
   "execution_count": 69,
   "id": "d0570d10-4fcb-4976-9928-e9a303548d1f",
   "metadata": {},
   "outputs": [
    {
     "data": {
      "text/plain": [
       "False"
      ]
     },
     "execution_count": 69,
     "metadata": {},
     "output_type": "execute_result"
    }
   ],
   "source": [
    "bool(\"\")"
   ]
  },
  {
   "cell_type": "code",
   "execution_count": 73,
   "id": "afb2fc68-f28b-47d0-8df4-5632ea31d1d9",
   "metadata": {},
   "outputs": [
    {
     "data": {
      "text/plain": [
       "0"
      ]
     },
     "execution_count": 73,
     "metadata": {},
     "output_type": "execute_result"
    }
   ],
   "source": [
    "2 and 0 and 5 "
   ]
  },
  {
   "cell_type": "code",
   "execution_count": 72,
   "id": "5d00852f-77e8-4ac5-a0b8-588c0974ccbc",
   "metadata": {},
   "outputs": [
    {
     "data": {
      "text/plain": [
       "2"
      ]
     },
     "execution_count": 72,
     "metadata": {},
     "output_type": "execute_result"
    }
   ],
   "source": [
    "2 or 5"
   ]
  },
  {
   "cell_type": "code",
   "execution_count": null,
   "id": "787e9321-ff9f-456d-abd3-314cbb4a3a33",
   "metadata": {},
   "outputs": [],
   "source": []
  }
 ],
 "metadata": {
  "kernelspec": {
   "display_name": "Python 3 (ipykernel)",
   "language": "python",
   "name": "python3"
  },
  "language_info": {
   "codemirror_mode": {
    "name": "ipython",
    "version": 3
   },
   "file_extension": ".py",
   "mimetype": "text/x-python",
   "name": "python",
   "nbconvert_exporter": "python",
   "pygments_lexer": "ipython3",
   "version": "3.12.3"
  }
 },
 "nbformat": 4,
 "nbformat_minor": 5
}
