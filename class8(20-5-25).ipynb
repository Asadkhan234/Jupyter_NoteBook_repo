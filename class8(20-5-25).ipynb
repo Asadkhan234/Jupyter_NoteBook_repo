{
 "cells": [
  {
   "cell_type": "code",
   "execution_count": 12,
   "id": "88e32f16-b1da-49f3-9e42-301b2dec2e88",
   "metadata": {},
   "outputs": [],
   "source": [
    "A = [1,2,3,4,5,6,[10,20,30],{'apple':12,'peech':13}]\n"
   ]
  },
  {
   "cell_type": "code",
   "execution_count": 16,
   "id": "20464096-6eef-4e66-a8db-045d3d3e50a1",
   "metadata": {},
   "outputs": [
    {
     "data": {
      "text/plain": [
       "13"
      ]
     },
     "execution_count": 16,
     "metadata": {},
     "output_type": "execute_result"
    }
   ],
   "source": [
    "A[7]['peech']"
   ]
  },
  {
   "cell_type": "code",
   "execution_count": 18,
   "id": "4e4e6dc0-5c5e-44fa-92f4-b20788f1ba57",
   "metadata": {},
   "outputs": [],
   "source": [
    "# number is imutable"
   ]
  },
  {
   "cell_type": "code",
   "execution_count": 20,
   "id": "ac240f64-d6b2-45e2-9498-110917ba0fdb",
   "metadata": {},
   "outputs": [],
   "source": [
    "#Har wo number dictionary ki key ban sakti hy\n"
   ]
  },
  {
   "cell_type": "code",
   "execution_count": 22,
   "id": "181ce856-4890-479f-86d4-3f28887c124d",
   "metadata": {},
   "outputs": [],
   "source": [
    "# packing \n",
    "box = ('watch','waallet','cards')"
   ]
  },
  {
   "cell_type": "code",
   "execution_count": 24,
   "id": "dbd68d4c-c467-4fba-913d-225991498443",
   "metadata": {},
   "outputs": [
    {
     "data": {
      "text/plain": [
       "('watch', 'waallet', 'cards')"
      ]
     },
     "execution_count": 24,
     "metadata": {},
     "output_type": "execute_result"
    }
   ],
   "source": [
    "box"
   ]
  },
  {
   "cell_type": "code",
   "execution_count": 26,
   "id": "855fb8ec-2c60-414d-bfa9-09aadd26345e",
   "metadata": {},
   "outputs": [
    {
     "data": {
      "text/plain": [
       "tuple"
      ]
     },
     "execution_count": 26,
     "metadata": {},
     "output_type": "execute_result"
    }
   ],
   "source": [
    "type(box)"
   ]
  },
  {
   "cell_type": "code",
   "execution_count": 30,
   "id": "33e626c5-1605-482e-878a-4df07f932c16",
   "metadata": {},
   "outputs": [],
   "source": [
    "# unpaking\n",
    "a,b,c = box"
   ]
  },
  {
   "cell_type": "code",
   "execution_count": 32,
   "id": "c734a518-8b03-4d68-80c7-55fd5cb9c944",
   "metadata": {},
   "outputs": [
    {
     "data": {
      "text/plain": [
       "'watch'"
      ]
     },
     "execution_count": 32,
     "metadata": {},
     "output_type": "execute_result"
    }
   ],
   "source": [
    "a"
   ]
  },
  {
   "cell_type": "code",
   "execution_count": 34,
   "id": "6147dc2c-88dd-4657-b89f-d4d266d53bf2",
   "metadata": {},
   "outputs": [
    {
     "data": {
      "text/plain": [
       "'waallet'"
      ]
     },
     "execution_count": 34,
     "metadata": {},
     "output_type": "execute_result"
    }
   ],
   "source": [
    "b"
   ]
  },
  {
   "cell_type": "code",
   "execution_count": 36,
   "id": "b73ffb6f-ac1a-4cde-b2ab-88354ce47164",
   "metadata": {},
   "outputs": [
    {
     "data": {
      "text/plain": [
       "'cards'"
      ]
     },
     "execution_count": 36,
     "metadata": {},
     "output_type": "execute_result"
    }
   ],
   "source": [
    "c"
   ]
  },
  {
   "cell_type": "markdown",
   "id": "eec1055b-a483-4245-85f7-7f953d1c7a52",
   "metadata": {},
   "source": [
    "# Loops\n",
    "    - What is a loop?\n",
    "    - For in\n",
    "    - it always require a sequence to itterata over\n",
    "    - While\n"
   ]
  },
  {
   "cell_type": "markdown",
   "id": "ff9ad3e1-d9f6-4352-838e-c24cfdbb4403",
   "metadata": {},
   "source": [
    "# For in Loop :"
   ]
  },
  {
   "cell_type": "code",
   "execution_count": 43,
   "id": "e56dc190-b3d7-45fb-b5c5-7ede4e1c8824",
   "metadata": {},
   "outputs": [
    {
     "name": "stdout",
     "output_type": "stream",
     "text": [
      "Asad\n",
      "Asad\n",
      "Asad\n",
      "Asad\n",
      "Asad\n",
      "Asad\n",
      "Asad\n",
      "Asad\n",
      "Asad\n",
      "Asad\n"
     ]
    }
   ],
   "source": [
    "# Task : To Print Yor Name 10 times:\n",
    "print('Asad')\n",
    "print('Asad')\n",
    "print('Asad')\n",
    "print('Asad')\n",
    "print('Asad')\n",
    "print('Asad')\n",
    "print('Asad')\n",
    "print('Asad')\n",
    "print('Asad')\n",
    "print('Asad')"
   ]
  },
  {
   "cell_type": "code",
   "execution_count": 59,
   "id": "e39a3eb4-6b9f-4873-9154-b6f5fa2777aa",
   "metadata": {},
   "outputs": [],
   "source": [
    "#using of For In :\n",
    "# no of lines becomes less in loop but enhanes complexity  \n",
    "# a : here the range all number come and store in a"
   ]
  },
  {
   "cell_type": "code",
   "execution_count": 61,
   "id": "b0ccf3f4-88e6-4420-a283-b067a702ef38",
   "metadata": {},
   "outputs": [
    {
     "name": "stdout",
     "output_type": "stream",
     "text": [
      "0 My Name is Asad\n",
      "1 My Name is Asad\n",
      "2 My Name is Asad\n",
      "3 My Name is Asad\n",
      "4 My Name is Asad\n",
      "5 My Name is Asad\n",
      "6 My Name is Asad\n",
      "7 My Name is Asad\n",
      "8 My Name is Asad\n",
      "9 My Name is Asad\n"
     ]
    }
   ],
   "source": [
    "for a in range(10):\n",
    "    print(a,'My Name is Asad')"
   ]
  },
  {
   "cell_type": "code",
   "execution_count": 65,
   "id": "6753ec8d-1180-48b7-afd6-c2891d9d98ab",
   "metadata": {},
   "outputs": [
    {
     "name": "stdout",
     "output_type": "stream",
     "text": [
      "1\n",
      "1\n",
      "1\n",
      "1\n",
      "1\n",
      "1\n",
      "1\n",
      "1\n"
     ]
    }
   ],
   "source": [
    "for a in A:\n",
    "    print(A[0])"
   ]
  },
  {
   "cell_type": "code",
   "execution_count": 27,
   "id": "05b75d6c-998b-441c-a60e-4fa050d934c7",
   "metadata": {},
   "outputs": [
    {
     "name": "stdout",
     "output_type": "stream",
     "text": [
      "Hellow : Asad\n",
      "Hellow : zaid\n",
      "Hellow : khan\n",
      "Hellow : sami\n",
      "Hellow : nasir\n",
      "Hellow : sufiyan\n",
      "Hellow : saad\n",
      "Hellow : taha\n",
      "Hellow : suneel\n"
     ]
    }
   ],
   "source": [
    "students = ['Asad','zaid','khan','sami','nasir','sufiyan','saad','taha','suneel']\n",
    "for stu in students:\n",
    "    print(f'Hellow : {stu}')"
   ]
  },
  {
   "cell_type": "code",
   "execution_count": 31,
   "id": "2c028438-f778-4f75-959d-eec4693f2364",
   "metadata": {},
   "outputs": [
    {
     "name": "stdout",
     "output_type": "stream",
     "text": [
      "0 Asad\n",
      "1 zaid\n",
      "2 khan\n",
      "3 sami\n",
      "4 nasir\n",
      "5 sufiyan\n",
      "6 saad\n",
      "7 taha\n"
     ]
    }
   ],
   "source": [
    "#iterarte over list using index\n",
    "for n in range(8):    # n=0 , n=1 , n=2 , n=3 , n=4 ........n=7; n=(0 to 7)\n",
    "    print(n,students[n])"
   ]
  },
  {
   "cell_type": "code",
   "execution_count": 33,
   "id": "b18e5036-065a-4a9f-b723-9f016912a291",
   "metadata": {},
   "outputs": [
    {
     "name": "stdout",
     "output_type": "stream",
     "text": [
      "Asad\n",
      "zaid\n",
      "khan\n",
      "sami\n",
      "nasir\n",
      "sufiyan\n",
      "saad\n",
      "taha\n",
      "suneel\n"
     ]
    },
    {
     "ename": "IndexError",
     "evalue": "list index out of range",
     "output_type": "error",
     "traceback": [
      "\u001b[1;31m---------------------------------------------------------------------------\u001b[0m",
      "\u001b[1;31mIndexError\u001b[0m                                Traceback (most recent call last)",
      "Cell \u001b[1;32mIn[33], line 2\u001b[0m\n\u001b[0;32m      1\u001b[0m \u001b[38;5;28;01mfor\u001b[39;00m i \u001b[38;5;129;01min\u001b[39;00m \u001b[38;5;28mrange\u001b[39m (\u001b[38;5;241m10\u001b[39m):\n\u001b[1;32m----> 2\u001b[0m     \u001b[38;5;28mprint\u001b[39m(students[i])\n",
      "\u001b[1;31mIndexError\u001b[0m: list index out of range"
     ]
    }
   ],
   "source": [
    "for i in range (10):\n",
    "    print(students[])"
   ]
  },
  {
   "cell_type": "code",
   "execution_count": 35,
   "id": "39d10a5f-80df-405b-bc5e-e4b9b2de2f63",
   "metadata": {},
   "outputs": [
    {
     "name": "stdout",
     "output_type": "stream",
     "text": [
      "0 Asad\n",
      "1 zaid\n",
      "2 khan\n",
      "3 sami\n",
      "4 nasir\n",
      "5 sufiyan\n",
      "6 saad\n",
      "7 taha\n",
      "8 suneel\n"
     ]
    }
   ],
   "source": [
    "for n in range(len(students)):  # it directly gives you the length of the list \n",
    "    print(n,students[n])"
   ]
  },
  {
   "cell_type": "code",
   "execution_count": 57,
   "id": "24462f38-6c01-4bf9-ac2e-fa98aa7f5426",
   "metadata": {},
   "outputs": [],
   "source": [
    "students = ['Asad','zaid','khan','sami','nasir','sufiyan','saad','taha','suneel']"
   ]
  },
  {
   "cell_type": "code",
   "execution_count": 61,
   "id": "713810de-2cbc-496e-ac9a-31d2e2db6ed5",
   "metadata": {},
   "outputs": [
    {
     "name": "stdout",
     "output_type": "stream",
     "text": [
      "suneel\n",
      "taha\n",
      "saad\n",
      "sufiyan\n",
      "nasir\n",
      "sami\n",
      "khan\n",
      "zaid\n",
      "Asad\n"
     ]
    }
   ],
   "source": [
    "for i in students[::-1]: # we use slicing  for reverse  : we dont use reverse() because its not works or gives none type.\n",
    "    print(i)"
   ]
  },
  {
   "cell_type": "code",
   "execution_count": 65,
   "id": "876d7977-74c6-42fe-b98d-74697049f4bb",
   "metadata": {},
   "outputs": [
    {
     "name": "stdout",
     "output_type": "stream",
     "text": [
      "0 Asad\n",
      "1 zaid\n",
      "2 khan\n",
      "3 sami\n",
      "4 nasir\n",
      "5 sufiyan\n",
      "6 saad\n",
      "7 taha\n",
      "8 suneel\n"
     ]
    }
   ],
   "source": [
    "for n,i in enumerate(students):  #enumerate : This function also gives index with list but take tow variables\n",
    "    print(n,i)"
   ]
  },
  {
   "cell_type": "markdown",
   "id": "2bf43100-a21a-4c63-8f95-c38a3055838e",
   "metadata": {},
   "source": [
    "# continue , break"
   ]
  },
  {
   "cell_type": "code",
   "execution_count": 68,
   "id": "44ce6b6a-6936-4de6-bdbf-ff48274715b9",
   "metadata": {},
   "outputs": [
    {
     "name": "stdout",
     "output_type": "stream",
     "text": [
      "Kal Mrs : Asad ki chuti hy\n",
      "Kal Mrs : zaid ki chuti hy\n",
      "Kal Mrs : khan ki chuti hy\n",
      "Kal Mrs : sami ki chuti hy\n",
      "Kal Mrs : nasir ki chuti hy\n",
      "Kal Mrs : sufiyan ki chuti hy\n",
      "Kal Mrs : saad ki chuti hy\n",
      "Kal Mrs : taha ki chuti hy\n",
      "Kal Mrs : suneel ki chuti hy\n"
     ]
    }
   ],
   "source": [
    "for s in students:\n",
    "    print(f'Kal Mrs : {s} ki chuti hy')"
   ]
  },
  {
   "cell_type": "code",
   "execution_count": 70,
   "id": "9f160a09-5f64-4c94-8a4c-0460a4e52a2b",
   "metadata": {},
   "outputs": [
    {
     "name": "stdout",
     "output_type": "stream",
     "text": [
      "Ap ki chuti hy : Asad\n",
      "Ap ki chuti hy : zaid\n",
      "Ap ki chuti hy : khan\n",
      "Ap ki chuti hy : sami\n",
      "Ap ko ana hy : nasir\n",
      "Ap ko ana hy : sufiyan\n",
      "Ap ki chuti hy : saad\n",
      "Ap ki chuti hy : taha\n",
      "Ap ko ana hy : suneel\n"
     ]
    }
   ],
   "source": [
    "for s in students:\n",
    "    if len(s)<5:\n",
    "        print(f'Ap ki chuti hy : {s}')\n",
    "    else:\n",
    "        print(f'Ap ko ana hy : {s}')\n",
    "        "
   ]
  },
  {
   "cell_type": "code",
   "execution_count": 84,
   "id": "8670c96b-1fa3-4977-a4d1-51216779412c",
   "metadata": {},
   "outputs": [
    {
     "name": "stdout",
     "output_type": "stream",
     "text": [
      "Asad\n",
      "zaid\n",
      "khan\n",
      "sami\n",
      "nasir\n",
      "sufiyan\n",
      "saad\n"
     ]
    }
   ],
   "source": [
    "for s in students:   #break is used to \n",
    "    if s=='taha':\n",
    "        break\n",
    "    else:\n",
    "       print(s)"
   ]
  },
  {
   "cell_type": "code",
   "execution_count": 86,
   "id": "e6c3fe96-2b17-425a-8dd5-28aae103af1e",
   "metadata": {},
   "outputs": [
    {
     "name": "stdin",
     "output_type": "stream",
     "text": [
      "Enter The Dishes You Want : ? kheer\n",
      "Enter The Dishes You Want : ? biryani\n",
      "Enter The Dishes You Want : ? korma\n",
      "Enter The Dishes You Want : ? coldrinks\n",
      "Enter The Dishes You Want : ? dumba karahi\n",
      "Enter The Dishes You Want : ? tikka\n",
      "Enter The Dishes You Want : ? chatni\n",
      "Enter The Dishes You Want : ? salaad\n"
     ]
    },
    {
     "data": {
      "text/plain": [
       "['kheer',\n",
       " 'biryani',\n",
       " 'korma',\n",
       " 'coldrinks',\n",
       " 'dumba karahi',\n",
       " 'tikka',\n",
       " 'chatni',\n",
       " 'salaad']"
      ]
     },
     "execution_count": 86,
     "metadata": {},
     "output_type": "execute_result"
    }
   ],
   "source": [
    "menue = []\n",
    "for fo in range(8):\n",
    "    food = input('Enter The Dishes You Want : ?')\n",
    "    menue.append(food)\n",
    "\n",
    "menue\n",
    "    "
   ]
  },
  {
   "cell_type": "code",
   "execution_count": 88,
   "id": "f4894423-07bb-487f-a9aa-9ae62a6a9bca",
   "metadata": {},
   "outputs": [
    {
     "name": "stdout",
     "output_type": "stream",
     "text": [
      "0\n",
      "1\n",
      "2\n",
      "3\n",
      "4\n",
      "6\n",
      "7\n",
      "8\n",
      "9\n"
     ]
    }
   ],
   "source": [
    "for a in range(10):\n",
    "    if a==5:\n",
    "        continue   # here if a becomes 5 so with the help of continue a \n",
    "    else:          #goes to range and get 6 start again the loop till end\n",
    "        print(a)"
   ]
  },
  {
   "cell_type": "code",
   "execution_count": 92,
   "id": "23779293-f333-4c9c-a1af-be1d8154569e",
   "metadata": {},
   "outputs": [
    {
     "name": "stdin",
     "output_type": "stream",
     "text": [
      "Enter The Dishes You Want : ? one\n",
      "Enter The Dishes You Want : ? two\n",
      "Enter The Dishes You Want : ? three\n",
      "Enter The Dishes You Want : ? kheer\n",
      "Enter The Dishes You Want : ? four \n",
      "Enter The Dishes You Want : ? five\n",
      "Enter The Dishes You Want : ? six\n",
      "Enter The Dishes You Want : ? seven\n"
     ]
    },
    {
     "data": {
      "text/plain": [
       "['one', 'two', 'three', 'four ', 'five', 'six', 'seven']"
      ]
     },
     "execution_count": 92,
     "metadata": {},
     "output_type": "execute_result"
    }
   ],
   "source": [
    "menue = []\n",
    "for fo in range(8):\n",
    "    food = input('Enter The Dishes You Want : ?')\n",
    "    if food == 'kheer':\n",
    "        continue\n",
    "    else:\n",
    "        menue.append(food)\n",
    "\n",
    "menue\n",
    "    "
   ]
  },
  {
   "cell_type": "code",
   "execution_count": 118,
   "id": "affdfe66-1e51-4b3b-ba11-55d7652ee4e2",
   "metadata": {},
   "outputs": [
    {
     "name": "stdin",
     "output_type": "stream",
     "text": [
      "kheer Enter The price for 300 peoples.  10\n",
      "biryani Enter The price for 300 peoples.  20\n",
      "korma Enter The price for 300 peoples.  30\n",
      "coldrinks Enter The price for 300 peoples.  40\n",
      "dumba karahi Enter The price for 300 peoples.  50\n",
      "tikka Enter The price for 300 peoples.  50\n",
      "chatni Enter The price for 300 peoples.  60\n",
      "salaad Enter The price for 300 peoples.  70\n"
     ]
    },
    {
     "data": {
      "text/plain": [
       "{'kheer': '10',\n",
       " 'biryani': '20',\n",
       " 'korma': '30',\n",
       " 'coldrinks': '40',\n",
       " 'dumba karahi': '50',\n",
       " 'tikka': '50',\n",
       " 'chatni': '60',\n",
       " 'salaad': '70'}"
      ]
     },
     "execution_count": 118,
     "metadata": {},
     "output_type": "execute_result"
    }
   ],
   "source": [
    "# use in dictionary\n",
    "rates = {}\n",
    "items = ['kheer', 'biryani', 'korma', 'coldrinks', 'dumba karahi', 'tikka', 'chatni', 'salaad']\n",
    "for i in items :\n",
    "    price = input(f'{i} Enter The price for 300 peoples. ')\n",
    "    rates[i] = price\n",
    "\n",
    "rates\n",
    "\n",
    "\n"
   ]
  },
  {
   "cell_type": "code",
   "execution_count": 132,
   "id": "398c02f1-4abe-4b1c-934f-e8c06d650cf3",
   "metadata": {},
   "outputs": [
    {
     "name": "stdin",
     "output_type": "stream",
     "text": [
      "kheer Enter The price for 300 peoples.  20\n",
      "biryani Enter The price for 300 peoples.  30\n",
      "korma Enter The price for 300 peoples.  40\n",
      "coldrinks Enter The price for 300 peoples.  50\n",
      "dumba karahi Enter The price for 300 peoples.  60\n",
      "tikka Enter The price for 300 peoples.  70\n",
      "chatni Enter The price for 300 peoples.  50\n",
      "salaad Enter The price for 300 peoples.  50\n"
     ]
    },
    {
     "data": {
      "text/plain": [
       "{'kheer': '20',\n",
       " 'biryani': '30',\n",
       " 'korma': '40',\n",
       " 'coldrinks': '50',\n",
       " 'dumba karahi': '60',\n",
       " 'tikka': '70',\n",
       " 'chatni': '50',\n",
       " 'salaad': '50'}"
      ]
     },
     "execution_count": 132,
     "metadata": {},
     "output_type": "execute_result"
    }
   ],
   "source": [
    "rates = {}\n",
    "items = ['kheer', 'biryani', 'korma', 'coldrinks', 'dumba karahi', 'tikka', 'chatni', 'salaad']\n",
    "for i in items :\n",
    "    price = input(f'{i} Enter The price for 300 peoples. ')\n",
    "    \n",
    "    if  items == 'tikka':\n",
    "        continue\n",
    "    else:\n",
    "        rates[i] = price\n",
    "rates"
   ]
  },
  {
   "cell_type": "code",
   "execution_count": 130,
   "id": "2e69819e-4e76-413d-92e5-f100901cd467",
   "metadata": {},
   "outputs": [
    {
     "name": "stdin",
     "output_type": "stream",
     "text": [
      "Enter The Price Of charger 10\n",
      "Enter The Price Of handfree 20\n",
      "Enter The Price Of usb 40\n",
      "Enter The Price Of datacable 50\n",
      "Enter The Price Of powerbank 60\n",
      "Enter The Price Of mouse 40\n",
      "Enter The Price Of keybord 04\n",
      "Enter The Price Of mobilecover 40\n"
     ]
    },
    {
     "name": "stdout",
     "output_type": "stream",
     "text": [
      "{'charger': 10, 'handfree': 20, 'usb': 40, 'datacable': 50, 'powerbank': 60, 'mouse': 40, 'keybord': 4, 'mobilecover': 40}\n"
     ]
    },
    {
     "data": {
      "text/plain": [
       "264"
      ]
     },
     "execution_count": 130,
     "metadata": {},
     "output_type": "execute_result"
    }
   ],
   "source": [
    "shope = ['charger','handfree','usb','datacable','powerbank','mouse','keybord','mobilecover']\n",
    "cart = {}\n",
    "total = 0\n",
    "for i in shope:\n",
    "    price = int(input(f'Enter The Price Of {i}'))\n",
    "    cart[i] = price\n",
    "    total += price\n",
    "\n",
    "print(cart)\n",
    "total"
   ]
  },
  {
   "cell_type": "code",
   "execution_count": null,
   "id": "15edb61a-ff35-4be1-95ab-3e1dff1a8b63",
   "metadata": {},
   "outputs": [],
   "source": []
  }
 ],
 "metadata": {
  "kernelspec": {
   "display_name": "Python [conda env:base] *",
   "language": "python",
   "name": "conda-base-py"
  },
  "language_info": {
   "codemirror_mode": {
    "name": "ipython",
    "version": 3
   },
   "file_extension": ".py",
   "mimetype": "text/x-python",
   "name": "python",
   "nbconvert_exporter": "python",
   "pygments_lexer": "ipython3",
   "version": "3.12.7"
  }
 },
 "nbformat": 4,
 "nbformat_minor": 5
}
