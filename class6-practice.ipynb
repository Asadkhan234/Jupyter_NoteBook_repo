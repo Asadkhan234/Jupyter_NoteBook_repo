{
 "cells": [
  {
   "cell_type": "code",
   "execution_count": 56,
   "id": "58570102-4633-4990-9e55-a0431836d8c0",
   "metadata": {},
   "outputs": [
    {
     "name": "stdout",
     "output_type": "stream",
     "text": [
      "3\n",
      "[1, 2, 3, 4]\n",
      "[3, 4]\n",
      "[1, 2, 3, 4]\n"
     ]
    },
    {
     "data": {
      "text/plain": [
       "[1, 2, 3, 4]"
      ]
     },
     "execution_count": 56,
     "metadata": {},
     "output_type": "execute_result"
    }
   ],
   "source": [
    "# What is the output of the following code?\n",
    "my_list = [1, 2, 3, 4]\n",
    "print(my_list[2])\n",
    "print(my_list[0:])\n",
    "print(my_list[2:4])\n",
    "print(my_list[-4:4])\n",
    "my_list"
   ]
  },
  {
   "cell_type": "code",
   "execution_count": 60,
   "id": "f7251f0c-4ae2-4779-bbbd-f834cdef7767",
   "metadata": {},
   "outputs": [
    {
     "data": {
      "text/plain": [
       "[1, 2, 3, 4, 10]"
      ]
     },
     "execution_count": 60,
     "metadata": {},
     "output_type": "execute_result"
    }
   ],
   "source": [
    "# How do you add an element 10 at the end of a list nums?\n",
    "my_list.append(10)\n",
    "my_list"
   ]
  },
  {
   "cell_type": "code",
   "execution_count": 70,
   "id": "6ed4023f-8529-4123-b995-b9c495d7a06d",
   "metadata": {},
   "outputs": [
    {
     "data": {
      "text/plain": [
       "3"
      ]
     },
     "execution_count": 70,
     "metadata": {},
     "output_type": "execute_result"
    }
   ],
   "source": [
    "#Write a Python program to find the length of a list colors = ['red', 'green', 'blue'].\n",
    "colors = ['red', 'green', 'blue']\n",
    "len(colors)"
   ]
  },
  {
   "cell_type": "code",
   "execution_count": 84,
   "id": "ebf3b799-5f9d-40c8-8480-033baefc5c3c",
   "metadata": {},
   "outputs": [
    {
     "data": {
      "text/plain": [
       "[1, 2, 3, 5, 4]"
      ]
     },
     "execution_count": 84,
     "metadata": {},
     "output_type": "execute_result"
    }
   ],
   "source": [
    "#How do you remove the first occurrence of the value 5 from the list below?\n",
    "numbers = [1, 2, 5, 3, 5, 4]\n",
    "numbers.remove(5)\n",
    "numbers"
   ]
  },
  {
   "cell_type": "code",
   "execution_count": 98,
   "id": "39a1d468-399a-4dea-a37f-10ca80d29370",
   "metadata": {},
   "outputs": [
    {
     "name": "stdout",
     "output_type": "stream",
     "text": [
      "2\n",
      "3\n",
      "2\n"
     ]
    },
    {
     "data": {
      "text/plain": [
       "[10, 20, 100, 30, 40]"
      ]
     },
     "execution_count": 98,
     "metadata": {},
     "output_type": "execute_result"
    }
   ],
   "source": [
    "#How do you insert an element 100 at index 2 in the list data = [10, 20, 30, 40]?\n",
    "data = [10, 20, 30, 40]\n",
    "print(data.index(30))\n",
    "data.insert(2,100)\n",
    "print(data.index(30))\n",
    "print(data.index(100))\n",
    "data"
   ]
  },
  {
   "cell_type": "code",
   "execution_count": 104,
   "id": "88d5f294-3c36-4eaa-8fbd-c3369d746218",
   "metadata": {},
   "outputs": [
    {
     "name": "stdout",
     "output_type": "stream",
     "text": [
      "cherry\n",
      "['apple', 'banana', 'cherry']\n"
     ]
    }
   ],
   "source": [
    "#What will be the output of this code?\n",
    "\n",
    "fruits = ['apple', 'banana', 'cherry']\n",
    "print(fruits[-1])\n",
    "print(fruits[-3:3])"
   ]
  },
  {
   "cell_type": "code",
   "execution_count": 106,
   "id": "b1e2310c-ea4b-44e0-bf4b-67ae4a1a1ddf",
   "metadata": {},
   "outputs": [
    {
     "name": "stdout",
     "output_type": "stream",
     "text": [
      "5\n"
     ]
    }
   ],
   "source": [
    "#Write a Python function to return the largest number from a list.\n",
    "numbers = [1, 2, 5, 3, 5, 4]\n",
    "print(max(numbers))"
   ]
  },
  {
   "cell_type": "code",
   "execution_count": 110,
   "id": "c9b71576-5081-417a-9c7f-940a2b31df7b",
   "metadata": {},
   "outputs": [
    {
     "name": "stdout",
     "output_type": "stream",
     "text": [
      "[1, 2, 3]\n"
     ]
    }
   ],
   "source": [
    "#What is the output of the following code?\n",
    "a = [1, 2]\n",
    "b = a\n",
    "b.append(3)\n",
    "print(a)"
   ]
  },
  {
   "cell_type": "code",
   "execution_count": 112,
   "id": "a40225d4-8479-4fa8-a690-fcb162a748cd",
   "metadata": {},
   "outputs": [
    {
     "data": {
      "text/plain": [
       "[1, 2, 3, 4]"
      ]
     },
     "execution_count": 112,
     "metadata": {},
     "output_type": "execute_result"
    }
   ],
   "source": [
    "#How do you concatenate two lists: [1, 2] and [3, 4]\n",
    "\n",
    "l1 = [1, 2]\n",
    "l2 = [3, 4]\n",
    "\n",
    "l1.extend(l2)\n",
    "l1"
   ]
  },
  {
   "cell_type": "code",
   "execution_count": 118,
   "id": "2062b7f6-e6a6-4fc9-9b8a-0109bf8e6550",
   "metadata": {},
   "outputs": [
    {
     "data": {
      "text/plain": [
       "[[1, 2], [3, 4], [5]]"
      ]
     },
     "execution_count": 118,
     "metadata": {},
     "output_type": "execute_result"
    }
   ],
   "source": [
    "#[[1, 2], [3, 4], [5]] → [1, 2, 3, 4, 5]\n",
    "l1 = [[1, 2], [3, 4], [5]]\n",
    "l2 = []\n",
    "l2.extend(l1)\n",
    "l2"
   ]
  },
  {
   "cell_type": "code",
   "execution_count": 1,
   "id": "232d2cb6-4b2d-4ee7-9f11-ebbceb1be6de",
   "metadata": {},
   "outputs": [
    {
     "data": {
      "text/plain": [
       "[10, 20, 99, 40, 50]"
      ]
     },
     "execution_count": 1,
     "metadata": {},
     "output_type": "execute_result"
    }
   ],
   "source": [
    "#Given the list lst = [10, 20, 30, 40, 50], replace the middle element with 99.\n",
    "lst = [10, 20, 30, 40, 50]\n",
    "lst[2]=99\n",
    "lst"
   ]
  },
  {
   "cell_type": "code",
   "execution_count": 7,
   "id": "67f4efe7-fa5a-4f00-91f9-3105fe141ff7",
   "metadata": {},
   "outputs": [
    {
     "data": {
      "text/plain": [
       "[1, 2, 3, 4, 5]"
      ]
     },
     "execution_count": 7,
     "metadata": {},
     "output_type": "execute_result"
    }
   ],
   "source": [
    "#Combine the lists a = [1, 2, 3] and b = [4, 5] into a single list without using + operator.\n",
    "a = [1, 2, 3]\n",
    "b = [4, 5]\n",
    "a.extend(b) # It Is Used To Combine Two LIst \n",
    "a"
   ]
  },
  {
   "cell_type": "code",
   "execution_count": 9,
   "id": "62e133e0-0fc9-4ab2-8999-1e4afeb86028",
   "metadata": {},
   "outputs": [
    {
     "data": {
      "text/plain": [
       "[15, 20]"
      ]
     },
     "execution_count": 9,
     "metadata": {},
     "output_type": "execute_result"
    }
   ],
   "source": [
    "#Given lst = [5, 10, 15, 20], extract the last 2 elements.\n",
    "lst = [5, 10, 15, 20]\n",
    "lst[2:4]"
   ]
  },
  {
   "cell_type": "code",
   "execution_count": 15,
   "id": "8b614ac4-f4e5-428c-8b58-c3522ac5abfb",
   "metadata": {},
   "outputs": [
    {
     "data": {
      "text/plain": [
       "[1, 2, 3, 4, 5]"
      ]
     },
     "execution_count": 15,
     "metadata": {},
     "output_type": "execute_result"
    }
   ],
   "source": [
    "#Reverse the list lst = [1, 2, 3, 4, 5] using slicing only.\n",
    "lst = [1, 2, 3, 4, 5]\n",
    "lst[-5:5]"
   ]
  },
  {
   "cell_type": "code",
   "execution_count": 23,
   "id": "9be3509a-09bf-465d-b2a0-0c6a48cdca08",
   "metadata": {},
   "outputs": [
    {
     "data": {
      "text/plain": [
       "[9, 9, 2, 3, 4]"
      ]
     },
     "execution_count": 23,
     "metadata": {},
     "output_type": "execute_result"
    }
   ],
   "source": [
    "#Replace the first two elements in [0, 1, 2, 3, 4] with [9, 9].\n",
    "lst = [0, 1, 2, 3, 4] \n",
    "lst[0] = 9\n",
    "lst[1] = 9\n",
    "lst"
   ]
  },
  {
   "cell_type": "code",
   "execution_count": 65,
   "id": "812b6710-5614-4c51-af93-a36d0bbe698b",
   "metadata": {},
   "outputs": [
    {
     "name": "stdout",
     "output_type": "stream",
     "text": [
      "[10, 20, 50]\n"
     ]
    }
   ],
   "source": [
    "#Remove the second and third elements from the list [10, 20, 30, 40, 50].\n",
    "lst = [10, 20, 30, 40, 50]\n",
    "del lst[2]\n",
    "del lst[2]\n",
    "print(lst)"
   ]
  },
  {
   "cell_type": "code",
   "execution_count": 75,
   "id": "784d3257-7979-4eb2-a20f-a00dd390af89",
   "metadata": {},
   "outputs": [
    {
     "data": {
      "text/plain": [
       "[1, 1, 2, 2, 1, 2, 3, 4]"
      ]
     },
     "execution_count": 75,
     "metadata": {},
     "output_type": "execute_result"
    }
   ],
   "source": [
    "#From lst = [1, 2, 3, 4], create a new list with each element duplicated (e.g., [1, 1, 2, 2, ...]) without loops.\n",
    "lst = [1, 2, 3, 4]\n",
    "lst1 = [1, 1, 2, 2]\n",
    "lst1.extend(lst)\n",
    "lst1\n"
   ]
  },
  {
   "cell_type": "code",
   "execution_count": 79,
   "id": "cb714cd7-0330-4929-a7fb-92aaf6ad40bd",
   "metadata": {},
   "outputs": [
    {
     "data": {
      "text/plain": [
       "[0, 0, 0, 0, 0]"
      ]
     },
     "execution_count": 79,
     "metadata": {},
     "output_type": "execute_result"
    }
   ],
   "source": [
    "#Create a list of 5 zeros using list repetition.\n",
    "lst = [0]*5\n",
    "lst"
   ]
  },
  {
   "cell_type": "code",
   "execution_count": 81,
   "id": "b43a37ad-00a9-487c-8a4b-3a4d9f13ad5e",
   "metadata": {},
   "outputs": [
    {
     "data": {
      "text/plain": [
       "4"
      ]
     },
     "execution_count": 81,
     "metadata": {},
     "output_type": "execute_result"
    }
   ],
   "source": [
    "#Find the length of the list ['a', 'b', 'c', 'd'] using a built-in method.\n",
    "lst = ['a', 'b', 'c', 'd']\n",
    "len(lst)"
   ]
  },
  {
   "cell_type": "code",
   "execution_count": 83,
   "id": "19400c46-950f-459e-b326-8d1ebcdc5121",
   "metadata": {},
   "outputs": [
    {
     "data": {
      "text/plain": [
       "[10, 30, 50]"
      ]
     },
     "execution_count": 83,
     "metadata": {},
     "output_type": "execute_result"
    }
   ],
   "source": [
    "#From the list lst = [10, 20, 30, 40, 50], extract a sublist containing every second element.\n",
    "lst = [10, 20, 30, 40, 50]\n",
    "lst[::2]"
   ]
  },
  {
   "cell_type": "code",
   "execution_count": 125,
   "id": "986d7e50-1ec1-44af-9883-017efdc4428d",
   "metadata": {},
   "outputs": [
    {
     "data": {
      "text/plain": [
       "[5, 4, 3, 2, 1]"
      ]
     },
     "execution_count": 125,
     "metadata": {},
     "output_type": "execute_result"
    }
   ],
   "source": [
    "#Given lst = [1, 2, 3, 4, 5], create a reversed version without using reversed() or loops.\n",
    "lst = [1, 2, 3, 4, 5]\n",
    "lst[5::-1]\n"
   ]
  },
  {
   "cell_type": "code",
   "execution_count": 137,
   "id": "49136cf9-5b7f-412c-bf86-ebdbc3f313f5",
   "metadata": {},
   "outputs": [
    {
     "data": {
      "text/plain": [
       "[1, 4, 2, 3]"
      ]
     },
     "execution_count": 137,
     "metadata": {},
     "output_type": "execute_result"
    }
   ],
   "source": [
    "#From lst = [1, 2, 3, 4], construct a new list that looks like [1, 4, 2, 3] using slicing and indexing only.\n",
    "lst = [1, 2, 3, 4]\n",
    "del lst[3]\n",
    "lst.insert(1,4)\n",
    "lst"
   ]
  },
  {
   "cell_type": "code",
   "execution_count": 141,
   "id": "1aa9ee00-ff60-4d01-9f76-af27842ccc8b",
   "metadata": {},
   "outputs": [
    {
     "data": {
      "text/plain": [
       "[0, 1, 0, 1, 0, 1, 0, 1, 0, 1, 0, 1, 0, 1, 0, 1, 0, 1, 0, 1]"
      ]
     },
     "execution_count": 141,
     "metadata": {},
     "output_type": "execute_result"
    }
   ],
   "source": [
    "#Make a list of length 10 containing alternating 0 and 1 values.\n",
    "lst = [0,1]*10\n",
    "lst"
   ]
  },
  {
   "cell_type": "code",
   "execution_count": 145,
   "id": "3ad1114c-317c-4edf-9183-0a3c573cb819",
   "metadata": {},
   "outputs": [
    {
     "data": {
      "text/plain": [
       "[50, 10, 20, 30, 40]"
      ]
     },
     "execution_count": 145,
     "metadata": {},
     "output_type": "execute_result"
    }
   ],
   "source": [
    "#Given lst = [10, 20, 30, 40, 50], move the last element to the first position.\n",
    "lst = [10, 20, 30, 40, 50]\n",
    "del lst[4]\n",
    "lst.insert(0,50)\n",
    "lst"
   ]
  },
  {
   "cell_type": "code",
   "execution_count": 147,
   "id": "fb728add-ed27-4f67-9b6c-fc4f3a10de04",
   "metadata": {},
   "outputs": [
    {
     "data": {
      "text/plain": [
       "[1, 3, 5]"
      ]
     },
     "execution_count": 147,
     "metadata": {},
     "output_type": "execute_result"
    }
   ],
   "source": [
    "#From lst = [1, 2, 3, 4, 5, 6], create [1, 3, 5] using slicing only.\n",
    "lst = [1, 2, 3, 4, 5, 6]\n",
    "lst[::2]"
   ]
  },
  {
   "cell_type": "code",
   "execution_count": 151,
   "id": "e22f2ebc-27d4-490e-afb6-bb90d1e37b5e",
   "metadata": {},
   "outputs": [
    {
     "data": {
      "text/plain": [
       "[20, 30, 40]"
      ]
     },
     "execution_count": 151,
     "metadata": {},
     "output_type": "execute_result"
    }
   ],
   "source": [
    "#Given [10, 20, 30, 40, 50], remove the first and last elements using slicing.\n",
    "lst = [10, 20, 30, 40, 50]\n",
    "lst[1:4]"
   ]
  },
  {
   "cell_type": "code",
   "execution_count": 155,
   "id": "77ff2d56-1067-40c9-89ac-f1e699a4f3f4",
   "metadata": {},
   "outputs": [
    {
     "data": {
      "text/plain": [
       "[0, 1, 2, 3, 4, 5]"
      ]
     },
     "execution_count": 155,
     "metadata": {},
     "output_type": "execute_result"
    }
   ],
   "source": [
    "#Construct a list like [0, 1, 2, 3, 4] by combining slices of two predefined lists: [0, 1, 2] and [3, 4, 5].\n",
    "l1 = [0, 1, 2]\n",
    "l2 = [3, 4, 5]\n",
    "l1.extend(l2)\n",
    "l1"
   ]
  },
  {
   "cell_type": "code",
   "execution_count": 159,
   "id": "48a5d33b-3b69-444d-a57d-54fc34b06d16",
   "metadata": {},
   "outputs": [
    {
     "data": {
      "text/plain": [
       "[8]"
      ]
     },
     "execution_count": 159,
     "metadata": {},
     "output_type": "execute_result"
    }
   ],
   "source": [
    "#Using only indexing and slicing, get the third element from the end in [5, 6, 7, 8, 9].\n",
    "lst = [5, 6, 7, 8, 9]\n",
    "lst[-2:4]"
   ]
  },
  {
   "cell_type": "code",
   "execution_count": null,
   "id": "88b3bd20-e851-4c88-8d98-914f56cda5fe",
   "metadata": {},
   "outputs": [],
   "source": [
    "#From a nested list [[1, 2], [3, 4], [5, 6]], extract the number 4 using indexing only."
   ]
  }
 ],
 "metadata": {
  "kernelspec": {
   "display_name": "Python [conda env:base] *",
   "language": "python",
   "name": "conda-base-py"
  },
  "language_info": {
   "codemirror_mode": {
    "name": "ipython",
    "version": 3
   },
   "file_extension": ".py",
   "mimetype": "text/x-python",
   "name": "python",
   "nbconvert_exporter": "python",
   "pygments_lexer": "ipython3",
   "version": "3.12.7"
  }
 },
 "nbformat": 4,
 "nbformat_minor": 5
}
