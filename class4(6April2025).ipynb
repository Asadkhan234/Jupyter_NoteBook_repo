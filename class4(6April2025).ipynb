{
 "cells": [
  {
   "cell_type": "markdown",
   "id": "9ee0e2b9-ccd3-46bc-af8a-2c28790bd846",
   "metadata": {},
   "source": [
    "# conditional Statement\n",
    "- If Statements\n",
    "- If Else\n",
    "- Nested Statements"
   ]
  },
  {
   "cell_type": "code",
   "execution_count": 2,
   "id": "aab1d20e-d0c0-4bec-b8cf-bf0335ddb65d",
   "metadata": {},
   "outputs": [
    {
     "name": "stdin",
     "output_type": "stream",
     "text": [
      "Enter Age:  20\n"
     ]
    },
    {
     "name": "stdout",
     "output_type": "stream",
     "text": [
      "Young\n",
      "Your Age Is 20\n"
     ]
    }
   ],
   "source": [
    "age = int(input('Enter Age: '))\n",
    "if age<30 :\n",
    "    print('Young')\n",
    "else:\n",
    "    print('Old Man')\n",
    "print(f'Your Age Is {age}')"
   ]
  },
  {
   "cell_type": "code",
   "execution_count": 4,
   "id": "e4d7bd9a-2d88-4be8-9b04-f9afbd7bdc3f",
   "metadata": {},
   "outputs": [
    {
     "data": {
      "text/plain": [
       "123"
      ]
     },
     "execution_count": 4,
     "metadata": {},
     "output_type": "execute_result"
    }
   ],
   "source": [
    "123"
   ]
  },
  {
   "cell_type": "code",
   "execution_count": 5,
   "id": "13bdebb7-2e11-40ed-8422-615d290fa907",
   "metadata": {},
   "outputs": [
    {
     "name": "stdin",
     "output_type": "stream",
     "text": [
      "Enter Bill amount : 30000\n"
     ]
    },
    {
     "name": "stdout",
     "output_type": "stream",
     "text": [
      "Sorry You Have NO Discount On Purchse of 30000\n"
     ]
    }
   ],
   "source": [
    "bill_amount = int(input('Enter Bill amount :'))\n",
    "if bill_amount > 50000:\n",
    "    Discount = bill_amount*.10\n",
    "    print(f'Your Discount Is {Discount} On Of Rs : {bill_amount}')\n",
    "else:\n",
    "    print(f'Sorry You Have NO Discount On Purchse of {bill_amount}')"
   ]
  },
  {
   "cell_type": "markdown",
   "id": "917b10e4-2538-4d17-8bae-022c01a77114",
   "metadata": {},
   "source": [
    "# Salary Per Annum 600000/- 5% , Uska Bad Salary"
   ]
  },
  {
   "cell_type": "code",
   "execution_count": 20,
   "id": "187fcba8-3062-439c-9853-6b567c9bad0f",
   "metadata": {},
   "outputs": [
    {
     "name": "stdin",
     "output_type": "stream",
     "text": [
      "Enter Your Salary:  600000\n"
     ]
    },
    {
     "name": "stdout",
     "output_type": "stream",
     "text": [
      "Your Payment After Cutting Tax Is: 300000.0.\n"
     ]
    }
   ],
   "source": [
    "Salary = int(input('Enter Your Salary Per Annum : '))\n",
    "if Salary >= 600000:\n",
    "    Net_Amount = Salary-Salary*.05\n",
    "    print(f'Your Payment After Cutting Tax Is: {Net_Amount} .')\n",
    "else:\n",
    "    print(f'Your Salary is less Than {Salary} No Tax Cutting From You .')"
   ]
  },
  {
   "cell_type": "code",
   "execution_count": null,
   "id": "7062c455-e2b4-423c-816f-5f69ccc737a3",
   "metadata": {},
   "outputs": [],
   "source": []
  }
 ],
 "metadata": {
  "kernelspec": {
   "display_name": "Python [conda env:base] *",
   "language": "python",
   "name": "conda-base-py"
  },
  "language_info": {
   "codemirror_mode": {
    "name": "ipython",
    "version": 3
   },
   "file_extension": ".py",
   "mimetype": "text/x-python",
   "name": "python",
   "nbconvert_exporter": "python",
   "pygments_lexer": "ipython3",
   "version": "3.12.7"
  }
 },
 "nbformat": 4,
 "nbformat_minor": 5
}
