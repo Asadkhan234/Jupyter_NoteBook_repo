{
 "cells": [
  {
   "cell_type": "code",
   "execution_count": 2,
   "id": "e0a3bdeb-e7db-43ca-a497-f4d4b1631e1a",
   "metadata": {},
   "outputs": [
    {
     "name": "stdin",
     "output_type": "stream",
     "text": [
      "Enter The Length? 10\n",
      "Enter The Width? 2\n"
     ]
    },
    {
     "name": "stdout",
     "output_type": "stream",
     "text": [
      "Area is : 20\n"
     ]
    }
   ],
   "source": [
    "length = int(input('Enter The Length?'))\n",
    "Width = int(input('Enter The Width?'))\n",
    "Area  = length * Width\n",
    "print (f'Area is : {Area}')"
   ]
  },
  {
   "cell_type": "code",
   "execution_count": 8,
   "id": "9f15a3c0-06a6-4626-8ef7-db090b4802a2",
   "metadata": {},
   "outputs": [
    {
     "name": "stdin",
     "output_type": "stream",
     "text": [
      "What Is Radius? 3\n"
     ]
    },
    {
     "name": "stdout",
     "output_type": "stream",
     "text": [
      "The Circumference is : 18.84 \n"
     ]
    }
   ],
   "source": [
    "r = int (input('What Is Radius?')) \n",
    "Circumference = 2*(3.14)*r\n",
    "print(f'The Circumference is : {Circumference} ')"
   ]
  },
  {
   "cell_type": "code",
   "execution_count": 10,
   "id": "ad263607-b333-41d2-b1e8-fa725fc18e55",
   "metadata": {},
   "outputs": [
    {
     "name": "stdin",
     "output_type": "stream",
     "text": [
      "Enter The Principal ? 10\n",
      "Enter The Rate ? 5\n",
      "Enter The Time ? 3\n"
     ]
    },
    {
     "name": "stdout",
     "output_type": "stream",
     "text": [
      "150\n"
     ]
    }
   ],
   "source": [
    "Principal = int(input('Enter The Principal ?'))\n",
    "Rate = int(input('Enter The Rate ?'))\n",
    "Time = int(input('Enter The Time ?'))\n",
    "Simple_interest = Principal*Rate*Time\n",
    "print(Simple_interest)"
   ]
  },
  {
   "cell_type": "code",
   "execution_count": 12,
   "id": "d4c51887-e42c-4f0f-be94-6af9321dfdc6",
   "metadata": {},
   "outputs": [
    {
     "name": "stdin",
     "output_type": "stream",
     "text": [
      "Enter The Time ? 5\n",
      "Enter The Distance ? 10\n"
     ]
    },
    {
     "name": "stdout",
     "output_type": "stream",
     "text": [
      "2.0\n"
     ]
    }
   ],
   "source": [
    "Time = int(input('Enter The Time ?'))\n",
    "Distance= int(input('Enter The Distance ?'))\n",
    "Speed = Distance/Time\n",
    "print (Speed)"
   ]
  },
  {
   "cell_type": "code",
   "execution_count": 14,
   "id": "b99353d7-9b5f-4ecc-af7d-342ddc400bc5",
   "metadata": {},
   "outputs": [
    {
     "name": "stdin",
     "output_type": "stream",
     "text": [
      "Enter The Weight? 10\n",
      "Enter The Height? 4\n"
     ]
    },
    {
     "name": "stdout",
     "output_type": "stream",
     "text": [
      "0.625\n"
     ]
    }
   ],
   "source": [
    "Weight = int(input('Enter The Weight?'))\n",
    "Height = int(input('Enter The Height?'))\n",
    "BMI = Weight/Height**2\n",
    "print(BMI)"
   ]
  },
  {
   "cell_type": "code",
   "execution_count": 16,
   "id": "89cfccf8-8d34-47d3-83e8-c337aa65ae88",
   "metadata": {},
   "outputs": [
    {
     "name": "stdin",
     "output_type": "stream",
     "text": [
      "Enter The Mass In Kg? 10\n",
      "Enter The Acceleration In m/s2? 3\n"
     ]
    },
    {
     "name": "stdout",
     "output_type": "stream",
     "text": [
      "30\n"
     ]
    }
   ],
   "source": [
    "Mass = int (input('Enter The Mass In Kg?' ))\n",
    "Acceleration = int (input('Enter The Acceleration In m/s2?' ))\n",
    "Force = Mass*Acceleration\n",
    "print (Force)"
   ]
  },
  {
   "cell_type": "code",
   "execution_count": 18,
   "id": "def0b27a-ee91-4871-8121-3a875bdf78b0",
   "metadata": {},
   "outputs": [
    {
     "name": "stdin",
     "output_type": "stream",
     "text": [
      "Enter The A? 10\n",
      "Enter The B? 20\n",
      "Enter The C? 30\n"
     ]
    },
    {
     "name": "stdout",
     "output_type": "stream",
     "text": [
      "60\n"
     ]
    }
   ],
   "source": [
    "A = int(input('Enter The A?'))\n",
    "B = int(input('Enter The B?'))\n",
    "C = int(input('Enter The C?'))\n",
    "Perimeter = A+B+C\n",
    "print(Perimeter)"
   ]
  },
  {
   "cell_type": "code",
   "execution_count": 22,
   "id": "20f32836-0e84-41d7-a1ee-a8b073088a9a",
   "metadata": {},
   "outputs": [
    {
     "name": "stdin",
     "output_type": "stream",
     "text": [
      "What Is Radius? 6\n"
     ]
    },
    {
     "name": "stdout",
     "output_type": "stream",
     "text": [
      "904.3199999999999\n"
     ]
    }
   ],
   "source": [
    "r = int (input('What Is Radius?')) \n",
    "Volume = 4/3*(3.14)*r**3\n",
    "print(Volume)"
   ]
  },
  {
   "cell_type": "code",
   "execution_count": 24,
   "id": "9d022a50-8de2-41de-8ede-092489489d06",
   "metadata": {},
   "outputs": [
    {
     "name": "stdin",
     "output_type": "stream",
     "text": [
      "Enter The Mass In Kg? 10\n",
      "Enter The Velocity? 4\n"
     ]
    },
    {
     "name": "stdout",
     "output_type": "stream",
     "text": [
      "80.0\n"
     ]
    }
   ],
   "source": [
    "Mass = int (input('Enter The Mass In Kg?' ))\n",
    "Velocity = int (input('Enter The Velocity?' ))\n",
    "KE = 1/2*Mass*Velocity**2\n",
    "print(KE)"
   ]
  },
  {
   "cell_type": "code",
   "execution_count": 26,
   "id": "77ef4bb4-1f22-4c03-b845-a836241ebc7b",
   "metadata": {},
   "outputs": [
    {
     "name": "stdin",
     "output_type": "stream",
     "text": [
      "What Is C? 10\n"
     ]
    },
    {
     "name": "stdout",
     "output_type": "stream",
     "text": [
      "50.0\n"
     ]
    }
   ],
   "source": [
    "C = int (input('What Is C?')) \n",
    "F = 9/5*C+32\n",
    "print(F)"
   ]
  },
  {
   "cell_type": "code",
   "execution_count": 30,
   "id": "5cd797d3-daa2-4fba-bc02-e7e6bab17d9c",
   "metadata": {},
   "outputs": [
    {
     "name": "stdin",
     "output_type": "stream",
     "text": [
      "What Is R? 10\n",
      "What Is H? 3\n"
     ]
    },
    {
     "name": "stdout",
     "output_type": "stream",
     "text": [
      "942.0\n"
     ]
    }
   ],
   "source": [
    "R = int (input('What Is R?')) \n",
    "H = int (input('What Is H?')) \n",
    "Volume = (3.14)*R**2*H\n",
    "print(Volume)"
   ]
  },
  {
   "cell_type": "code",
   "execution_count": 34,
   "id": "d4e8c1e5-18f8-4fe1-b135-fb61c39ed9f4",
   "metadata": {},
   "outputs": [
    {
     "name": "stdin",
     "output_type": "stream",
     "text": [
      "What Is F? 10\n",
      "What Is A? 3\n"
     ]
    },
    {
     "name": "stdout",
     "output_type": "stream",
     "text": [
      "3.3333333333333335\n"
     ]
    }
   ],
   "source": [
    "F = int (input('What Is F?')) \n",
    "A = int (input('What Is A?')) \n",
    "P = F/A\n",
    "print(P)"
   ]
  },
  {
   "cell_type": "code",
   "execution_count": 36,
   "id": "7f8732ec-3ded-441c-a529-28900b284456",
   "metadata": {},
   "outputs": [
    {
     "name": "stdin",
     "output_type": "stream",
     "text": [
      "What Is V? 20\n",
      "What Is I? 5\n"
     ]
    },
    {
     "name": "stdout",
     "output_type": "stream",
     "text": [
      "4.0\n"
     ]
    }
   ],
   "source": [
    "V = int (input('What Is V?')) \n",
    "I = int (input('What Is I?')) \n",
    "P = V/I\n",
    "print(P)"
   ]
  },
  {
   "cell_type": "code",
   "execution_count": 40,
   "id": "9e1db629-bf31-4867-8ef8-6d2ad3753617",
   "metadata": {},
   "outputs": [
    {
     "name": "stdin",
     "output_type": "stream",
     "text": [
      "What Is Radius? 2\n"
     ]
    },
    {
     "name": "stdout",
     "output_type": "stream",
     "text": [
      "12.56\n"
     ]
    }
   ],
   "source": [
    "r = int (input('What Is Radius?')) \n",
    "P = 2*(3.14)*r\n",
    "print(P)"
   ]
  },
  {
   "cell_type": "code",
   "execution_count": 42,
   "id": "3921cad6-29b1-45c7-a95d-7a7348b11e6e",
   "metadata": {},
   "outputs": [
    {
     "name": "stdin",
     "output_type": "stream",
     "text": [
      "Enter Pv 20\n",
      "What Is Radius? 3\n",
      "Enter t? 4\n"
     ]
    },
    {
     "name": "stdout",
     "output_type": "stream",
     "text": [
      "5120\n"
     ]
    }
   ],
   "source": [
    "PV = int(input('Enter Pv'))\n",
    "r = int (input('What Is Radius?')) \n",
    "t = int(input('Enter t?'))\n",
    "FV = PV*(1+r)**t\n",
    "print(FV)"
   ]
  },
  {
   "cell_type": "code",
   "execution_count": null,
   "id": "aff2c0c1-d978-4595-be3e-d56ee8cff418",
   "metadata": {},
   "outputs": [],
   "source": [
    "M = int (input('Enter M?')) \n",
    "C = int(input('Enter ?'))"
   ]
  }
 ],
 "metadata": {
  "kernelspec": {
   "display_name": "Python [conda env:base] *",
   "language": "python",
   "name": "conda-base-py"
  },
  "language_info": {
   "codemirror_mode": {
    "name": "ipython",
    "version": 3
   },
   "file_extension": ".py",
   "mimetype": "text/x-python",
   "name": "python",
   "nbconvert_exporter": "python",
   "pygments_lexer": "ipython3",
   "version": "3.12.7"
  }
 },
 "nbformat": 4,
 "nbformat_minor": 5
}
